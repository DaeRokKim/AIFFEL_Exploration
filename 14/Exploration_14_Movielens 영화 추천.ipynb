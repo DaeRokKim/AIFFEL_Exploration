{
 "cells": [
  {
   "cell_type": "markdown",
   "id": "f2a6f502",
   "metadata": {},
   "source": [
    "# Movielens 영화 추천 실습"
   ]
  },
  {
   "cell_type": "markdown",
   "id": "46ddb105",
   "metadata": {},
   "source": [
    "MF 모델 학습 방법을 토대로 영화 추천 시스템 제작\n",
    "\n",
    "추천 시스템의 MNIST인 Movielens 데이터 사용\n",
    "\n",
    "- 유저가 영화에 평점을 매긴 데이터가 데이터 크기 별로 있다. `MovieLens 1M Dataset` 사용 권장\n",
    "- 별점 데이터는 대표적인 explicit 데이터, implicit 데이터로 간주하고 테스트해볼 수 있다.\n",
    "- 별점을 시청횟수로 해석해서 생각\n",
    "- 유저가 3점 미만으로 준 데이터는 선호하지 않는다고 가정하고 제외"
   ]
  },
  {
   "cell_type": "code",
   "execution_count": 1,
   "id": "933d4817",
   "metadata": {
    "scrolled": false
   },
   "outputs": [
    {
     "data": {
      "text/html": [
       "<div>\n",
       "<style scoped>\n",
       "    .dataframe tbody tr th:only-of-type {\n",
       "        vertical-align: middle;\n",
       "    }\n",
       "\n",
       "    .dataframe tbody tr th {\n",
       "        vertical-align: top;\n",
       "    }\n",
       "\n",
       "    .dataframe thead th {\n",
       "        text-align: right;\n",
       "    }\n",
       "</style>\n",
       "<table border=\"1\" class=\"dataframe\">\n",
       "  <thead>\n",
       "    <tr style=\"text-align: right;\">\n",
       "      <th></th>\n",
       "      <th>user_id</th>\n",
       "      <th>movie_id</th>\n",
       "      <th>ratings</th>\n",
       "      <th>timestamp</th>\n",
       "    </tr>\n",
       "  </thead>\n",
       "  <tbody>\n",
       "    <tr>\n",
       "      <th>0</th>\n",
       "      <td>1</td>\n",
       "      <td>1193</td>\n",
       "      <td>5</td>\n",
       "      <td>978300760</td>\n",
       "    </tr>\n",
       "    <tr>\n",
       "      <th>1</th>\n",
       "      <td>1</td>\n",
       "      <td>661</td>\n",
       "      <td>3</td>\n",
       "      <td>978302109</td>\n",
       "    </tr>\n",
       "    <tr>\n",
       "      <th>2</th>\n",
       "      <td>1</td>\n",
       "      <td>914</td>\n",
       "      <td>3</td>\n",
       "      <td>978301968</td>\n",
       "    </tr>\n",
       "    <tr>\n",
       "      <th>3</th>\n",
       "      <td>1</td>\n",
       "      <td>3408</td>\n",
       "      <td>4</td>\n",
       "      <td>978300275</td>\n",
       "    </tr>\n",
       "    <tr>\n",
       "      <th>4</th>\n",
       "      <td>1</td>\n",
       "      <td>2355</td>\n",
       "      <td>5</td>\n",
       "      <td>978824291</td>\n",
       "    </tr>\n",
       "  </tbody>\n",
       "</table>\n",
       "</div>"
      ],
      "text/plain": [
       "   user_id  movie_id  ratings  timestamp\n",
       "0        1      1193        5  978300760\n",
       "1        1       661        3  978302109\n",
       "2        1       914        3  978301968\n",
       "3        1      3408        4  978300275\n",
       "4        1      2355        5  978824291"
      ]
     },
     "execution_count": 1,
     "metadata": {},
     "output_type": "execute_result"
    }
   ],
   "source": [
    "import os\n",
    "import pandas as pd\n",
    "\n",
    "rating_file_path=os.getenv('HOME') + '/aiffel/recommendata_iu/data/ml-1m/ratings.dat'\n",
    "ratings_cols = ['user_id', 'movie_id', 'ratings', 'timestamp']\n",
    "ratings = pd.read_csv(rating_file_path, sep='::', names=ratings_cols, engine='python', encoding = \"ISO-8859-1\")\n",
    "orginal_data_size = len(ratings)\n",
    "ratings.head()"
   ]
  },
  {
   "cell_type": "code",
   "execution_count": 2,
   "id": "5fa1b8c5",
   "metadata": {
    "scrolled": true
   },
   "outputs": [
    {
     "data": {
      "text/html": [
       "<div>\n",
       "<style scoped>\n",
       "    .dataframe tbody tr th:only-of-type {\n",
       "        vertical-align: middle;\n",
       "    }\n",
       "\n",
       "    .dataframe tbody tr th {\n",
       "        vertical-align: top;\n",
       "    }\n",
       "\n",
       "    .dataframe thead th {\n",
       "        text-align: right;\n",
       "    }\n",
       "</style>\n",
       "<table border=\"1\" class=\"dataframe\">\n",
       "  <thead>\n",
       "    <tr style=\"text-align: right;\">\n",
       "      <th></th>\n",
       "      <th>user_id</th>\n",
       "      <th>movie_id</th>\n",
       "      <th>ratings</th>\n",
       "    </tr>\n",
       "  </thead>\n",
       "  <tbody>\n",
       "    <tr>\n",
       "      <th>0</th>\n",
       "      <td>1</td>\n",
       "      <td>1193</td>\n",
       "      <td>5</td>\n",
       "    </tr>\n",
       "    <tr>\n",
       "      <th>1</th>\n",
       "      <td>1</td>\n",
       "      <td>661</td>\n",
       "      <td>3</td>\n",
       "    </tr>\n",
       "    <tr>\n",
       "      <th>2</th>\n",
       "      <td>1</td>\n",
       "      <td>914</td>\n",
       "      <td>3</td>\n",
       "    </tr>\n",
       "    <tr>\n",
       "      <th>3</th>\n",
       "      <td>1</td>\n",
       "      <td>3408</td>\n",
       "      <td>4</td>\n",
       "    </tr>\n",
       "    <tr>\n",
       "      <th>4</th>\n",
       "      <td>1</td>\n",
       "      <td>2355</td>\n",
       "      <td>5</td>\n",
       "    </tr>\n",
       "    <tr>\n",
       "      <th>5</th>\n",
       "      <td>1</td>\n",
       "      <td>1197</td>\n",
       "      <td>3</td>\n",
       "    </tr>\n",
       "    <tr>\n",
       "      <th>6</th>\n",
       "      <td>1</td>\n",
       "      <td>1287</td>\n",
       "      <td>5</td>\n",
       "    </tr>\n",
       "    <tr>\n",
       "      <th>7</th>\n",
       "      <td>1</td>\n",
       "      <td>2804</td>\n",
       "      <td>5</td>\n",
       "    </tr>\n",
       "    <tr>\n",
       "      <th>8</th>\n",
       "      <td>1</td>\n",
       "      <td>594</td>\n",
       "      <td>4</td>\n",
       "    </tr>\n",
       "    <tr>\n",
       "      <th>9</th>\n",
       "      <td>1</td>\n",
       "      <td>919</td>\n",
       "      <td>4</td>\n",
       "    </tr>\n",
       "  </tbody>\n",
       "</table>\n",
       "</div>"
      ],
      "text/plain": [
       "   user_id  movie_id  ratings\n",
       "0        1      1193        5\n",
       "1        1       661        3\n",
       "2        1       914        3\n",
       "3        1      3408        4\n",
       "4        1      2355        5\n",
       "5        1      1197        3\n",
       "6        1      1287        5\n",
       "7        1      2804        5\n",
       "8        1       594        4\n",
       "9        1       919        4"
      ]
     },
     "execution_count": 2,
     "metadata": {},
     "output_type": "execute_result"
    }
   ],
   "source": [
    "# 사용하는 컬럼만 남기기\n",
    "using_cols = ['user_id', 'movie_id', 'ratings']\n",
    "ratings = ratings[using_cols]\n",
    "ratings.head(10)"
   ]
  },
  {
   "cell_type": "code",
   "execution_count": 3,
   "id": "b256cfa5",
   "metadata": {},
   "outputs": [
    {
     "name": "stdout",
     "output_type": "stream",
     "text": [
      "original_data_size : 1000209, filtered_data_size : 836478\n",
      "Ratio of Remaining Data is 83.63%\n"
     ]
    }
   ],
   "source": [
    "# 3점 이상만 남긴다\n",
    "\n",
    "ratings = ratings[ratings['ratings']>=3]\n",
    "filtered_data_size = len(ratings)\n",
    "\n",
    "print(f\"original_data_size : {orginal_data_size}, filtered_data_size : {filtered_data_size}\")\n",
    "print(f\"Ratio of Remaining Data is {filtered_data_size / orginal_data_size:.2%}\")"
   ]
  },
  {
   "cell_type": "code",
   "execution_count": 4,
   "id": "611c3c8e",
   "metadata": {},
   "outputs": [],
   "source": [
    "# ratings 컬럼의 이름을 counts로 바꾼다\n",
    "ratings.rename(columns={'ratings':'counts'}, inplace=True)"
   ]
  },
  {
   "cell_type": "code",
   "execution_count": 5,
   "id": "ed391e15",
   "metadata": {},
   "outputs": [
    {
     "data": {
      "text/plain": [
       "0          5\n",
       "1          3\n",
       "2          3\n",
       "3          4\n",
       "4          5\n",
       "          ..\n",
       "1000203    3\n",
       "1000205    5\n",
       "1000206    5\n",
       "1000207    4\n",
       "1000208    4\n",
       "Name: counts, Length: 836478, dtype: int64"
      ]
     },
     "execution_count": 5,
     "metadata": {},
     "output_type": "execute_result"
    }
   ],
   "source": [
    "ratings['counts']"
   ]
  },
  {
   "cell_type": "code",
   "execution_count": 6,
   "id": "b741a20e",
   "metadata": {
    "scrolled": true
   },
   "outputs": [
    {
     "data": {
      "text/html": [
       "<div>\n",
       "<style scoped>\n",
       "    .dataframe tbody tr th:only-of-type {\n",
       "        vertical-align: middle;\n",
       "    }\n",
       "\n",
       "    .dataframe tbody tr th {\n",
       "        vertical-align: top;\n",
       "    }\n",
       "\n",
       "    .dataframe thead th {\n",
       "        text-align: right;\n",
       "    }\n",
       "</style>\n",
       "<table border=\"1\" class=\"dataframe\">\n",
       "  <thead>\n",
       "    <tr style=\"text-align: right;\">\n",
       "      <th></th>\n",
       "      <th>movie_id</th>\n",
       "      <th>title</th>\n",
       "      <th>genre</th>\n",
       "    </tr>\n",
       "  </thead>\n",
       "  <tbody>\n",
       "    <tr>\n",
       "      <th>0</th>\n",
       "      <td>1</td>\n",
       "      <td>Toy Story (1995)</td>\n",
       "      <td>Animation|Children's|Comedy</td>\n",
       "    </tr>\n",
       "    <tr>\n",
       "      <th>1</th>\n",
       "      <td>2</td>\n",
       "      <td>Jumanji (1995)</td>\n",
       "      <td>Adventure|Children's|Fantasy</td>\n",
       "    </tr>\n",
       "    <tr>\n",
       "      <th>2</th>\n",
       "      <td>3</td>\n",
       "      <td>Grumpier Old Men (1995)</td>\n",
       "      <td>Comedy|Romance</td>\n",
       "    </tr>\n",
       "    <tr>\n",
       "      <th>3</th>\n",
       "      <td>4</td>\n",
       "      <td>Waiting to Exhale (1995)</td>\n",
       "      <td>Comedy|Drama</td>\n",
       "    </tr>\n",
       "    <tr>\n",
       "      <th>4</th>\n",
       "      <td>5</td>\n",
       "      <td>Father of the Bride Part II (1995)</td>\n",
       "      <td>Comedy</td>\n",
       "    </tr>\n",
       "  </tbody>\n",
       "</table>\n",
       "</div>"
      ],
      "text/plain": [
       "   movie_id                               title                         genre\n",
       "0         1                    Toy Story (1995)   Animation|Children's|Comedy\n",
       "1         2                      Jumanji (1995)  Adventure|Children's|Fantasy\n",
       "2         3             Grumpier Old Men (1995)                Comedy|Romance\n",
       "3         4            Waiting to Exhale (1995)                  Comedy|Drama\n",
       "4         5  Father of the Bride Part II (1995)                        Comedy"
      ]
     },
     "execution_count": 6,
     "metadata": {},
     "output_type": "execute_result"
    }
   ],
   "source": [
    "# 영화 제목을 보기 위해 메타 데이터를 읽어옵니다.\n",
    "movie_file_path=os.getenv('HOME') + '/aiffel/recommendata_iu/data/ml-1m/movies.dat'\n",
    "cols = ['movie_id', 'title', 'genre'] \n",
    "movies = pd.read_csv(movie_file_path, sep='::', names=cols, engine='python', encoding='ISO-8859-1')\n",
    "movies.head()"
   ]
  },
  {
   "cell_type": "code",
   "execution_count": 7,
   "id": "ef630f07",
   "metadata": {
    "scrolled": true
   },
   "outputs": [
    {
     "data": {
      "text/html": [
       "<div>\n",
       "<style scoped>\n",
       "    .dataframe tbody tr th:only-of-type {\n",
       "        vertical-align: middle;\n",
       "    }\n",
       "\n",
       "    .dataframe tbody tr th {\n",
       "        vertical-align: top;\n",
       "    }\n",
       "\n",
       "    .dataframe thead th {\n",
       "        text-align: right;\n",
       "    }\n",
       "</style>\n",
       "<table border=\"1\" class=\"dataframe\">\n",
       "  <thead>\n",
       "    <tr style=\"text-align: right;\">\n",
       "      <th></th>\n",
       "      <th>movie_id</th>\n",
       "      <th>title</th>\n",
       "      <th>genre</th>\n",
       "    </tr>\n",
       "  </thead>\n",
       "  <tbody>\n",
       "    <tr>\n",
       "      <th>0</th>\n",
       "      <td>1</td>\n",
       "      <td>toy story (1995)</td>\n",
       "      <td>animation|children's|comedy</td>\n",
       "    </tr>\n",
       "    <tr>\n",
       "      <th>1</th>\n",
       "      <td>2</td>\n",
       "      <td>jumanji (1995)</td>\n",
       "      <td>adventure|children's|fantasy</td>\n",
       "    </tr>\n",
       "    <tr>\n",
       "      <th>2</th>\n",
       "      <td>3</td>\n",
       "      <td>grumpier old men (1995)</td>\n",
       "      <td>comedy|romance</td>\n",
       "    </tr>\n",
       "    <tr>\n",
       "      <th>3</th>\n",
       "      <td>4</td>\n",
       "      <td>waiting to exhale (1995)</td>\n",
       "      <td>comedy|drama</td>\n",
       "    </tr>\n",
       "    <tr>\n",
       "      <th>4</th>\n",
       "      <td>5</td>\n",
       "      <td>father of the bride part ii (1995)</td>\n",
       "      <td>comedy</td>\n",
       "    </tr>\n",
       "    <tr>\n",
       "      <th>5</th>\n",
       "      <td>6</td>\n",
       "      <td>heat (1995)</td>\n",
       "      <td>action|crime|thriller</td>\n",
       "    </tr>\n",
       "    <tr>\n",
       "      <th>6</th>\n",
       "      <td>7</td>\n",
       "      <td>sabrina (1995)</td>\n",
       "      <td>comedy|romance</td>\n",
       "    </tr>\n",
       "    <tr>\n",
       "      <th>7</th>\n",
       "      <td>8</td>\n",
       "      <td>tom and huck (1995)</td>\n",
       "      <td>adventure|children's</td>\n",
       "    </tr>\n",
       "    <tr>\n",
       "      <th>8</th>\n",
       "      <td>9</td>\n",
       "      <td>sudden death (1995)</td>\n",
       "      <td>action</td>\n",
       "    </tr>\n",
       "    <tr>\n",
       "      <th>9</th>\n",
       "      <td>10</td>\n",
       "      <td>goldeneye (1995)</td>\n",
       "      <td>action|adventure|thriller</td>\n",
       "    </tr>\n",
       "  </tbody>\n",
       "</table>\n",
       "</div>"
      ],
      "text/plain": [
       "   movie_id                               title                         genre\n",
       "0         1                    toy story (1995)   animation|children's|comedy\n",
       "1         2                      jumanji (1995)  adventure|children's|fantasy\n",
       "2         3             grumpier old men (1995)                comedy|romance\n",
       "3         4            waiting to exhale (1995)                  comedy|drama\n",
       "4         5  father of the bride part ii (1995)                        comedy\n",
       "5         6                         heat (1995)         action|crime|thriller\n",
       "6         7                      sabrina (1995)                comedy|romance\n",
       "7         8                 tom and huck (1995)          adventure|children's\n",
       "8         9                 sudden death (1995)                        action\n",
       "9        10                    goldeneye (1995)     action|adventure|thriller"
      ]
     },
     "execution_count": 7,
     "metadata": {},
     "output_type": "execute_result"
    }
   ],
   "source": [
    "# 쉬운 검색을 위해 문자열 소문자로 변경\n",
    "movies['title'] = movies['title'].str.lower()\n",
    "movies['genre'] = movies['genre'].str.lower()\n",
    "movies.head(10)"
   ]
  },
  {
   "cell_type": "markdown",
   "id": "70233511",
   "metadata": {},
   "source": [
    "## 데이터 탐색\n",
    "- 유저 수, 영화 수, 인기 많은 영화"
   ]
  },
  {
   "cell_type": "code",
   "execution_count": 8,
   "id": "a7d29d7f",
   "metadata": {},
   "outputs": [
    {
     "data": {
      "text/html": [
       "<div>\n",
       "<style scoped>\n",
       "    .dataframe tbody tr th:only-of-type {\n",
       "        vertical-align: middle;\n",
       "    }\n",
       "\n",
       "    .dataframe tbody tr th {\n",
       "        vertical-align: top;\n",
       "    }\n",
       "\n",
       "    .dataframe thead th {\n",
       "        text-align: right;\n",
       "    }\n",
       "</style>\n",
       "<table border=\"1\" class=\"dataframe\">\n",
       "  <thead>\n",
       "    <tr style=\"text-align: right;\">\n",
       "      <th></th>\n",
       "      <th>user_id</th>\n",
       "      <th>movie_id</th>\n",
       "      <th>counts</th>\n",
       "      <th>title</th>\n",
       "      <th>genre</th>\n",
       "    </tr>\n",
       "  </thead>\n",
       "  <tbody>\n",
       "    <tr>\n",
       "      <th>0</th>\n",
       "      <td>1</td>\n",
       "      <td>1193</td>\n",
       "      <td>5</td>\n",
       "      <td>one flew over the cuckoo's nest (1975)</td>\n",
       "      <td>drama</td>\n",
       "    </tr>\n",
       "    <tr>\n",
       "      <th>1</th>\n",
       "      <td>2</td>\n",
       "      <td>1193</td>\n",
       "      <td>5</td>\n",
       "      <td>one flew over the cuckoo's nest (1975)</td>\n",
       "      <td>drama</td>\n",
       "    </tr>\n",
       "    <tr>\n",
       "      <th>2</th>\n",
       "      <td>12</td>\n",
       "      <td>1193</td>\n",
       "      <td>4</td>\n",
       "      <td>one flew over the cuckoo's nest (1975)</td>\n",
       "      <td>drama</td>\n",
       "    </tr>\n",
       "    <tr>\n",
       "      <th>3</th>\n",
       "      <td>15</td>\n",
       "      <td>1193</td>\n",
       "      <td>4</td>\n",
       "      <td>one flew over the cuckoo's nest (1975)</td>\n",
       "      <td>drama</td>\n",
       "    </tr>\n",
       "    <tr>\n",
       "      <th>4</th>\n",
       "      <td>17</td>\n",
       "      <td>1193</td>\n",
       "      <td>5</td>\n",
       "      <td>one flew over the cuckoo's nest (1975)</td>\n",
       "      <td>drama</td>\n",
       "    </tr>\n",
       "    <tr>\n",
       "      <th>5</th>\n",
       "      <td>18</td>\n",
       "      <td>1193</td>\n",
       "      <td>4</td>\n",
       "      <td>one flew over the cuckoo's nest (1975)</td>\n",
       "      <td>drama</td>\n",
       "    </tr>\n",
       "    <tr>\n",
       "      <th>6</th>\n",
       "      <td>19</td>\n",
       "      <td>1193</td>\n",
       "      <td>5</td>\n",
       "      <td>one flew over the cuckoo's nest (1975)</td>\n",
       "      <td>drama</td>\n",
       "    </tr>\n",
       "    <tr>\n",
       "      <th>7</th>\n",
       "      <td>24</td>\n",
       "      <td>1193</td>\n",
       "      <td>5</td>\n",
       "      <td>one flew over the cuckoo's nest (1975)</td>\n",
       "      <td>drama</td>\n",
       "    </tr>\n",
       "    <tr>\n",
       "      <th>8</th>\n",
       "      <td>28</td>\n",
       "      <td>1193</td>\n",
       "      <td>3</td>\n",
       "      <td>one flew over the cuckoo's nest (1975)</td>\n",
       "      <td>drama</td>\n",
       "    </tr>\n",
       "    <tr>\n",
       "      <th>9</th>\n",
       "      <td>33</td>\n",
       "      <td>1193</td>\n",
       "      <td>5</td>\n",
       "      <td>one flew over the cuckoo's nest (1975)</td>\n",
       "      <td>drama</td>\n",
       "    </tr>\n",
       "  </tbody>\n",
       "</table>\n",
       "</div>"
      ],
      "text/plain": [
       "   user_id  movie_id  counts                                   title  genre\n",
       "0        1      1193       5  one flew over the cuckoo's nest (1975)  drama\n",
       "1        2      1193       5  one flew over the cuckoo's nest (1975)  drama\n",
       "2       12      1193       4  one flew over the cuckoo's nest (1975)  drama\n",
       "3       15      1193       4  one flew over the cuckoo's nest (1975)  drama\n",
       "4       17      1193       5  one flew over the cuckoo's nest (1975)  drama\n",
       "5       18      1193       4  one flew over the cuckoo's nest (1975)  drama\n",
       "6       19      1193       5  one flew over the cuckoo's nest (1975)  drama\n",
       "7       24      1193       5  one flew over the cuckoo's nest (1975)  drama\n",
       "8       28      1193       3  one flew over the cuckoo's nest (1975)  drama\n",
       "9       33      1193       5  one flew over the cuckoo's nest (1975)  drama"
      ]
     },
     "execution_count": 8,
     "metadata": {},
     "output_type": "execute_result"
    }
   ],
   "source": [
    "# ratings, movies 병합\n",
    "data = pd.merge(ratings, movies)\n",
    "data.head(10)"
   ]
  },
  {
   "cell_type": "code",
   "execution_count": 9,
   "id": "67e73f95",
   "metadata": {},
   "outputs": [
    {
     "data": {
      "text/plain": [
       "6039"
      ]
     },
     "execution_count": 9,
     "metadata": {},
     "output_type": "execute_result"
    }
   ],
   "source": [
    "# 유저 수\n",
    "data['user_id'].nunique()"
   ]
  },
  {
   "cell_type": "code",
   "execution_count": 10,
   "id": "9cae8f1a",
   "metadata": {},
   "outputs": [
    {
     "data": {
      "text/plain": [
       "3628"
      ]
     },
     "execution_count": 10,
     "metadata": {},
     "output_type": "execute_result"
    }
   ],
   "source": [
    "# 영화 수\n",
    "data['movie_id'].nunique()"
   ]
  },
  {
   "cell_type": "markdown",
   "id": "75642a1e",
   "metadata": {},
   "source": [
    "#### pd.merge() 데이터프레임 병합\n",
    "각 데이터프레임을 각 데이터에 존재하는 고유값을 기준으로 병합할때 사용   \n",
    "`pd.merge(df_left, df_right, how='inner', on=None)`"
   ]
  },
  {
   "cell_type": "code",
   "execution_count": 11,
   "id": "cdc17ab7",
   "metadata": {
    "scrolled": false
   },
   "outputs": [
    {
     "data": {
      "text/plain": [
       "title\n",
       "american beauty (1999)                                   3211\n",
       "star wars: episode iv - a new hope (1977)                2910\n",
       "star wars: episode v - the empire strikes back (1980)    2885\n",
       "star wars: episode vi - return of the jedi (1983)        2716\n",
       "saving private ryan (1998)                               2561\n",
       "terminator 2: judgment day (1991)                        2509\n",
       "silence of the lambs, the (1991)                         2498\n",
       "raiders of the lost ark (1981)                           2473\n",
       "back to the future (1985)                                2460\n",
       "matrix, the (1999)                                       2434\n",
       "jurassic park (1993)                                     2413\n",
       "sixth sense, the (1999)                                  2385\n",
       "fargo (1996)                                             2371\n",
       "braveheart (1995)                                        2314\n",
       "men in black (1997)                                      2297\n",
       "schindler's list (1993)                                  2257\n",
       "princess bride, the (1987)                               2252\n",
       "shakespeare in love (1998)                               2213\n",
       "l.a. confidential (1997)                                 2210\n",
       "shawshank redemption, the (1994)                         2194\n",
       "godfather, the (1972)                                    2167\n",
       "groundhog day (1993)                                     2121\n",
       "e.t. the extra-terrestrial (1982)                        2102\n",
       "being john malkovich (1999)                              2066\n",
       "ghostbusters (1984)                                      2051\n",
       "pulp fiction (1994)                                      2030\n",
       "forrest gump (1994)                                      2022\n",
       "terminator, the (1984)                                   2019\n",
       "toy story (1995)                                         2000\n",
       "fugitive, the (1993)                                     1941\n",
       "Name: user_id, dtype: int64"
      ]
     },
     "execution_count": 11,
     "metadata": {},
     "output_type": "execute_result"
    }
   ],
   "source": [
    "# 인기 많은 영화 30개\n",
    "movie_count = data.groupby('title')['user_id'].count()\n",
    "movie_count.sort_values(ascending=False).head(30)"
   ]
  },
  {
   "cell_type": "code",
   "execution_count": 12,
   "id": "bdccdcb6",
   "metadata": {
    "scrolled": true
   },
   "outputs": [
    {
     "data": {
      "text/plain": [
       "genre\n",
       "drama                               99388\n",
       "comedy                              94264\n",
       "comedy|drama                        36871\n",
       "comedy|romance                      35888\n",
       "drama|romance                       24835\n",
       "action|thriller                     22675\n",
       "drama|thriller                      16133\n",
       "horror                              15260\n",
       "thriller                            14925\n",
       "action|adventure|sci-fi             14277\n",
       "drama|war                           13766\n",
       "action|sci-fi|thriller              11657\n",
       "action|drama|war                    11316\n",
       "crime|drama                         10960\n",
       "action|sci-fi                       10594\n",
       "action                               9930\n",
       "comedy|drama|romance                 9804\n",
       "action|adventure                     8744\n",
       "action|drama                         8611\n",
       "comedy|sci-fi                        7797\n",
       "comedy|horror                        7523\n",
       "animation|children's                 7461\n",
       "animation|children's|musical         7237\n",
       "animation|children's|comedy          7141\n",
       "crime|thriller                       6713\n",
       "action|crime|drama                   6325\n",
       "action|adventure|sci-fi|thriller     6274\n",
       "children's|comedy                    6203\n",
       "horror|thriller                      6149\n",
       "drama|romance|war                    6056\n",
       "Name: user_id, dtype: int64"
      ]
     },
     "execution_count": 12,
     "metadata": {},
     "output_type": "execute_result"
    }
   ],
   "source": [
    "# 인기 많은 영화 장르 30개\n",
    "movie_count = data.groupby('genre')['user_id'].count()\n",
    "movie_count.sort_values(ascending=False).head(30)"
   ]
  },
  {
   "cell_type": "markdown",
   "id": "aaead0d6",
   "metadata": {},
   "source": [
    "## 선호하는 영화 5가지 골라 ratings에 추가"
   ]
  },
  {
   "cell_type": "code",
   "execution_count": 13,
   "id": "21654db5",
   "metadata": {},
   "outputs": [
    {
     "data": {
      "text/html": [
       "<div>\n",
       "<style scoped>\n",
       "    .dataframe tbody tr th:only-of-type {\n",
       "        vertical-align: middle;\n",
       "    }\n",
       "\n",
       "    .dataframe tbody tr th {\n",
       "        vertical-align: top;\n",
       "    }\n",
       "\n",
       "    .dataframe thead th {\n",
       "        text-align: right;\n",
       "    }\n",
       "</style>\n",
       "<table border=\"1\" class=\"dataframe\">\n",
       "  <thead>\n",
       "    <tr style=\"text-align: right;\">\n",
       "      <th></th>\n",
       "      <th>user_id</th>\n",
       "      <th>movie_id</th>\n",
       "      <th>counts</th>\n",
       "      <th>title</th>\n",
       "      <th>genre</th>\n",
       "    </tr>\n",
       "  </thead>\n",
       "  <tbody>\n",
       "    <tr>\n",
       "      <th>836473</th>\n",
       "      <td>5851</td>\n",
       "      <td>3607.0</td>\n",
       "      <td>5</td>\n",
       "      <td>one little indian (1973)</td>\n",
       "      <td>comedy|drama|western</td>\n",
       "    </tr>\n",
       "    <tr>\n",
       "      <th>836474</th>\n",
       "      <td>5854</td>\n",
       "      <td>3026.0</td>\n",
       "      <td>4</td>\n",
       "      <td>slaughterhouse (1987)</td>\n",
       "      <td>horror</td>\n",
       "    </tr>\n",
       "    <tr>\n",
       "      <th>836475</th>\n",
       "      <td>5854</td>\n",
       "      <td>690.0</td>\n",
       "      <td>3</td>\n",
       "      <td>promise, the (versprechen, das) (1994)</td>\n",
       "      <td>romance</td>\n",
       "    </tr>\n",
       "    <tr>\n",
       "      <th>836476</th>\n",
       "      <td>5938</td>\n",
       "      <td>2909.0</td>\n",
       "      <td>4</td>\n",
       "      <td>five wives, three secretaries and me (1998)</td>\n",
       "      <td>documentary</td>\n",
       "    </tr>\n",
       "    <tr>\n",
       "      <th>836477</th>\n",
       "      <td>5948</td>\n",
       "      <td>1360.0</td>\n",
       "      <td>5</td>\n",
       "      <td>identification of a woman (identificazione di ...</td>\n",
       "      <td>drama</td>\n",
       "    </tr>\n",
       "    <tr>\n",
       "      <th>0</th>\n",
       "      <td>rok</td>\n",
       "      <td>NaN</td>\n",
       "      <td>10</td>\n",
       "      <td>lord of the rings, the (1978)</td>\n",
       "      <td>NaN</td>\n",
       "    </tr>\n",
       "    <tr>\n",
       "      <th>1</th>\n",
       "      <td>rok</td>\n",
       "      <td>NaN</td>\n",
       "      <td>10</td>\n",
       "      <td>wizard of oz, the (1942)</td>\n",
       "      <td>NaN</td>\n",
       "    </tr>\n",
       "    <tr>\n",
       "      <th>2</th>\n",
       "      <td>rok</td>\n",
       "      <td>NaN</td>\n",
       "      <td>10</td>\n",
       "      <td>casablanca (1942)</td>\n",
       "      <td>NaN</td>\n",
       "    </tr>\n",
       "    <tr>\n",
       "      <th>3</th>\n",
       "      <td>rok</td>\n",
       "      <td>NaN</td>\n",
       "      <td>10</td>\n",
       "      <td>titanic (1997)</td>\n",
       "      <td>NaN</td>\n",
       "    </tr>\n",
       "    <tr>\n",
       "      <th>4</th>\n",
       "      <td>rok</td>\n",
       "      <td>NaN</td>\n",
       "      <td>10</td>\n",
       "      <td>die hard (1988)</td>\n",
       "      <td>NaN</td>\n",
       "    </tr>\n",
       "  </tbody>\n",
       "</table>\n",
       "</div>"
      ],
      "text/plain": [
       "       user_id  movie_id  counts  \\\n",
       "836473    5851    3607.0       5   \n",
       "836474    5854    3026.0       4   \n",
       "836475    5854     690.0       3   \n",
       "836476    5938    2909.0       4   \n",
       "836477    5948    1360.0       5   \n",
       "0          rok       NaN      10   \n",
       "1          rok       NaN      10   \n",
       "2          rok       NaN      10   \n",
       "3          rok       NaN      10   \n",
       "4          rok       NaN      10   \n",
       "\n",
       "                                                    title  \\\n",
       "836473                           one little indian (1973)   \n",
       "836474                              slaughterhouse (1987)   \n",
       "836475             promise, the (versprechen, das) (1994)   \n",
       "836476        five wives, three secretaries and me (1998)   \n",
       "836477  identification of a woman (identificazione di ...   \n",
       "0                           lord of the rings, the (1978)   \n",
       "1                                wizard of oz, the (1942)   \n",
       "2                                       casablanca (1942)   \n",
       "3                                          titanic (1997)   \n",
       "4                                         die hard (1988)   \n",
       "\n",
       "                       genre  \n",
       "836473  comedy|drama|western  \n",
       "836474                horror  \n",
       "836475               romance  \n",
       "836476           documentary  \n",
       "836477                 drama  \n",
       "0                        NaN  \n",
       "1                        NaN  \n",
       "2                        NaN  \n",
       "3                        NaN  \n",
       "4                        NaN  "
      ]
     },
     "execution_count": 13,
     "metadata": {},
     "output_type": "execute_result"
    }
   ],
   "source": [
    "my_favorite = ['lord of the rings, the (1978)', 'wizard of oz, the (1942)', 'casablanca (1942)', 'titanic (1997)', 'die hard (1988)']\n",
    "\n",
    "# 'rok'이라는 user_id가 영화를 10회씩 들었다고 가정\n",
    "my_playlist = pd.DataFrame({'user_id' : ['rok']*5, 'title' : my_favorite, 'counts' : [10]*5})\n",
    "\n",
    "# user_id에 'rok' 데이터가 없으면 my_favorite 데이터 추가\n",
    "if not data.isin({'user_id' : ['rok']})['user_id'].any():\n",
    "    data = data.append(my_playlist)\n",
    "    \n",
    "data.tail(10)"
   ]
  },
  {
   "cell_type": "markdown",
   "id": "6fa9756c",
   "metadata": {},
   "source": [
    "## 결측치 있는 컬럼 제거\n",
    "\n",
    "이거 안해줘서 중간에 값이 이상하게 나왔다"
   ]
  },
  {
   "cell_type": "code",
   "execution_count": 14,
   "id": "dbe90814",
   "metadata": {
    "scrolled": true
   },
   "outputs": [
    {
     "data": {
      "text/html": [
       "<div>\n",
       "<style scoped>\n",
       "    .dataframe tbody tr th:only-of-type {\n",
       "        vertical-align: middle;\n",
       "    }\n",
       "\n",
       "    .dataframe tbody tr th {\n",
       "        vertical-align: top;\n",
       "    }\n",
       "\n",
       "    .dataframe thead th {\n",
       "        text-align: right;\n",
       "    }\n",
       "</style>\n",
       "<table border=\"1\" class=\"dataframe\">\n",
       "  <thead>\n",
       "    <tr style=\"text-align: right;\">\n",
       "      <th></th>\n",
       "      <th>user_id</th>\n",
       "      <th>counts</th>\n",
       "      <th>title</th>\n",
       "    </tr>\n",
       "  </thead>\n",
       "  <tbody>\n",
       "    <tr>\n",
       "      <th>836473</th>\n",
       "      <td>5851</td>\n",
       "      <td>5</td>\n",
       "      <td>one little indian (1973)</td>\n",
       "    </tr>\n",
       "    <tr>\n",
       "      <th>836474</th>\n",
       "      <td>5854</td>\n",
       "      <td>4</td>\n",
       "      <td>slaughterhouse (1987)</td>\n",
       "    </tr>\n",
       "    <tr>\n",
       "      <th>836475</th>\n",
       "      <td>5854</td>\n",
       "      <td>3</td>\n",
       "      <td>promise, the (versprechen, das) (1994)</td>\n",
       "    </tr>\n",
       "    <tr>\n",
       "      <th>836476</th>\n",
       "      <td>5938</td>\n",
       "      <td>4</td>\n",
       "      <td>five wives, three secretaries and me (1998)</td>\n",
       "    </tr>\n",
       "    <tr>\n",
       "      <th>836477</th>\n",
       "      <td>5948</td>\n",
       "      <td>5</td>\n",
       "      <td>identification of a woman (identificazione di ...</td>\n",
       "    </tr>\n",
       "    <tr>\n",
       "      <th>0</th>\n",
       "      <td>rok</td>\n",
       "      <td>10</td>\n",
       "      <td>lord of the rings, the (1978)</td>\n",
       "    </tr>\n",
       "    <tr>\n",
       "      <th>1</th>\n",
       "      <td>rok</td>\n",
       "      <td>10</td>\n",
       "      <td>wizard of oz, the (1942)</td>\n",
       "    </tr>\n",
       "    <tr>\n",
       "      <th>2</th>\n",
       "      <td>rok</td>\n",
       "      <td>10</td>\n",
       "      <td>casablanca (1942)</td>\n",
       "    </tr>\n",
       "    <tr>\n",
       "      <th>3</th>\n",
       "      <td>rok</td>\n",
       "      <td>10</td>\n",
       "      <td>titanic (1997)</td>\n",
       "    </tr>\n",
       "    <tr>\n",
       "      <th>4</th>\n",
       "      <td>rok</td>\n",
       "      <td>10</td>\n",
       "      <td>die hard (1988)</td>\n",
       "    </tr>\n",
       "  </tbody>\n",
       "</table>\n",
       "</div>"
      ],
      "text/plain": [
       "       user_id  counts                                              title\n",
       "836473    5851       5                           one little indian (1973)\n",
       "836474    5854       4                              slaughterhouse (1987)\n",
       "836475    5854       3             promise, the (versprechen, das) (1994)\n",
       "836476    5938       4        five wives, three secretaries and me (1998)\n",
       "836477    5948       5  identification of a woman (identificazione di ...\n",
       "0          rok      10                      lord of the rings, the (1978)\n",
       "1          rok      10                           wizard of oz, the (1942)\n",
       "2          rok      10                                  casablanca (1942)\n",
       "3          rok      10                                     titanic (1997)\n",
       "4          rok      10                                    die hard (1988)"
      ]
     },
     "execution_count": 14,
     "metadata": {},
     "output_type": "execute_result"
    }
   ],
   "source": [
    "using_cols = ['user_id', 'counts', 'title']\n",
    "data = data[using_cols]\n",
    "data.tail(10)"
   ]
  },
  {
   "cell_type": "code",
   "execution_count": 15,
   "id": "afd88301",
   "metadata": {},
   "outputs": [],
   "source": [
    "# 고유한 유저, 영화제목 찾아내는 코드\n",
    "user_unique = data['user_id'].unique()\n",
    "title_unique = data['title'].unique()\n",
    "\n",
    "# 유저, 아티스트 indexing 하는 코드\n",
    "user_to_idx = {v:k for k,v in enumerate(user_unique)}\n",
    "title_to_idx = {v:k for k,v in enumerate(title_unique)}"
   ]
  },
  {
   "cell_type": "code",
   "execution_count": 16,
   "id": "9c9861a2",
   "metadata": {},
   "outputs": [
    {
     "name": "stdout",
     "output_type": "stream",
     "text": [
      "6039\n",
      "27\n"
     ]
    }
   ],
   "source": [
    "# 인덱싱 잘 됐는지 확인\n",
    "print(user_to_idx['rok'])\n",
    "print(title_to_idx['titanic (1997)'])"
   ]
  },
  {
   "cell_type": "code",
   "execution_count": 17,
   "id": "f325d1c5",
   "metadata": {
    "scrolled": true
   },
   "outputs": [
    {
     "name": "stdout",
     "output_type": "stream",
     "text": [
      "user_id column indexing OK!!\n",
      "title column indexing OK!!\n"
     ]
    },
    {
     "data": {
      "text/html": [
       "<div>\n",
       "<style scoped>\n",
       "    .dataframe tbody tr th:only-of-type {\n",
       "        vertical-align: middle;\n",
       "    }\n",
       "\n",
       "    .dataframe tbody tr th {\n",
       "        vertical-align: top;\n",
       "    }\n",
       "\n",
       "    .dataframe thead th {\n",
       "        text-align: right;\n",
       "    }\n",
       "</style>\n",
       "<table border=\"1\" class=\"dataframe\">\n",
       "  <thead>\n",
       "    <tr style=\"text-align: right;\">\n",
       "      <th></th>\n",
       "      <th>user_id</th>\n",
       "      <th>counts</th>\n",
       "      <th>title</th>\n",
       "    </tr>\n",
       "  </thead>\n",
       "  <tbody>\n",
       "    <tr>\n",
       "      <th>0</th>\n",
       "      <td>0</td>\n",
       "      <td>5</td>\n",
       "      <td>0</td>\n",
       "    </tr>\n",
       "    <tr>\n",
       "      <th>1</th>\n",
       "      <td>1</td>\n",
       "      <td>5</td>\n",
       "      <td>0</td>\n",
       "    </tr>\n",
       "    <tr>\n",
       "      <th>2</th>\n",
       "      <td>2</td>\n",
       "      <td>4</td>\n",
       "      <td>0</td>\n",
       "    </tr>\n",
       "    <tr>\n",
       "      <th>3</th>\n",
       "      <td>3</td>\n",
       "      <td>4</td>\n",
       "      <td>0</td>\n",
       "    </tr>\n",
       "    <tr>\n",
       "      <th>4</th>\n",
       "      <td>4</td>\n",
       "      <td>5</td>\n",
       "      <td>0</td>\n",
       "    </tr>\n",
       "    <tr>\n",
       "      <th>...</th>\n",
       "      <td>...</td>\n",
       "      <td>...</td>\n",
       "      <td>...</td>\n",
       "    </tr>\n",
       "    <tr>\n",
       "      <th>0</th>\n",
       "      <td>6039</td>\n",
       "      <td>10</td>\n",
       "      <td>926</td>\n",
       "    </tr>\n",
       "    <tr>\n",
       "      <th>1</th>\n",
       "      <td>6039</td>\n",
       "      <td>10</td>\n",
       "      <td>3628</td>\n",
       "    </tr>\n",
       "    <tr>\n",
       "      <th>2</th>\n",
       "      <td>6039</td>\n",
       "      <td>10</td>\n",
       "      <td>361</td>\n",
       "    </tr>\n",
       "    <tr>\n",
       "      <th>3</th>\n",
       "      <td>6039</td>\n",
       "      <td>10</td>\n",
       "      <td>27</td>\n",
       "    </tr>\n",
       "    <tr>\n",
       "      <th>4</th>\n",
       "      <td>6039</td>\n",
       "      <td>10</td>\n",
       "      <td>194</td>\n",
       "    </tr>\n",
       "  </tbody>\n",
       "</table>\n",
       "<p>836483 rows × 3 columns</p>\n",
       "</div>"
      ],
      "text/plain": [
       "    user_id  counts  title\n",
       "0         0       5      0\n",
       "1         1       5      0\n",
       "2         2       4      0\n",
       "3         3       4      0\n",
       "4         4       5      0\n",
       "..      ...     ...    ...\n",
       "0      6039      10    926\n",
       "1      6039      10   3628\n",
       "2      6039      10    361\n",
       "3      6039      10     27\n",
       "4      6039      10    194\n",
       "\n",
       "[836483 rows x 3 columns]"
      ]
     },
     "execution_count": 17,
     "metadata": {},
     "output_type": "execute_result"
    }
   ],
   "source": [
    "# indexing을 통해 데이터 컬럼 내 값을 바꾸는 코드\n",
    "# dictionary 자료형의 get 함수는 https://wikidocs.net/16 을 참고하세요.\n",
    "\n",
    "# user_to_idx.get을 통해 user_id 컬럼의 모든 값을 인덱싱한 Series를 구해 봅시다. \n",
    "# 혹시 정상적으로 인덱싱되지 않은 row가 있다면 인덱스가 NaN이 될 테니 dropna()로 제거합니다. \n",
    "temp_user_data = data['user_id'].map(user_to_idx.get).dropna()\n",
    "if len(temp_user_data) == len(data):   # 모든 row가 정상적으로 인덱싱되었다면\n",
    "    print('user_id column indexing OK!!')\n",
    "    data['user_id'] = temp_user_data   # data['user_id']을 인덱싱된 Series로 교체해 줍니다. \n",
    "else:\n",
    "    print('user_id column indexing Fail!!')\n",
    "\n",
    "# artist_to_idx을 통해 artist 컬럼도 동일한 방식으로 인덱싱해 줍니다. \n",
    "temp_title_data = data['title'].map(title_to_idx.get).dropna()\n",
    "if len(temp_title_data) == len(data):\n",
    "    print('title column indexing OK!!')\n",
    "    data['title'] = temp_title_data\n",
    "else:\n",
    "    print('title column indexing Fail!!')\n",
    "\n",
    "data"
   ]
  },
  {
   "cell_type": "markdown",
   "id": "bbe4b275",
   "metadata": {},
   "source": [
    "### 1회만 counts한 데이터 비율 확인"
   ]
  },
  {
   "cell_type": "code",
   "execution_count": 18,
   "id": "d3509c70",
   "metadata": {},
   "outputs": [
    {
     "name": "stdout",
     "output_type": "stream",
     "text": [
      "0,836483\n",
      "Ratio of only_one over all data is 0.00%\n"
     ]
    }
   ],
   "source": [
    "# 1회만 play한 데이터의 비율을 보는 코드\n",
    "only_one = data[data['counts']<2]\n",
    "one, all_data = len(only_one), len(data)\n",
    "print(f'{one},{all_data}')\n",
    "print(f'Ratio of only_one over all data is {one/all_data:.2%}')  # f-format에 대한 설명은 https://bit.ly/2DTLqYU"
   ]
  },
  {
   "cell_type": "markdown",
   "id": "c3fac361",
   "metadata": {},
   "source": [
    "영화를 한번만 본 사람은 없는 것 같다."
   ]
  },
  {
   "cell_type": "markdown",
   "id": "dc78c69b",
   "metadata": {},
   "source": [
    "## CSR Matrix 만들기"
   ]
  },
  {
   "cell_type": "code",
   "execution_count": 19,
   "id": "39bd6e8e",
   "metadata": {},
   "outputs": [
    {
     "data": {
      "text/plain": [
       "<6040x3629 sparse matrix of type '<class 'numpy.int64'>'\n",
       "\twith 836483 stored elements in Compressed Sparse Row format>"
      ]
     },
     "execution_count": 19,
     "metadata": {},
     "output_type": "execute_result"
    }
   ],
   "source": [
    "from scipy.sparse import csr_matrix\n",
    "\n",
    "num_user = data['user_id'].nunique()\n",
    "num_title = data['title'].nunique()\n",
    "\n",
    "csr_data = csr_matrix((data.counts, (data.user_id, data.title)), shape = (num_user, num_title))\n",
    "csr_data"
   ]
  },
  {
   "cell_type": "markdown",
   "id": "08e92ea6",
   "metadata": {},
   "source": [
    "# MF 모델 학습하기\n",
    "\n",
    "## als_model = AlternatingLeastSquares 모델 직접 구성 훈련하기"
   ]
  },
  {
   "cell_type": "code",
   "execution_count": 20,
   "id": "e2ce34a4",
   "metadata": {},
   "outputs": [],
   "source": [
    "from implicit.als import AlternatingLeastSquares\n",
    "import os\n",
    "import numpy as np\n",
    "\n",
    "# implicit 라이브러리에서 권장하고 있는 부분입니다. 학습 내용과는 무관합니다.\n",
    "os.environ['OPENBLAS_NUM_THREADS']='1'\n",
    "os.environ['KMP_DUPLICATE_LIB_OK']='True'\n",
    "os.environ['MKL_NUM_THREADS']='1'"
   ]
  },
  {
   "cell_type": "markdown",
   "id": "acc3a880",
   "metadata": {},
   "source": [
    "AlternatingLeastSquares 클래스의 __init__ 파라미터 살펴보기\n",
    "\n",
    "- factors : 유저와 아이템의 벡터를 몇 차원으로 할 것인지\n",
    "- regularization : 과적합을 방지하기 위해 정규화 값을 얼마나 사용할 것인지\n",
    "- use_gpu : GPU를 사용할 것인지\n",
    "- iterations : epochs와 같은 의미입니다. 데이터를 몇 번 반복해서 학습할 것인지\n",
    "\n",
    "1과 4를 늘릴수록 학습 데이터를 잘 학습하게 되지만 과적합의 우려가 있으니 좋은 값을 찾아야 한다."
   ]
  },
  {
   "cell_type": "code",
   "execution_count": 21,
   "id": "a466c123",
   "metadata": {},
   "outputs": [],
   "source": [
    "# Implicit AlternatingLeastSquares 모델의 선언\n",
    "als_model = AlternatingLeastSquares(factors=200, regularization=0.01, use_gpu=False, iterations=30, dtype=np.float32)"
   ]
  },
  {
   "cell_type": "code",
   "execution_count": 22,
   "id": "a50a321c",
   "metadata": {},
   "outputs": [
    {
     "data": {
      "text/plain": [
       "<3629x6040 sparse matrix of type '<class 'numpy.int64'>'\n",
       "\twith 836483 stored elements in Compressed Sparse Column format>"
      ]
     },
     "execution_count": 22,
     "metadata": {},
     "output_type": "execute_result"
    }
   ],
   "source": [
    "# als 모델은 input으로 (item X user 꼴의 matrix를 받기 때문에 Transpose해줍니다.)\n",
    "csr_data_transpose = csr_data.T\n",
    "csr_data_transpose"
   ]
  },
  {
   "cell_type": "code",
   "execution_count": 23,
   "id": "0a9bab23",
   "metadata": {},
   "outputs": [
    {
     "data": {
      "application/vnd.jupyter.widget-view+json": {
       "model_id": "a33835914c8a41d9a3e2c8f07062e933",
       "version_major": 2,
       "version_minor": 0
      },
      "text/plain": [
       "  0%|          | 0/30 [00:00<?, ?it/s]"
      ]
     },
     "metadata": {},
     "output_type": "display_data"
    }
   ],
   "source": [
    "# 모델 훈련\n",
    "als_model.fit(csr_data_transpose)"
   ]
  },
  {
   "cell_type": "markdown",
   "id": "4b69acf1",
   "metadata": {},
   "source": [
    "## 모델 학습 완료\n",
    "\n",
    "- rok 벡터와 titanic 벡터를 어떻게 만드는지\n",
    "- 두 벡터를 곱하면 어떤 값이 나오는지\n",
    "확인하기"
   ]
  },
  {
   "cell_type": "markdown",
   "id": "af7a3eb9",
   "metadata": {},
   "source": [
    "### 내가 선호하는 5가지 영화중 하나"
   ]
  },
  {
   "cell_type": "code",
   "execution_count": 24,
   "id": "3c0c7aca",
   "metadata": {},
   "outputs": [],
   "source": [
    "# 선택한 5개의 영화 중 하나의 값\n",
    "rok, titanic = user_to_idx['rok'], title_to_idx['titanic (1997)']\n",
    "rok_vector, titanic_vector = als_model.user_factors[rok], als_model.item_factors[titanic]"
   ]
  },
  {
   "cell_type": "code",
   "execution_count": 25,
   "id": "6f900ea8",
   "metadata": {},
   "outputs": [
    {
     "data": {
      "text/plain": [
       "array([-0.08260991,  0.50024956,  0.2899584 ,  0.03745965, -0.6984454 ,\n",
       "        0.3570002 ,  0.00848134, -0.47829354, -0.05693963,  0.14889297,\n",
       "       -0.20527227, -0.74494064, -0.49728063,  0.03605219,  0.10715085,\n",
       "       -1.1104555 ,  0.20613624,  0.48797065,  0.3618209 , -0.27078357,\n",
       "       -0.59227085,  0.15175064,  0.94011575, -0.16439578, -0.544866  ,\n",
       "        0.16807906,  0.4555887 , -0.07091334,  0.5191497 , -0.27933624,\n",
       "        0.61942774, -0.47792247, -0.12326884, -0.71748906, -0.2968584 ,\n",
       "       -0.21581846, -1.1081934 ,  0.13478088, -0.2990173 , -0.41091374,\n",
       "       -0.2174218 , -0.190159  , -0.2850791 , -0.87971765,  0.5130793 ,\n",
       "        0.24652572,  0.13136467,  0.32800668, -0.44164497,  0.70049864,\n",
       "        0.3877254 ,  0.14125344, -0.10737037,  0.4988822 , -0.35544345,\n",
       "       -0.11367383,  0.5430015 , -0.26747876, -0.26305443, -0.30156296,\n",
       "        0.7712116 ,  0.33706054, -0.84022325,  0.5953215 ,  0.7798872 ,\n",
       "        0.2962593 , -0.15297212,  0.04704148,  0.71660227, -0.08935487,\n",
       "        0.05445345,  0.32828945,  0.6857301 , -0.57789594,  0.10464247,\n",
       "        0.1543431 , -0.47745985,  0.39653927, -0.16571833,  0.43092686,\n",
       "        0.33928254, -0.1681841 ,  0.14504538,  0.09165474,  0.12943827,\n",
       "       -0.7412144 ,  0.74628603,  0.13166179,  0.23952766,  0.59642714,\n",
       "        0.80262053, -0.13848616,  0.04392661,  0.45771173, -0.79927486,\n",
       "       -0.80076796, -0.3037572 ,  0.2505482 , -0.44208166, -0.38720047,\n",
       "        0.33385992, -0.05334629,  0.38124633,  0.4624286 , -0.49067417,\n",
       "       -0.34866044, -0.1744528 ,  0.45304537,  0.00366537, -0.17234075,\n",
       "       -0.19394027,  0.11108486, -0.025646  , -0.29935065, -0.06635628,\n",
       "       -0.4468156 , -0.18552035,  0.04705843, -0.42471126,  0.12990814,\n",
       "       -0.402041  ,  0.09161587, -0.1577783 ,  1.0159461 ,  0.13913256,\n",
       "       -0.4325479 ,  0.09780381,  0.02575189, -0.2754088 ,  0.13063636,\n",
       "        0.04734212, -0.33641854, -0.38283306, -0.6395657 ,  0.19982961,\n",
       "       -0.28456196,  0.24441274, -0.15734626, -0.2655543 ,  0.10262917,\n",
       "       -0.01166343,  0.33346638, -0.05180789,  0.73208123,  0.18659563,\n",
       "        0.38247243, -0.40103722, -0.18017364,  0.47771096,  0.08276951,\n",
       "        0.0288031 , -0.08057087, -0.13452266,  0.42511064, -0.11952481,\n",
       "       -0.4604368 , -0.39071903, -0.23813853, -0.8367108 , -0.00888137,\n",
       "       -0.45896432,  0.20145285,  0.6758865 ,  0.12926736, -0.06618743,\n",
       "       -0.09837556,  0.1800931 , -0.14595573, -0.3659993 ,  0.02653742,\n",
       "        0.42563784, -0.11892275, -0.6298555 , -0.01067862,  0.5454596 ,\n",
       "        0.888904  , -0.50472516, -0.17609318,  0.7399454 , -0.27684733,\n",
       "        0.21937597,  0.62728584,  0.56975365, -0.540955  , -0.06785007,\n",
       "        0.01410862,  0.00150908,  0.5482577 ,  0.87479824,  0.9949473 ,\n",
       "       -0.4477384 , -0.08775427, -0.70411825, -0.5785279 , -0.20105112,\n",
       "        0.6205492 ,  0.03457696,  0.2912565 ,  0.47660378,  0.40241668],\n",
       "      dtype=float32)"
      ]
     },
     "execution_count": 25,
     "metadata": {},
     "output_type": "execute_result"
    }
   ],
   "source": [
    "rok_vector"
   ]
  },
  {
   "cell_type": "code",
   "execution_count": 26,
   "id": "ed648caa",
   "metadata": {},
   "outputs": [
    {
     "data": {
      "text/plain": [
       "array([-1.20116519e-02, -1.89928128e-03,  3.50486045e-03,  6.13449141e-03,\n",
       "        2.11259499e-02,  3.42710540e-02,  2.06934428e-03, -2.65853573e-02,\n",
       "       -2.64042523e-03, -1.64007824e-02, -2.45174896e-02,  1.45985857e-02,\n",
       "       -3.11321653e-02,  3.18529233e-02, -8.81904177e-03, -1.45344557e-02,\n",
       "        2.69001890e-02,  1.40657397e-02,  1.97727028e-02, -3.83615158e-02,\n",
       "       -7.68056605e-03,  1.43438336e-02,  4.24482785e-02, -1.07082101e-02,\n",
       "        1.47644838e-03,  3.06202676e-02,  3.40777226e-02,  6.83638230e-02,\n",
       "        1.63488574e-02, -2.09076796e-02,  3.35681103e-02,  7.87606521e-04,\n",
       "        5.17808273e-02,  3.69680040e-02,  3.25511937e-05, -1.14655085e-02,\n",
       "        2.08701845e-02,  2.64225574e-03, -3.45597044e-02, -1.68021210e-02,\n",
       "        3.18703279e-02, -8.23883153e-03,  2.31191013e-02, -1.77693237e-02,\n",
       "        3.05214562e-02,  4.61026467e-02, -1.08846202e-02,  1.70113593e-02,\n",
       "        9.12005268e-03,  5.37980981e-02, -1.58257633e-02,  3.33191790e-02,\n",
       "       -3.02788205e-02,  2.25028279e-03, -2.36592479e-02, -4.00099084e-02,\n",
       "        2.80303024e-02, -5.72306663e-03, -8.75696167e-03,  9.01819021e-03,\n",
       "        4.10159826e-02,  2.55811512e-02, -3.42732519e-02,  6.67917170e-03,\n",
       "       -3.75946914e-03,  1.66077036e-02,  3.99268838e-03, -2.81773452e-02,\n",
       "        3.82153429e-02,  8.85729678e-03, -6.03902433e-03, -7.10484758e-03,\n",
       "        7.65280565e-03, -4.17940738e-03, -4.71940404e-03,  1.84298865e-02,\n",
       "        5.98226208e-03,  1.46153793e-02,  8.15517269e-03,  4.71065380e-03,\n",
       "        1.83009040e-02, -1.62173144e-03,  2.72263214e-02,  2.24534050e-03,\n",
       "       -1.62925746e-03, -4.49954607e-02,  2.32816711e-02,  3.85186216e-03,\n",
       "        1.52767468e-02, -1.97648276e-02,  3.62080410e-02,  4.71710274e-03,\n",
       "       -9.65258630e-04,  2.22455952e-02, -1.74319856e-02, -4.01650034e-02,\n",
       "       -3.26655731e-02, -1.64287742e-02,  1.23814587e-02, -4.63923300e-03,\n",
       "        2.52859015e-02, -3.42616439e-02,  1.20456992e-02,  1.08013125e-02,\n",
       "       -1.03461053e-02, -2.45663431e-02, -3.60097131e-03,  1.93937472e-03,\n",
       "       -1.19295083e-02, -1.39865540e-02, -1.76606011e-02,  3.45417708e-02,\n",
       "       -2.98263039e-03, -2.79941987e-02,  3.42662148e-02,  1.07480800e-02,\n",
       "       -1.69584695e-02, -1.36700142e-02, -1.87294483e-02,  7.69783603e-03,\n",
       "        2.61404179e-02, -1.60432118e-03,  1.73346442e-03, -1.30399242e-02,\n",
       "       -7.85596948e-03, -1.33239320e-02,  1.96396243e-02,  1.32421905e-03,\n",
       "       -1.24614947e-02, -4.92197741e-03,  4.18301346e-03, -2.14334503e-02,\n",
       "       -1.85331888e-02, -3.76602747e-02,  1.16231004e-02,  1.60322897e-02,\n",
       "        1.52888265e-03,  9.31187999e-03,  9.72521491e-03,  1.63187832e-02,\n",
       "        9.32000298e-03,  4.27747816e-02, -5.09449188e-03,  4.31483686e-02,\n",
       "       -1.51027432e-02,  5.76034794e-03, -4.51567210e-03, -2.20679045e-02,\n",
       "       -5.40197070e-04,  5.14990315e-02,  4.65819389e-02,  2.12871917e-02,\n",
       "        2.47300807e-02,  1.44683393e-02, -5.28667727e-03, -2.51139458e-02,\n",
       "       -7.71690952e-03,  2.77619604e-02,  4.15059458e-03,  3.69791985e-02,\n",
       "        4.75291768e-03,  1.17001683e-02,  2.73625851e-02,  4.13049385e-03,\n",
       "       -5.03745722e-03,  1.25576677e-02,  1.96002312e-02,  3.60973156e-03,\n",
       "        1.20494915e-02,  4.27791253e-02, -6.68630609e-03,  3.08929733e-03,\n",
       "        1.74834728e-02, -6.11282652e-03, -2.63151480e-03,  2.91013308e-02,\n",
       "       -2.86415704e-02,  1.54318539e-02,  3.59345088e-03,  1.90978753e-03,\n",
       "        5.38659142e-03,  7.16176257e-02,  5.06143607e-02, -1.39984023e-02,\n",
       "       -1.33489736e-03, -1.53456405e-02, -8.40491150e-03,  1.40717591e-03,\n",
       "        3.48476991e-02,  2.67935507e-02, -5.91355748e-03, -3.86918709e-02,\n",
       "       -2.80926190e-02, -3.22367623e-02, -1.86641347e-02,  2.92630829e-02,\n",
       "        2.52901167e-02,  3.44369886e-03,  4.55205105e-02,  3.89874838e-02],\n",
       "      dtype=float32)"
      ]
     },
     "execution_count": 26,
     "metadata": {},
     "output_type": "execute_result"
    }
   ],
   "source": [
    "titanic_vector"
   ]
  },
  {
   "cell_type": "code",
   "execution_count": 27,
   "id": "fd2241a9",
   "metadata": {},
   "outputs": [
    {
     "data": {
      "text/plain": [
       "0.9066202"
      ]
     },
     "execution_count": 27,
     "metadata": {},
     "output_type": "execute_result"
    }
   ],
   "source": [
    "# rok과 titanic을 내적하는 코드\n",
    "np.dot(rok_vector, titanic_vector)"
   ]
  },
  {
   "cell_type": "markdown",
   "id": "45e91520",
   "metadata": {},
   "source": [
    "처음 `factors = 100`, `iterations = 15` 값을 줬을때 0.55 정도의 애매한 값이 나왔다   \n",
    "factors를 늘리거나 iterations를 늘려야 한다.  \n",
    "\n",
    "두 번째로는 두 배인 `factors = 200`, `iterations = 30` 으로 주니 0.78 정도의 값이 나온다   \n",
    "제발 과적합만 안되길"
   ]
  },
  {
   "cell_type": "markdown",
   "id": "693c8ed9",
   "metadata": {},
   "source": [
    "### 그 외의 영화"
   ]
  },
  {
   "cell_type": "code",
   "execution_count": 28,
   "id": "825c8592",
   "metadata": {},
   "outputs": [
    {
     "data": {
      "text/plain": [
       "0.009091483"
      ]
     },
     "execution_count": 28,
     "metadata": {},
     "output_type": "execute_result"
    }
   ],
   "source": [
    "sabrina = title_to_idx['sabrina (1995)']\n",
    "sabrina_vector = als_model.item_factors[sabrina]\n",
    "\n",
    "np.dot(rok_vector, sabrina_vector)"
   ]
  },
  {
   "cell_type": "markdown",
   "id": "3d60a788",
   "metadata": {},
   "source": [
    "내가 선호하는 타이타닉은 0.7752의 선호도가 나오고, 처음 보는 사브리나는 0.0090의 선호도가 나온다   \n",
    "사브리나라는 영화가 뭔지는 모르겠지만 내가 전혀 좋아하지 않는 영화인 것 같다.\n",
    "\n",
    "\n",
    "새로 돌리니까 갑자기 타이타닉 선호도가 0.9066으로 확 증가하였다........"
   ]
  },
  {
   "cell_type": "markdown",
   "id": "39332ff6",
   "metadata": {},
   "source": [
    "#### 번외\n",
    "\n",
    "다른 4개의 영화도 넣어본다"
   ]
  },
  {
   "cell_type": "code",
   "execution_count": 29,
   "id": "efcf3046",
   "metadata": {},
   "outputs": [],
   "source": [
    "# 5개 중 다른 영화 값\n",
    "lord_rings = title_to_idx['lord of the rings, the (1978)']\n",
    "lord_rings_vector = als_model.item_factors[lord_rings]\n",
    "\n",
    "casablanca = title_to_idx['casablanca (1942)']\n",
    "casablanca_vector = als_model.item_factors[casablanca]\n",
    "\n",
    "wizard_of_oz = title_to_idx['wizard of oz, the (1942)']\n",
    "wizard_of_oz_vector = als_model.item_factors[wizard_of_oz]\n",
    "\n",
    "die_hard = title_to_idx['die hard (1988)']\n",
    "die_hard_vector = als_model.item_factors[die_hard]"
   ]
  },
  {
   "cell_type": "code",
   "execution_count": 30,
   "id": "636e97a0",
   "metadata": {},
   "outputs": [
    {
     "data": {
      "text/plain": [
       "0.49853024"
      ]
     },
     "execution_count": 30,
     "metadata": {},
     "output_type": "execute_result"
    }
   ],
   "source": [
    "np.dot(rok_vector, lord_rings_vector)"
   ]
  },
  {
   "cell_type": "code",
   "execution_count": 31,
   "id": "3510b201",
   "metadata": {},
   "outputs": [
    {
     "data": {
      "text/plain": [
       "0.88974375"
      ]
     },
     "execution_count": 31,
     "metadata": {},
     "output_type": "execute_result"
    }
   ],
   "source": [
    "np.dot(rok_vector, casablanca_vector)"
   ]
  },
  {
   "cell_type": "code",
   "execution_count": 32,
   "id": "bf956aef",
   "metadata": {},
   "outputs": [
    {
     "data": {
      "text/plain": [
       "0.05098418"
      ]
     },
     "execution_count": 32,
     "metadata": {},
     "output_type": "execute_result"
    }
   ],
   "source": [
    "np.dot(rok_vector, wizard_of_oz_vector)"
   ]
  },
  {
   "cell_type": "code",
   "execution_count": 33,
   "id": "f17193e6",
   "metadata": {
    "scrolled": true
   },
   "outputs": [
    {
     "data": {
      "text/plain": [
       "0.6639509"
      ]
     },
     "execution_count": 33,
     "metadata": {},
     "output_type": "execute_result"
    }
   ],
   "source": [
    "np.dot(rok_vector, die_hard_vector)"
   ]
  },
  {
   "cell_type": "markdown",
   "id": "38647a82",
   "metadata": {},
   "source": [
    "내가 선호하는 영화들을 값으로 넣었을때   \n",
    "\n",
    "- 반지의 제왕 : 0.49853024 \n",
    "- 타이타닉 : 0.9066202\n",
    "- 카사블랑카 : 0.88974375\n",
    "- 오즈의 마법사 : 0.05098418\n",
    "- 다이하드 : 0.6639509\n",
    "\n",
    "처음에 선호하는 영화로 지정한 영화들의 백터 내적값을 계산했는데  \n",
    "이상하게 오즈의 마법사가 전혀 선호하지 않을 정도의 값이 나왔다   \n",
    "왜 그런지 모르겠다.\n"
   ]
  },
  {
   "cell_type": "markdown",
   "id": "13eed21b",
   "metadata": {},
   "source": [
    "# 비슷한 영화 찾기 + 영화 추천하기\n",
    "\n",
    "## 비슷한 영화 찾기"
   ]
  },
  {
   "cell_type": "code",
   "execution_count": 34,
   "id": "ee1831b7",
   "metadata": {},
   "outputs": [
    {
     "data": {
      "text/plain": [
       "[(194, 0.9999999),\n",
       " (200, 0.5900671),\n",
       " (172, 0.49998263),\n",
       " (141, 0.43336654),\n",
       " (111, 0.42643186),\n",
       " (3628, 0.4231267),\n",
       " (865, 0.41076973),\n",
       " (57, 0.4063325),\n",
       " (131, 0.3773443),\n",
       " (651, 0.35329282),\n",
       " (120, 0.34238514),\n",
       " (199, 0.33905423),\n",
       " (3169, 0.33573824),\n",
       " (1091, 0.33524194),\n",
       " (137, 0.3347607)]"
      ]
     },
     "execution_count": 34,
     "metadata": {},
     "output_type": "execute_result"
    }
   ],
   "source": [
    "# 처음엔 내가 추가한 die hard로 확인\n",
    "favorite_movie = 'die hard (1988)'\n",
    "movie_id = title_to_idx[favorite_movie]\n",
    "similar_movie = als_model.similar_items(movie_id, N=15)\n",
    "similar_movie"
   ]
  },
  {
   "cell_type": "code",
   "execution_count": 35,
   "id": "37bcaf9c",
   "metadata": {},
   "outputs": [
    {
     "data": {
      "text/plain": [
       "['die hard (1988)',\n",
       " 'terminator, the (1984)',\n",
       " 'indiana jones and the last crusade (1989)',\n",
       " 'fugitive, the (1993)',\n",
       " 'die hard 2 (1990)',\n",
       " 'wizard of oz, the (1942)',\n",
       " 'predator (1987)',\n",
       " 'untouchables, the (1987)',\n",
       " 'rocky (1976)',\n",
       " 'aliens (1986)',\n",
       " 'raiders of the lost ark (1981)',\n",
       " 'goldfinger (1964)',\n",
       " 'mr. & mrs. smith (1941)',\n",
       " 'no way out (1987)',\n",
       " 'die hard: with a vengeance (1995)']"
      ]
     },
     "execution_count": 35,
     "metadata": {},
     "output_type": "execute_result"
    }
   ],
   "source": [
    "# 영화 Id를 영화 이름으로 매핑\n",
    "# title_to_idx를 뒤집어, index로 title이름 얻는 dict 생성\n",
    "idx_to_title = {v:k for k,v in title_to_idx.items()}\n",
    "[idx_to_title[i[0]] for i in similar_movie]"
   ]
  },
  {
   "cell_type": "code",
   "execution_count": 36,
   "id": "6cf69c5a",
   "metadata": {},
   "outputs": [],
   "source": [
    "def get_similar_movie(movie_name: str):\n",
    "    movie_id = title_to_idx[movie_name]\n",
    "    similar_movie = als_model.similar_items(movie_id)\n",
    "    similar_movie = [idx_to_title[i[0]] for i in similar_movie]\n",
    "    return similar_movie"
   ]
  },
  {
   "cell_type": "code",
   "execution_count": 37,
   "id": "4be94732",
   "metadata": {},
   "outputs": [
    {
     "data": {
      "text/plain": [
       "['titanic (1997)',\n",
       " 'wizard of oz, the (1942)',\n",
       " \"you've got mail (1998)\",\n",
       " 'ever after: a cinderella story (1998)',\n",
       " 'walking dead, the (1995)',\n",
       " 'city of angels (1998)',\n",
       " 'hot spot, the (1990)',\n",
       " 'funeral, the (1996)',\n",
       " 'saragossa manuscript, the (rekopis znaleziony w saragossie) (1965)',\n",
       " 'ghost (1990)']"
      ]
     },
     "execution_count": 37,
     "metadata": {},
     "output_type": "execute_result"
    }
   ],
   "source": [
    "get_similar_movie('titanic (1997)')"
   ]
  },
  {
   "cell_type": "code",
   "execution_count": 38,
   "id": "72e282ff",
   "metadata": {},
   "outputs": [
    {
     "data": {
      "text/plain": [
       "['rocky (1976)',\n",
       " 'rocky ii (1979)',\n",
       " 'kramer vs. kramer (1979)',\n",
       " 'rocky iii (1982)',\n",
       " 'die hard (1988)',\n",
       " 'french connection, the (1971)',\n",
       " 'jaws (1975)',\n",
       " 'rocky iv (1985)',\n",
       " 'goldfinger (1964)',\n",
       " 'rocky v (1990)']"
      ]
     },
     "execution_count": 38,
     "metadata": {},
     "output_type": "execute_result"
    }
   ],
   "source": [
    "get_similar_movie('rocky (1976)')"
   ]
  },
  {
   "cell_type": "code",
   "execution_count": 39,
   "id": "6262d67b",
   "metadata": {},
   "outputs": [
    {
     "data": {
      "text/plain": [
       "['matrix, the (1999)',\n",
       " 'terminator 2: judgment day (1991)',\n",
       " 'terminator, the (1984)',\n",
       " 'total recall (1990)',\n",
       " 'fugitive, the (1993)',\n",
       " 'face/off (1997)',\n",
       " 'fifth element, the (1997)',\n",
       " 'running free (2000)',\n",
       " 'star wars: episode v - the empire strikes back (1980)',\n",
       " 'surviving picasso (1996)']"
      ]
     },
     "execution_count": 39,
     "metadata": {},
     "output_type": "execute_result"
    }
   ],
   "source": [
    "get_similar_movie('matrix, the (1999)')"
   ]
  },
  {
   "cell_type": "markdown",
   "id": "9824883b",
   "metadata": {},
   "source": [
    "전체적으로 비슷한 장르의 영화들로 구성된 영화들이 잘 나오는 것 같다."
   ]
  },
  {
   "cell_type": "markdown",
   "id": "571385bb",
   "metadata": {},
   "source": [
    "## 내가 가장좋아할 만한 영화 추천 받기"
   ]
  },
  {
   "cell_type": "code",
   "execution_count": 40,
   "id": "3657323a",
   "metadata": {},
   "outputs": [
    {
     "data": {
      "text/plain": [
       "[(988, 0.34820744),\n",
       " (200, 0.3386907),\n",
       " (656, 0.2848193),\n",
       " (865, 0.27668938),\n",
       " (172, 0.27518222),\n",
       " (120, 0.24363217),\n",
       " (141, 0.23255563),\n",
       " (126, 0.22248152),\n",
       " (704, 0.22014204),\n",
       " (601, 0.21868485),\n",
       " (993, 0.21068604),\n",
       " (1194, 0.20786002),\n",
       " (746, 0.19234547),\n",
       " (38, 0.18727806),\n",
       " (169, 0.182957),\n",
       " (291, 0.18143693),\n",
       " (1124, 0.18056974),\n",
       " (651, 0.1793052),\n",
       " (1042, 0.17522462),\n",
       " (731, 0.16641885)]"
      ]
     },
     "execution_count": 40,
     "metadata": {},
     "output_type": "execute_result"
    }
   ],
   "source": [
    "user = user_to_idx['rok']\n",
    "# recommend에서는 user*item CSR Matrix를 받습니다.\n",
    "movie_recommended = als_model.recommend(user, csr_data, N=20, filter_already_liked_items=True)\n",
    "movie_recommended                                        "
   ]
  },
  {
   "cell_type": "code",
   "execution_count": 41,
   "id": "dce13dc2",
   "metadata": {},
   "outputs": [
    {
     "data": {
      "text/plain": [
       "['glory (1989)',\n",
       " 'terminator, the (1984)',\n",
       " 'african queen, the (1951)',\n",
       " 'predator (1987)',\n",
       " 'indiana jones and the last crusade (1989)',\n",
       " 'raiders of the lost ark (1981)',\n",
       " 'fugitive, the (1993)',\n",
       " 'shakespeare in love (1998)',\n",
       " 'tron (1982)',\n",
       " 'citizen kane (1941)',\n",
       " 'shining, the (1980)',\n",
       " 'fatal attraction (1987)',\n",
       " 'perfect storm, the (2000)',\n",
       " 'sixth sense, the (1999)',\n",
       " 'fish called wanda, a (1988)',\n",
       " 'maltese falcon, the (1941)',\n",
       " 'body heat (1981)',\n",
       " 'aliens (1986)',\n",
       " 'beavis and butt-head do america (1996)',\n",
       " 'hoop dreams (1994)']"
      ]
     },
     "execution_count": 41,
     "metadata": {},
     "output_type": "execute_result"
    }
   ],
   "source": [
    "[idx_to_title[i[0]] for i in movie_recommended]"
   ]
  },
  {
   "cell_type": "code",
   "execution_count": 42,
   "id": "45580169",
   "metadata": {},
   "outputs": [
    {
     "data": {
      "text/plain": [
       "[('die hard (1988)', 0.33978285608572834),\n",
       " ('casablanca (1942)', 0.019958243176262533),\n",
       " ('titanic (1997)', 0.008969564789502536),\n",
       " ('wizard of oz, the (1942)', 0.002066048847132604),\n",
       " ('lord of the rings, the (1978)', -0.03521917361774604)]"
      ]
     },
     "execution_count": 42,
     "metadata": {},
     "output_type": "execute_result"
    }
   ],
   "source": [
    "terminator = title_to_idx['terminator, the (1984)']\n",
    "explain = als_model.explain(user, csr_data, itemid=terminator)\n",
    "[(idx_to_title[i[0]], i[1]) for i in explain[1]]"
   ]
  },
  {
   "cell_type": "code",
   "execution_count": 43,
   "id": "c159a4af",
   "metadata": {},
   "outputs": [
    {
     "data": {
      "text/plain": [
       "[('casablanca (1942)', 0.19041058276199588),\n",
       " ('lord of the rings, the (1978)', 0.04824728061012504),\n",
       " ('titanic (1997)', 0.01239534565281674),\n",
       " ('wizard of oz, the (1942)', 0.0023458373452093536),\n",
       " ('die hard (1988)', -0.036744396059182664)]"
      ]
     },
     "execution_count": 43,
     "metadata": {},
     "output_type": "execute_result"
    }
   ],
   "source": [
    "citizen_kane = title_to_idx['citizen kane (1941)']\n",
    "explain = als_model.explain(user, csr_data, itemid=citizen_kane)\n",
    "[(idx_to_title[i[0]], i[1]) for i in explain[1]]"
   ]
  },
  {
   "cell_type": "code",
   "execution_count": 44,
   "id": "8408c05e",
   "metadata": {},
   "outputs": [
    {
     "data": {
      "text/plain": [
       "[('die hard (1988)', 0.1171527706298893),\n",
       " ('lord of the rings, the (1978)', 0.0652387608735027),\n",
       " ('titanic (1997)', 0.039860479524128786),\n",
       " ('wizard of oz, the (1942)', 0.0018417917279293272),\n",
       " ('casablanca (1942)', -0.04045085545643748)]"
      ]
     },
     "execution_count": 44,
     "metadata": {},
     "output_type": "execute_result"
    }
   ],
   "source": [
    "sixth_sense = title_to_idx['sixth sense, the (1999)']\n",
    "explain = als_model.explain(user, csr_data, itemid=sixth_sense)\n",
    "[(idx_to_title[i[0]], i[1]) for i in explain[1]]"
   ]
  },
  {
   "cell_type": "markdown",
   "id": "044dce28",
   "metadata": {},
   "source": [
    "각각 \n",
    "터미네이터는 다이하드에서  \n",
    "시민 케인은 카사블랑카에서   \n",
    "식스센스는 다이하드와 타이타닉이 가장 높은 영향을 미친 것을 알 수 있다."
   ]
  },
  {
   "cell_type": "markdown",
   "id": "92451b30",
   "metadata": {},
   "source": [
    "# 더 다양하게 파라미터 변경해보기\n",
    "\n",
    "### 한 3개 정도만 더 해본다, 배수로 진행"
   ]
  },
  {
   "cell_type": "code",
   "execution_count": 45,
   "id": "ce9ccee8",
   "metadata": {},
   "outputs": [
    {
     "data": {
      "application/vnd.jupyter.widget-view+json": {
       "model_id": "2e326f197bfd447d94697417d64c282f",
       "version_major": 2,
       "version_minor": 0
      },
      "text/plain": [
       "  0%|          | 0/120 [00:00<?, ?it/s]"
      ]
     },
     "metadata": {},
     "output_type": "display_data"
    }
   ],
   "source": [
    "# Implicit AlternatingLeastSquares 모델의 선언\n",
    "als_model = AlternatingLeastSquares(factors=800, regularization=0.01, use_gpu=False, iterations=120, dtype=np.float32)\n",
    "\n",
    "# als 모델은 input으로 (item X user 꼴의 matrix를 받기 때문에 Transpose해줍니다.)\n",
    "csr_data_transpose = csr_data.T\n",
    "csr_data_transpose\n",
    "\n",
    "# 모델 훈련\n",
    "als_model.fit(csr_data_transpose)"
   ]
  },
  {
   "cell_type": "code",
   "execution_count": 46,
   "id": "a1ee1337",
   "metadata": {},
   "outputs": [
    {
     "data": {
      "text/plain": [
       "0.9939665"
      ]
     },
     "execution_count": 46,
     "metadata": {},
     "output_type": "execute_result"
    }
   ],
   "source": [
    "# 선택한 5개의 영화 중 하나의 값\n",
    "rok, titanic = user_to_idx['rok'], title_to_idx['titanic (1997)']\n",
    "rok_vector, titanic_vector = als_model.user_factors[rok], als_model.item_factors[titanic]\n",
    "\n",
    "# rok과 titanic을 내적하는 코드\n",
    "np.dot(rok_vector, titanic_vector)"
   ]
  },
  {
   "cell_type": "markdown",
   "id": "a61cb37e",
   "metadata": {},
   "source": [
    "- factors = 200, iterations = 30, 내적값 = 0.7752002   \n",
    "- factors = 400, iterations = 60, 내적값 = 0.90778905   \n",
    "- factors = 800, iterations = 120, 내적값 = 0.96866477  \n",
    "\n",
    "\n",
    "확실히 파라미터를 높일 수록 좋은 값이 나오는 것을 확인할 수 있다.   \n",
    "그렇다면 파라미터를 변경한 이후  \n",
    "선호하지 않는 영화의 선호도, 비슷한 영화 추천, 내가 가장 좋아할만한 영화 추천을 확인해보자\n",
    "\n",
    "위 값은 처음 돌렸을때의 파라미터 변화값으로 마지막으로 전체 코드를 한번 더 돌리니 선호도 수치가 크게 상승하였다.    \n",
    "- factors = 200, iterations = 30, 내적값 = 0.9066202   \n",
    "- factors = 800, iterations = 120, 내적값 = 0.9939665\n"
   ]
  },
  {
   "cell_type": "markdown",
   "id": "59498692",
   "metadata": {},
   "source": [
    "### 선호하지 않는 영화의 선호도 (파라미터 변경)"
   ]
  },
  {
   "cell_type": "code",
   "execution_count": 47,
   "id": "e2dfe328",
   "metadata": {},
   "outputs": [
    {
     "data": {
      "text/plain": [
       "-0.054766625"
      ]
     },
     "execution_count": 47,
     "metadata": {},
     "output_type": "execute_result"
    }
   ],
   "source": [
    "sabrina = title_to_idx['sabrina (1995)']\n",
    "sabrina_vector = als_model.item_factors[sabrina]\n",
    "\n",
    "np.dot(rok_vector, sabrina_vector)"
   ]
  },
  {
   "cell_type": "markdown",
   "id": "27a4b08f",
   "metadata": {},
   "source": [
    "### 비슷한 영화 추천 (파라미터 변경)"
   ]
  },
  {
   "cell_type": "code",
   "execution_count": 48,
   "id": "695a1c91",
   "metadata": {},
   "outputs": [
    {
     "data": {
      "text/plain": [
       "['titanic (1997)',\n",
       " 'wizard of oz, the (1942)',\n",
       " 'walking dead, the (1995)',\n",
       " 'paris, france (1993)',\n",
       " 'held up (2000)',\n",
       " 'gay deceivers, the (1969)',\n",
       " 'falling in love again (1980)',\n",
       " 'carnosaur 2 (1995)',\n",
       " 'full speed (1996)',\n",
       " 'jerry & tom (1998)']"
      ]
     },
     "execution_count": 48,
     "metadata": {},
     "output_type": "execute_result"
    }
   ],
   "source": [
    "get_similar_movie('titanic (1997)')"
   ]
  },
  {
   "cell_type": "code",
   "execution_count": 49,
   "id": "739a04bb",
   "metadata": {
    "scrolled": true
   },
   "outputs": [
    {
     "data": {
      "text/plain": [
       "['rocky (1976)',\n",
       " 'rocky ii (1979)',\n",
       " 'one little indian (1973)',\n",
       " 'jerry & tom (1998)',\n",
       " 'power 98 (1995)',\n",
       " 'talk of angels (1998)',\n",
       " 'everything relative (1996)',\n",
       " 'fausto (1993)',\n",
       " 'yankee zulu (1994)',\n",
       " 'allnighter, the (1987)']"
      ]
     },
     "execution_count": 49,
     "metadata": {},
     "output_type": "execute_result"
    }
   ],
   "source": [
    "get_similar_movie('rocky (1976)')"
   ]
  },
  {
   "cell_type": "code",
   "execution_count": 50,
   "id": "6dda0376",
   "metadata": {},
   "outputs": [
    {
     "data": {
      "text/plain": [
       "['matrix, the (1999)',\n",
       " 'running free (2000)',\n",
       " 'second jungle book: mowgli & baloo, the (1997)',\n",
       " 'theodore rex (1995)',\n",
       " 'search for one-eye jimmy, the (1996)',\n",
       " 'sunchaser, the (1996)',\n",
       " 'love, etc. (1996)',\n",
       " 'jerry & tom (1998)',\n",
       " 'tough and deadly (1995)',\n",
       " 'paris was a woman (1995)']"
      ]
     },
     "execution_count": 50,
     "metadata": {},
     "output_type": "execute_result"
    }
   ],
   "source": [
    "get_similar_movie('matrix, the (1999)')"
   ]
  },
  {
   "cell_type": "markdown",
   "id": "00fb3130",
   "metadata": {},
   "source": [
    "### 내가 좋아할 만한 영화 추천 (파라미터 변경)\n"
   ]
  },
  {
   "cell_type": "code",
   "execution_count": 51,
   "id": "843d628e",
   "metadata": {},
   "outputs": [
    {
     "data": {
      "text/plain": [
       "['black cauldron, the (1985)',\n",
       " 'henry v (1989)',\n",
       " 'swiss family robinson (1960)',\n",
       " 'sleeping beauty (1959)',\n",
       " 'heavy metal (1981)',\n",
       " 'for love of the game (1999)',\n",
       " 'black hole, the (1979)',\n",
       " 'ladyhawke (1985)',\n",
       " 'mickey blue eyes (1999)',\n",
       " 'star trek: the motion picture (1979)',\n",
       " 'to catch a thief (1955)',\n",
       " 'simon birch (1998)',\n",
       " 'timecop (1994)',\n",
       " 'shining, the (1980)',\n",
       " 'keeping the faith (2000)',\n",
       " 'first blood (1982)',\n",
       " 'tommy boy (1995)',\n",
       " 'jungle book, the (1994)',\n",
       " 'predator 2 (1990)',\n",
       " 'manchurian candidate, the (1962)']"
      ]
     },
     "execution_count": 51,
     "metadata": {},
     "output_type": "execute_result"
    }
   ],
   "source": [
    "user = user_to_idx['rok']\n",
    "# recommend에서는 user*item CSR Matrix를 받습니다.\n",
    "movie_recommended = als_model.recommend(user, csr_data, N=20, filter_already_liked_items=True)\n",
    "movie_recommended     \n",
    "\n",
    "[idx_to_title[i[0]] for i in movie_recommended]"
   ]
  },
  {
   "cell_type": "markdown",
   "id": "24d520e2",
   "metadata": {},
   "source": [
    "#### 영화 추천의 기여도 확인 (파라미터 변경)"
   ]
  },
  {
   "cell_type": "code",
   "execution_count": 52,
   "id": "edd4b641",
   "metadata": {},
   "outputs": [
    {
     "data": {
      "text/plain": [
       "[('die hard (1988)', 0.07421644215590009),\n",
       " ('titanic (1997)', 0.011322861043994402),\n",
       " ('casablanca (1942)', -0.0008763221863855586),\n",
       " ('wizard of oz, the (1942)', -0.015525224948570917),\n",
       " ('lord of the rings, the (1978)', -0.03713861647737528)]"
      ]
     },
     "execution_count": 52,
     "metadata": {},
     "output_type": "execute_result"
    }
   ],
   "source": [
    "terminator = title_to_idx['terminator, the (1984)']\n",
    "explain = als_model.explain(user, csr_data, itemid=terminator)\n",
    "[(idx_to_title[i[0]], i[1]) for i in explain[1]]"
   ]
  },
  {
   "cell_type": "code",
   "execution_count": 53,
   "id": "d449f06c",
   "metadata": {},
   "outputs": [
    {
     "data": {
      "text/plain": [
       "[('die hard (1988)', 0.010251442536804996),\n",
       " ('titanic (1997)', 0.0097310803479195),\n",
       " ('casablanca (1942)', 0.0022592636491411064),\n",
       " ('lord of the rings, the (1978)', -0.0012185285483732374),\n",
       " ('wizard of oz, the (1942)', -0.010769794582603997)]"
      ]
     },
     "execution_count": 53,
     "metadata": {},
     "output_type": "execute_result"
    }
   ],
   "source": [
    "sixth_sense = title_to_idx['sixth sense, the (1999)']\n",
    "explain = als_model.explain(user, csr_data, itemid=sixth_sense)\n",
    "[(idx_to_title[i[0]], i[1]) for i in explain[1]]"
   ]
  },
  {
   "cell_type": "markdown",
   "id": "88cff150",
   "metadata": {},
   "source": [
    "# 회고\n",
    "\n"
   ]
  },
  {
   "cell_type": "markdown",
   "id": "204ce70d",
   "metadata": {},
   "source": [
    "#### 타이타닉\n",
    "\n",
    "| 파라미터 변경 전 | 파라미터 변경 후 |\n",
    "| :-----: | :--------: |\n",
    "| wizard of oz, the (1942) | wizard of oz, the (1942) |\n",
    "| you've got mail (1998) | walking dead, the (1995) |\n",
    "| ever after: a cinderella story (1998) | paris, france (1993) |\n",
    "| walking dead, the (1995) | held up (2000) |\n",
    "| city of angels (1998) | gay deceivers, the (1969) |\n"
   ]
  },
  {
   "cell_type": "markdown",
   "id": "1c7f0872",
   "metadata": {},
   "source": [
    "#### 로키\n",
    "\n",
    "\n",
    "| 파라미터 변경 전 | 파라미터 변경 후 |\n",
    "| :-----: | :--------: |\n",
    "| rocky ii (1979) | rocky ii (1979) |\n",
    "| kramer vs. kramer (1979) | one little indian (1973) |\n",
    "| rocky iii (1982) | jerry & tom (1998) |\n",
    "| die hard (1988) | power 98 (1995) |\n",
    "| french connection, the (1971) | talk of angels (1998) |"
   ]
  },
  {
   "cell_type": "markdown",
   "id": "c5ec30ef",
   "metadata": {},
   "source": [
    "#### 매트릭스\n",
    "\n",
    "| 파라미터 변경 전 | 파라미터 변경 후 |\n",
    "| :-----: | :--------: |\n",
    "| terminator 2: judgment day (1991) | running free (2000) |\n",
    "| terminator, the (1984) | second jungle book: mowgli & baloo, the (1997) |\n",
    "| total recall (1990) | theodore rex (1995) |\n",
    "| fugitive, the (1993) | search for one-eye jimmy, the (1996) |\n",
    "| face/off (1997) | sunchaser, the (1996) |\n"
   ]
  },
  {
   "cell_type": "markdown",
   "id": "71ef37b4",
   "metadata": {},
   "source": [
    "#### 유저 추천 영화\n",
    "\n",
    "| 파라미터 변경 전 | 파라미터 변경 후 |\n",
    "| :-----: | :--------: |\n",
    "| glory (1989) | black cauldron, the (1985) |\n",
    "| terminator, the (1984) | henry v (1989) |\n",
    "| african queen, the (1951) | swiss family robinson (1960) |\n",
    "| predator (1987) | sleeping beauty (1959) |\n",
    "| indiana jones and the last crusade (1989) | heavy metal (1981) |"
   ]
  },
  {
   "cell_type": "markdown",
   "id": "666c9368",
   "metadata": {},
   "source": [
    "위 표는 파라미터를 높이기 전과 후를 비교해본 값이다\n",
    "\n",
    "파라미터 변경 전에는 전체적으로 비슷한 영화를 추천해주는 것을 볼 수 있지만    \n",
    "파라미터 변경 후에는 전혀 생뚱맞은 장르도 맞지않는 영화를 추천해준다.\n",
    "\n",
    "이는 과적합으로 의심이 된다 데이터셋에 너무 적용되서 오히려 정확도가 더 떨어졌다\n",
    "\n",
    "솔직히 파라미터를 높이면서 너무 높은게 아닌가 고민을 하긴 했지만 정말로 너무 별로인 결과를 알 수 있다.\n",
    "\n",
    "그리고 파라미터를 변경하기 전에도 높은 값이 나오기 때문에 적절하다고 볼 수 있다.\n"
   ]
  },
  {
   "cell_type": "code",
   "execution_count": null,
   "id": "d781e5b0",
   "metadata": {},
   "outputs": [],
   "source": []
  }
 ],
 "metadata": {
  "kernelspec": {
   "display_name": "Python 3 (ipykernel)",
   "language": "python",
   "name": "python3"
  },
  "language_info": {
   "codemirror_mode": {
    "name": "ipython",
    "version": 3
   },
   "file_extension": ".py",
   "mimetype": "text/x-python",
   "name": "python",
   "nbconvert_exporter": "python",
   "pygments_lexer": "ipython3",
   "version": "3.9.7"
  }
 },
 "nbformat": 4,
 "nbformat_minor": 5
}
