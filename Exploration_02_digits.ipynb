{
 "cells": [
  {
   "cell_type": "code",
   "execution_count": 1,
   "id": "43cace6f",
   "metadata": {
    "scrolled": true
   },
   "outputs": [
    {
     "name": "stdout",
     "output_type": "stream",
     "text": [
      "[0 1 2 3 4 5 6 7 8 9]\n"
     ]
    }
   ],
   "source": [
    "from sklearn.datasets import load_digits\n",
    "from sklearn.model_selection import train_test_split\n",
    "from sklearn.metrics import classification_report\n",
    "from sklearn.metrics import accuracy_score\n",
    "from sklearn.metrics import confusion_matrix # confusion_matrix는 데이터를 평가할 때 사용하는 오차행렬\n",
    "\n",
    "digits = load_digits() # 데이터 불러오기\n",
    "digits_data = digits.data # data 지정\n",
    "digits_label = digits.target # target 지정\n",
    "print(digits.target_names) # target_names 출력하기\n",
    "\n"
   ]
  },
  {
   "cell_type": "code",
   "execution_count": 2,
   "id": "e7978a27",
   "metadata": {},
   "outputs": [],
   "source": [
    "x_train, x_test, y_train, y_test = train_test_split(digits_data, digits_label, test_size=0.3, random_state=10)"
   ]
  },
  {
   "cell_type": "markdown",
   "id": "d676865d",
   "metadata": {},
   "source": [
    "## 다양한 모델로 학습하기 + 평가하기(정확도, 오차행렬)\n",
    "\n",
    "### Decision Tree"
   ]
  },
  {
   "cell_type": "code",
   "execution_count": 20,
   "id": "7882b305",
   "metadata": {
    "scrolled": true
   },
   "outputs": [
    {
     "name": "stdout",
     "output_type": "stream",
     "text": [
      "[[48  1  0  0  1  0  0  0  1  0]\n",
      " [ 0 44  3  3  1  0  0  2  4  0]\n",
      " [ 0  1 48  3  2  0  0  1  0  0]\n",
      " [ 0  1  5 47  1  0  1  0  0  1]\n",
      " [ 0  5  0  0 38  5  1  0  1  1]\n",
      " [ 0  0  1  0  4 43  1  0  0  2]\n",
      " [ 1  0  0  1  2  1 50  0  0  0]\n",
      " [ 0  0  0  1  4  0  1 52  0  2]\n",
      " [ 1  3  4  2  1  1  0  1 35  2]\n",
      " [ 0  0  2  3  0  0  0  2  3 44]]\n",
      "              precision    recall  f1-score   support\n",
      "\n",
      "           0       0.96      0.94      0.95        51\n",
      "           1       0.80      0.77      0.79        57\n",
      "           2       0.76      0.87      0.81        55\n",
      "           3       0.78      0.84      0.81        56\n",
      "           4       0.70      0.75      0.72        51\n",
      "           5       0.86      0.84      0.85        51\n",
      "           6       0.93      0.91      0.92        55\n",
      "           7       0.90      0.87      0.88        60\n",
      "           8       0.80      0.70      0.74        50\n",
      "           9       0.85      0.81      0.83        54\n",
      "\n",
      "    accuracy                           0.83       540\n",
      "   macro avg       0.83      0.83      0.83       540\n",
      "weighted avg       0.83      0.83      0.83       540\n",
      "\n",
      "accuracy :  0.8314814814814815\n"
     ]
    }
   ],
   "source": [
    "from sklearn.tree import DecisionTreeClassifier\n",
    "\n",
    "decision_tree = DecisionTreeClassifier(random_state=54)\n",
    "decision_tree.fit(x_train, y_train)\n",
    "y_pred = decision_tree.predict(x_test)\n",
    "\n",
    "print(confusion_matrix(y_test, y_pred))\n",
    "\n",
    "print(classification_report(y_test, y_pred))\n",
    "print(\"accuracy : \",accuracy_score(y_test, y_pred))"
   ]
  },
  {
   "cell_type": "markdown",
   "id": "fd2aa1ad",
   "metadata": {},
   "source": [
    "### Random Forest"
   ]
  },
  {
   "cell_type": "code",
   "execution_count": 21,
   "id": "1abc3ddf",
   "metadata": {
    "scrolled": true
   },
   "outputs": [
    {
     "name": "stdout",
     "output_type": "stream",
     "text": [
      "[[50  0  0  0  1  0  0  0  0  0]\n",
      " [ 0 56  0  0  0  1  0  0  0  0]\n",
      " [ 0  0 55  0  0  0  0  0  0  0]\n",
      " [ 0  0  0 55  0  0  0  0  1  0]\n",
      " [ 0  0  0  0 49  0  0  1  1  0]\n",
      " [ 0  0  0  0  0 51  0  0  0  0]\n",
      " [ 1  1  0  0  0  0 53  0  0  0]\n",
      " [ 0  0  0  0  1  0  0 59  0  0]\n",
      " [ 0  2  1  1  0  1  0  0 44  1]\n",
      " [ 0  0  0  1  0  1  0  2  0 50]]\n",
      "              precision    recall  f1-score   support\n",
      "\n",
      "           0       0.98      0.98      0.98        51\n",
      "           1       0.95      0.98      0.97        57\n",
      "           2       0.98      1.00      0.99        55\n",
      "           3       0.96      0.98      0.97        56\n",
      "           4       0.96      0.96      0.96        51\n",
      "           5       0.94      1.00      0.97        51\n",
      "           6       1.00      0.96      0.98        55\n",
      "           7       0.95      0.98      0.97        60\n",
      "           8       0.96      0.88      0.92        50\n",
      "           9       0.98      0.93      0.95        54\n",
      "\n",
      "    accuracy                           0.97       540\n",
      "   macro avg       0.97      0.97      0.97       540\n",
      "weighted avg       0.97      0.97      0.97       540\n",
      "\n",
      "accuracy :  0.9666666666666667\n"
     ]
    }
   ],
   "source": [
    "from sklearn.ensemble import RandomForestClassifier\n",
    "\n",
    "random_forest = RandomForestClassifier(random_state=32)\n",
    "random_forest.fit(x_train, y_train)\n",
    "y_pred = random_forest.predict(x_test)\n",
    "\n",
    "print(confusion_matrix(y_test, y_pred))\n",
    "\n",
    "print(classification_report(y_test, y_pred))\n",
    "print(\"accuracy : \", accuracy_score(y_test, y_pred))"
   ]
  },
  {
   "cell_type": "markdown",
   "id": "131e2695",
   "metadata": {},
   "source": [
    "# SVM\n",
    "## Support Vector Machine"
   ]
  },
  {
   "cell_type": "code",
   "execution_count": 22,
   "id": "74616d8e",
   "metadata": {
    "scrolled": true
   },
   "outputs": [
    {
     "name": "stdout",
     "output_type": "stream",
     "text": [
      "[[50  0  0  0  1  0  0  0  0  0]\n",
      " [ 0 57  0  0  0  0  0  0  0  0]\n",
      " [ 0  0 55  0  0  0  0  0  0  0]\n",
      " [ 0  0  1 55  0  0  0  0  0  0]\n",
      " [ 0  0  0  0 49  0  0  0  2  0]\n",
      " [ 0  0  0  0  0 51  0  0  0  0]\n",
      " [ 0  0  0  0  0  0 55  0  0  0]\n",
      " [ 0  0  0  0  1  0  0 59  0  0]\n",
      " [ 0  1  0  0  0  0  0  0 48  1]\n",
      " [ 0  0  0  0  0  1  0  1  0 52]]\n",
      "              precision    recall  f1-score   support\n",
      "\n",
      "           0       1.00      0.98      0.99        51\n",
      "           1       0.98      1.00      0.99        57\n",
      "           2       0.98      1.00      0.99        55\n",
      "           3       1.00      0.98      0.99        56\n",
      "           4       0.96      0.96      0.96        51\n",
      "           5       0.98      1.00      0.99        51\n",
      "           6       1.00      1.00      1.00        55\n",
      "           7       0.98      0.98      0.98        60\n",
      "           8       0.96      0.96      0.96        50\n",
      "           9       0.98      0.96      0.97        54\n",
      "\n",
      "    accuracy                           0.98       540\n",
      "   macro avg       0.98      0.98      0.98       540\n",
      "weighted avg       0.98      0.98      0.98       540\n",
      "\n",
      "accuracy :  0.9833333333333333\n"
     ]
    }
   ],
   "source": [
    "from sklearn import svm\n",
    "svm_model = svm.SVC()\n",
    "\n",
    "svm_model.fit(x_train, y_train)\n",
    "y_pred = svm_model.predict(x_test)\n",
    "\n",
    "print(confusion_matrix(y_test, y_pred))\n",
    "\n",
    "print(classification_report(y_test, y_pred))\n",
    "print(\"accuracy : \",accuracy_score(y_test, y_pred))"
   ]
  },
  {
   "cell_type": "markdown",
   "id": "f8be8430",
   "metadata": {},
   "source": [
    "# Stochastic Gradient Descent Classifier (SGDClassifier)"
   ]
  },
  {
   "cell_type": "code",
   "execution_count": 23,
   "id": "49b42a47",
   "metadata": {
    "scrolled": true
   },
   "outputs": [
    {
     "name": "stdout",
     "output_type": "stream",
     "text": [
      "[[50  0  0  0  1  0  0  0  0  0]\n",
      " [ 0 56  0  0  1  0  0  0  0  0]\n",
      " [ 0  0 55  0  0  0  0  0  0  0]\n",
      " [ 0  0  1 53  0  2  0  0  0  0]\n",
      " [ 0  2  0  0 48  0  0  0  1  0]\n",
      " [ 0  2  0  0  0 49  0  0  0  0]\n",
      " [ 0  0  1  0  0  0 54  0  0  0]\n",
      " [ 0  0  0  0  2  0  0 58  0  0]\n",
      " [ 0 12  1  1  2  0  1  0 33  0]\n",
      " [ 0  2  0  0  1  1  0  2  1 47]]\n",
      "              precision    recall  f1-score   support\n",
      "\n",
      "           0       1.00      0.98      0.99        51\n",
      "           1       0.76      0.98      0.85        57\n",
      "           2       0.95      1.00      0.97        55\n",
      "           3       0.98      0.95      0.96        56\n",
      "           4       0.87      0.94      0.91        51\n",
      "           5       0.94      0.96      0.95        51\n",
      "           6       0.98      0.98      0.98        55\n",
      "           7       0.97      0.97      0.97        60\n",
      "           8       0.94      0.66      0.78        50\n",
      "           9       1.00      0.87      0.93        54\n",
      "\n",
      "    accuracy                           0.93       540\n",
      "   macro avg       0.94      0.93      0.93       540\n",
      "weighted avg       0.94      0.93      0.93       540\n",
      "\n",
      "accuracy :  0.9314814814814815\n"
     ]
    }
   ],
   "source": [
    "from sklearn.linear_model import SGDClassifier\n",
    "sgd_model = SGDClassifier()\n",
    "\n",
    "sgd_model.fit(x_train, y_train)\n",
    "y_pred = sgd_model.predict(x_test)\n",
    "\n",
    "print(confusion_matrix(y_test, y_pred))\n",
    "\n",
    "print(classification_report(y_test, y_pred))\n",
    "print(\"accuracy : \",accuracy_score(y_test, y_pred))"
   ]
  },
  {
   "cell_type": "markdown",
   "id": "8bfe4f11",
   "metadata": {},
   "source": [
    "# Logistic Regression"
   ]
  },
  {
   "cell_type": "code",
   "execution_count": 25,
   "id": "4eea9b4b",
   "metadata": {
    "scrolled": true
   },
   "outputs": [
    {
     "name": "stdout",
     "output_type": "stream",
     "text": [
      "[[51  0  0  0  0  0  0  0  0  0]\n",
      " [ 0 55  1  0  0  0  0  0  1  0]\n",
      " [ 0  0 55  0  0  0  0  0  0  0]\n",
      " [ 0  0  1 54  0  1  0  0  0  0]\n",
      " [ 0  2  0  0 48  0  0  0  1  0]\n",
      " [ 0  1  0  0  0 49  0  1  0  0]\n",
      " [ 0  1  0  0  0  0 54  0  0  0]\n",
      " [ 0  0  0  1  1  0  0 58  0  0]\n",
      " [ 1  0  1  1  0  0  1  0 46  0]\n",
      " [ 0  0  0  0  0  1  0  0  2 51]]\n",
      "              precision    recall  f1-score   support\n",
      "\n",
      "           0       0.98      1.00      0.99        51\n",
      "           1       0.93      0.96      0.95        57\n",
      "           2       0.95      1.00      0.97        55\n",
      "           3       0.96      0.96      0.96        56\n",
      "           4       0.98      0.94      0.96        51\n",
      "           5       0.96      0.96      0.96        51\n",
      "           6       0.98      0.98      0.98        55\n",
      "           7       0.98      0.97      0.97        60\n",
      "           8       0.92      0.92      0.92        50\n",
      "           9       1.00      0.94      0.97        54\n",
      "\n",
      "    accuracy                           0.96       540\n",
      "   macro avg       0.97      0.96      0.96       540\n",
      "weighted avg       0.97      0.96      0.96       540\n",
      "\n",
      "accuracy :  0.9648148148148148\n"
     ]
    }
   ],
   "source": [
    "from sklearn.linear_model import LogisticRegression\n",
    "# logistic_model = LogisticRegression(solver='liblinear')\n",
    "logistic_model = LogisticRegression(solver='newton-cg')\n",
    "# logistic_model = LogisticRegression(solver='saga')\n",
    "\n",
    "logistic_model.fit(x_train, y_train)\n",
    "y_pred = logistic_model.predict(x_test)\n",
    "\n",
    "print(confusion_matrix(y_test, y_pred))\n",
    "\n",
    "print(classification_report(y_test, y_pred))\n",
    "print(\"accuracy : \",accuracy_score(y_test, y_pred))"
   ]
  },
  {
   "cell_type": "markdown",
   "id": "b07dbe4d",
   "metadata": {},
   "source": [
    "# 모델 평가하기"
   ]
  },
  {
   "cell_type": "markdown",
   "id": "492c1c37",
   "metadata": {},
   "source": [
    "## 정확도(Accuracy)"
   ]
  },
  {
   "cell_type": "code",
   "execution_count": 8,
   "id": "0c63da3d",
   "metadata": {},
   "outputs": [
    {
     "data": {
      "text/plain": [
       "0.9592592592592593"
      ]
     },
     "execution_count": 8,
     "metadata": {},
     "output_type": "execute_result"
    }
   ],
   "source": [
    "from sklearn.metrics import accuracy_score\n",
    "\n",
    "accuracy = accuracy_score(y_test, y_pred)\n",
    "accuracy"
   ]
  },
  {
   "cell_type": "markdown",
   "id": "1cb08c16",
   "metadata": {},
   "source": [
    "## 오차행렬"
   ]
  },
  {
   "cell_type": "code",
   "execution_count": 10,
   "id": "685edbf9",
   "metadata": {},
   "outputs": [
    {
     "name": "stdout",
     "output_type": "stream",
     "text": [
      "[[51  0  0  0  0  0  0  0  0  0]\n",
      " [ 0 54  1  0  1  0  0  0  1  0]\n",
      " [ 0  0 55  0  0  0  0  0  0  0]\n",
      " [ 0  0  1 54  0  1  0  0  0  0]\n",
      " [ 0  2  0  0 48  0  0  0  1  0]\n",
      " [ 0  1  0  0  0 49  0  1  0  0]\n",
      " [ 0  1  0  0  0  0 54  0  0  0]\n",
      " [ 0  0  0  2  1  0  0 56  0  1]\n",
      " [ 0  1  1  1  0  0  1  0 46  0]\n",
      " [ 0  0  0  0  0  1  0  0  2 51]]\n",
      "              precision    recall  f1-score   support\n",
      "\n",
      "           0       1.00      1.00      1.00        51\n",
      "           1       0.92      0.95      0.93        57\n",
      "           2       0.95      1.00      0.97        55\n",
      "           3       0.95      0.96      0.96        56\n",
      "           4       0.96      0.94      0.95        51\n",
      "           5       0.96      0.96      0.96        51\n",
      "           6       0.98      0.98      0.98        55\n",
      "           7       0.98      0.93      0.96        60\n",
      "           8       0.92      0.92      0.92        50\n",
      "           9       0.98      0.94      0.96        54\n",
      "\n",
      "    accuracy                           0.96       540\n",
      "   macro avg       0.96      0.96      0.96       540\n",
      "weighted avg       0.96      0.96      0.96       540\n",
      "\n"
     ]
    }
   ],
   "source": [
    "from sklearn.metrics import confusion_matrix\n",
    "\n",
    "print(confusion_matrix(y_test, y_pred))\n",
    "\n",
    "print(classification_report(y_test, y_pred))\n"
   ]
  },
  {
   "cell_type": "markdown",
   "id": "7b13ecc8",
   "metadata": {},
   "source": [
    "참고 사이트\n",
    "https://blog.naver.com/PostView.nhn?blogId=wideeyed&logNo=221531940245\n",
    "https://towardsdatascience.com/accuracy-precision-recall-or-f1-331fb37c5cb9\n",
    "https://eunsukimme.github.io/ml/2019/10/21/Accuracy-Recall-Precision-F1-score/"
   ]
  },
  {
   "cell_type": "markdown",
   "id": "3713c3c6",
   "metadata": {},
   "source": [
    "# 정리\n",
    "\n",
    "digits 데이터셋의 경우 오차행렬과 정확도의 차이가 없어 정확도를 사용해도 오류가 없을 것으로 생각돼 정확도를 사용한다.\n",
    "\n",
    "- Decision Tree = 0.83\n",
    "- Random Forest = 0.96\n",
    "- SVM = 0.98\n",
    "- SGDClassifier = 0.93\n",
    "- Logistic Regression = 0.96\n",
    "으로 각 정확도가 나온다\n",
    "\n",
    "digits 데이터셋과 같은 경우 SVM(Support Vector Machine)과 조합이 괜찮은 것을 알 수 있다.\n",
    "선형분류 알고리즘은 이진 분류이지만 일대다 방법을 사용해 다중 클래스 분류 알고리즘으로 사용해 각 클래스를 다른 클래스와 구분하도록 이진 분류 모델을 학습시킨다.\n",
    "클래스의 수만큼 이진 분류 모델이 만들어지고 예측할 떄는 만들어진 모든 이진 분류기가 작동하여 가장 높은 점수의 분류기의 클래스를 예측값으로 선택한다\n",
    "\n",
    "10개의 클래스를 모두 이진 분류를 여러번 하는 학습방법이 digits에겐 알맞다\n",
    "\n",
    "단, digits의 경우 클래스의 수가 10개 밖에 안되서 선형분류를 사용해도 괜찮지만 클래스 수가 엄청나게 많아진다면 오히려 효율이 떨어질 수도 있을 것으로 예상된다.\n",
    "\n",
    "체크 : digits의 데이터를 분류하는 것이 SVM과 가장 잘 맞는지는 잘 모르겠다.\n"
   ]
  },
  {
   "cell_type": "code",
   "execution_count": 27,
   "id": "e5b7fc97",
   "metadata": {},
   "outputs": [
    {
     "name": "stdout",
     "output_type": "stream",
     "text": [
      "[0 1 2 3 4 5 6 7 8 9]\n",
      "accuracy :  0.9833333333333333\n"
     ]
    }
   ],
   "source": [
    "# 최종 코드\n",
    "\n",
    "from sklearn.datasets import load_digits\n",
    "from sklearn.model_selection import train_test_split\n",
    "from sklearn.metrics import classification_report\n",
    "from sklearn.metrics import accuracy_score\n",
    "from sklearn import svm\n",
    "\n",
    "digits = load_digits() # 데이터 불러오기\n",
    "digits_data = digits.data # data 지정\n",
    "digits_label = digits.target # target 지정\n",
    "print(digits.target_names) # target_names 출력하기\n",
    "\n",
    "x_train, x_test, y_train, y_test = train_test_split(digits_data, digits_label, test_size=0.3, random_state=10)\n",
    "\n",
    "svm_model = svm.SVC()\n",
    "\n",
    "svm_model.fit(x_train, y_train)\n",
    "y_pred = svm_model.predict(x_test)\n",
    "\n",
    "print(\"accuracy : \",accuracy_score(y_test, y_pred))"
   ]
  }
 ],
 "metadata": {
  "kernelspec": {
   "display_name": "Python 3 (ipykernel)",
   "language": "python",
   "name": "python3"
  },
  "language_info": {
   "codemirror_mode": {
    "name": "ipython",
    "version": 3
   },
   "file_extension": ".py",
   "mimetype": "text/x-python",
   "name": "python",
   "nbconvert_exporter": "python",
   "pygments_lexer": "ipython3",
   "version": "3.9.7"
  }
 },
 "nbformat": 4,
 "nbformat_minor": 5
}
