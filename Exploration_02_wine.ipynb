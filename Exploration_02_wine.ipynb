{
 "cells": [
  {
   "cell_type": "code",
   "execution_count": 1,
   "id": "e717a62e",
   "metadata": {},
   "outputs": [
    {
     "name": "stdout",
     "output_type": "stream",
     "text": [
      "['class_0' 'class_1' 'class_2']\n"
     ]
    }
   ],
   "source": [
    "from sklearn.datasets import load_wine\n",
    "from sklearn.model_selection import train_test_split\n",
    "from sklearn.metrics import classification_report\n",
    "from sklearn.metrics import accuracy_score\n",
    "from sklearn.metrics import confusion_matrix\n",
    "\n",
    "wine = load_wine()\n",
    "wine_data = wine.data\n",
    "wine_label = wine.target\n",
    "print(wine.target_names)\n",
    "\n",
    "x_train, x_test, y_train, y_test = train_test_split(wine_data, wine_label, test_size=0.3, random_state=55)\n"
   ]
  },
  {
   "cell_type": "markdown",
   "id": "a37ed2e1",
   "metadata": {},
   "source": [
    "# 다양한 모델로 학습 + 평가하기"
   ]
  },
  {
   "cell_type": "markdown",
   "id": "82cafcaf",
   "metadata": {},
   "source": [
    "## Decision Tree"
   ]
  },
  {
   "cell_type": "code",
   "execution_count": 2,
   "id": "be575e7c",
   "metadata": {},
   "outputs": [
    {
     "name": "stdout",
     "output_type": "stream",
     "text": [
      "              precision    recall  f1-score   support\n",
      "\n",
      "           0       0.86      0.92      0.89        13\n",
      "           1       0.91      0.91      0.91        23\n",
      "           2       0.94      0.89      0.91        18\n",
      "\n",
      "    accuracy                           0.91        54\n",
      "   macro avg       0.90      0.91      0.91        54\n",
      "weighted avg       0.91      0.91      0.91        54\n",
      "\n",
      "accuracy :  0.9074074074074074\n",
      "[[12  1  0]\n",
      " [ 1 21  1]\n",
      " [ 1  1 16]]\n"
     ]
    }
   ],
   "source": [
    "from sklearn.tree import DecisionTreeClassifier\n",
    "\n",
    "decision_tree=DecisionTreeClassifier(random_state=100)\n",
    "decision_tree.fit(x_train, y_train)\n",
    "y_pred = decision_tree.predict(x_test)\n",
    "\n",
    "print(classification_report(y_test, y_pred))\n",
    "print(\"accuracy : \", accuracy_score(y_test, y_pred))\n",
    "\n",
    "print(confusion_matrix(y_test, y_pred))"
   ]
  },
  {
   "cell_type": "markdown",
   "id": "5b03c739",
   "metadata": {},
   "source": [
    "## Random Forest"
   ]
  },
  {
   "cell_type": "code",
   "execution_count": 3,
   "id": "974c365b",
   "metadata": {},
   "outputs": [
    {
     "name": "stdout",
     "output_type": "stream",
     "text": [
      "              precision    recall  f1-score   support\n",
      "\n",
      "           0       0.93      1.00      0.96        13\n",
      "           1       1.00      0.96      0.98        23\n",
      "           2       1.00      1.00      1.00        18\n",
      "\n",
      "    accuracy                           0.98        54\n",
      "   macro avg       0.98      0.99      0.98        54\n",
      "weighted avg       0.98      0.98      0.98        54\n",
      "\n",
      "accuracy :  0.9814814814814815\n",
      "[[13  0  0]\n",
      " [ 1 22  0]\n",
      " [ 0  0 18]]\n"
     ]
    }
   ],
   "source": [
    "from sklearn.ensemble import RandomForestClassifier\n",
    "\n",
    "random_forest=RandomForestClassifier(random_state=23)\n",
    "random_forest.fit(x_train, y_train)\n",
    "y_pred = random_forest.predict(x_test)\n",
    "\n",
    "print(classification_report(y_test, y_pred))\n",
    "print(\"accuracy : \", accuracy_score(y_test, y_pred))\n",
    "\n",
    "print(confusion_matrix(y_test, y_pred))"
   ]
  },
  {
   "cell_type": "markdown",
   "id": "5eef76c0",
   "metadata": {},
   "source": [
    "## SVM, Support Vector Machine"
   ]
  },
  {
   "cell_type": "code",
   "execution_count": 4,
   "id": "ad2f0ed1",
   "metadata": {},
   "outputs": [
    {
     "name": "stdout",
     "output_type": "stream",
     "text": [
      "              precision    recall  f1-score   support\n",
      "\n",
      "           0       0.76      1.00      0.87        13\n",
      "           1       0.59      0.96      0.73        23\n",
      "           2       0.00      0.00      0.00        18\n",
      "\n",
      "    accuracy                           0.65        54\n",
      "   macro avg       0.45      0.65      0.53        54\n",
      "weighted avg       0.44      0.65      0.52        54\n",
      "\n",
      "accuracy :  0.6481481481481481\n",
      "[[13  0  0]\n",
      " [ 1 22  0]\n",
      " [ 3 15  0]]\n"
     ]
    },
    {
     "name": "stderr",
     "output_type": "stream",
     "text": [
      "/opt/conda/lib/python3.9/site-packages/sklearn/metrics/_classification.py:1308: UndefinedMetricWarning: Precision and F-score are ill-defined and being set to 0.0 in labels with no predicted samples. Use `zero_division` parameter to control this behavior.\n",
      "  _warn_prf(average, modifier, msg_start, len(result))\n",
      "/opt/conda/lib/python3.9/site-packages/sklearn/metrics/_classification.py:1308: UndefinedMetricWarning: Precision and F-score are ill-defined and being set to 0.0 in labels with no predicted samples. Use `zero_division` parameter to control this behavior.\n",
      "  _warn_prf(average, modifier, msg_start, len(result))\n",
      "/opt/conda/lib/python3.9/site-packages/sklearn/metrics/_classification.py:1308: UndefinedMetricWarning: Precision and F-score are ill-defined and being set to 0.0 in labels with no predicted samples. Use `zero_division` parameter to control this behavior.\n",
      "  _warn_prf(average, modifier, msg_start, len(result))\n"
     ]
    }
   ],
   "source": [
    "from sklearn import svm\n",
    "\n",
    "svm_model = svm.SVC()\n",
    "svm_model.fit(x_train, y_train)\n",
    "y_pred = svm_model.predict(x_test)\n",
    "\n",
    "print(classification_report(y_test, y_pred))\n",
    "print(\"accuracy : \", accuracy_score(y_test, y_pred))\n",
    "\n",
    "print(confusion_matrix(y_test, y_pred))"
   ]
  },
  {
   "cell_type": "markdown",
   "id": "bacea4b3",
   "metadata": {},
   "source": [
    "## SGDClassifier"
   ]
  },
  {
   "cell_type": "code",
   "execution_count": 5,
   "id": "11487ca6",
   "metadata": {
    "scrolled": true
   },
   "outputs": [
    {
     "name": "stdout",
     "output_type": "stream",
     "text": [
      "              precision    recall  f1-score   support\n",
      "\n",
      "           0       0.71      0.92      0.80        13\n",
      "           1       0.59      0.96      0.73        23\n",
      "           2       0.00      0.00      0.00        18\n",
      "\n",
      "    accuracy                           0.63        54\n",
      "   macro avg       0.43      0.63      0.51        54\n",
      "weighted avg       0.42      0.63      0.50        54\n",
      "\n",
      "accuracy :  0.6296296296296297\n",
      "[[12  1  0]\n",
      " [ 1 22  0]\n",
      " [ 4 14  0]]\n"
     ]
    }
   ],
   "source": [
    "from sklearn.linear_model import SGDClassifier\n",
    "import warnings\n",
    "\n",
    "warnings.filterwarnings('ignore')\n",
    "\n",
    "sgd_model = SGDClassifier()\n",
    "sgd_model.fit(x_train, y_train)\n",
    "y_pred = sgd_model.predict(x_test)\n",
    "\n",
    "print(classification_report(y_test, y_pred))\n",
    "print(\"accuracy : \", accuracy_score(y_test, y_pred))\n",
    "\n",
    "print(confusion_matrix(y_test, y_pred))"
   ]
  },
  {
   "cell_type": "markdown",
   "id": "a5a34196",
   "metadata": {},
   "source": [
    "경고 발생 : Precision and F-score are ill-defined and being set to 0.0 in labels with no predicted samples. Use `zero_division` parameter to control this behavior.\n",
    "\n",
    "f1-score와 관련해서 경고가 발생했다\n",
    "\n",
    "이 레이블에 대해 계산할 f점수가 없으므로 F 점수는 0.0으로 간주된다. 평균 점수를 요청 했기 때문에 점수에 0이 계산에 포함 된 것을 고려해야 한다.\n",
    "\n",
    "import warnings\n",
    "warnings.filterwarnings('ignore') \n",
    "이 모듈을 통해 경고를 나타나지 않게 할 수 있다 \n",
    "예측되지 않은 레이블의 수에 관심이 없다고 결정한 다음 원하는 레이블을 명시적으로 지정한다\n",
    "\n",
    "완벽하게 이해는 안된다"
   ]
  },
  {
   "cell_type": "markdown",
   "id": "060f3ac3",
   "metadata": {},
   "source": [
    "## LogisticRegression"
   ]
  },
  {
   "cell_type": "code",
   "execution_count": 6,
   "id": "ee0dc34e",
   "metadata": {
    "scrolled": true
   },
   "outputs": [
    {
     "name": "stdout",
     "output_type": "stream",
     "text": [
      "              precision    recall  f1-score   support\n",
      "\n",
      "           0       1.00      1.00      1.00        13\n",
      "           1       0.96      1.00      0.98        23\n",
      "           2       1.00      0.94      0.97        18\n",
      "\n",
      "    accuracy                           0.98        54\n",
      "   macro avg       0.99      0.98      0.98        54\n",
      "weighted avg       0.98      0.98      0.98        54\n",
      "\n",
      "accuracy :  0.9814814814814815\n",
      "[[13  0  0]\n",
      " [ 0 23  0]\n",
      " [ 0  1 17]]\n"
     ]
    }
   ],
   "source": [
    "from sklearn.linear_model import LogisticRegression\n",
    "\n",
    "logistic_model = LogisticRegression(solver='liblinear')\n",
    "logistic_model.fit(x_train, y_train)\n",
    "y_pred = logistic_model.predict(x_test)\n",
    "\n",
    "print(classification_report(y_test, y_pred))\n",
    "print(\"accuracy : \", accuracy_score(y_test, y_pred))\n",
    "\n",
    "print(confusion_matrix(y_test, y_pred))"
   ]
  },
  {
   "cell_type": "markdown",
   "id": "79158f2e",
   "metadata": {},
   "source": [
    "# 정리\n",
    "wine 데이터 셋의 경우 \n",
    "\n",
    "- Decision Tree = 0.90 \n",
    "- Random Forest = 1.0 \n",
    "- SVM = 0.59\n",
    "- SGDClassifier = 0.57\n",
    "- Logistic Regression = 1.0 \n",
    "으로 각 정확도가 나온다\n",
    "\n",
    "wine 데이터의 경우 Random Forest와 Logistic Regression 모델이 1.0의 신뢰도를 보이며 오버피팅인지 학습이 정말 잘 된 것인지 모르겠다.\n",
    "(= random_state의 값을 바꿔 여러번 동작해본 결과 1.0, 1.0 0.98 과 같이 높은 수치를 보인다)\n",
    "\n",
    "Random Forest는 임의의 feature를 선택할 때 선택하는 갯수는 fearture 개수가 n이라면 $\\sqrt{n}$ 개를 활용해 분류에 사용한다\n",
    "따라서 feature 데이터가 너무 적어 Random Forest가 높은 수치를 받았을지도 모르겠다.\n",
    "\n",
    "체크 : digits의 어떤 특성이 SVM과 가장 잘 맞는지는 잘 모르겠다."
   ]
  },
  {
   "cell_type": "code",
   "execution_count": null,
   "id": "2a6bda74",
   "metadata": {},
   "outputs": [],
   "source": [
    "# 최종 코드\n",
    "\n",
    "from sklearn.datasets import load_wine\n",
    "from sklearn.model_selection import train_test_split\n",
    "from sklearn.metrics import classification_report\n",
    "from sklearn.metrics import accuracy_score\n",
    "from sklearn.metrics import confusion_matrix\n",
    "from sklearn.ensemble import RandomForestClassifier\n",
    "\n",
    "wine = load_wine()\n",
    "wine_data = wine.data\n",
    "wine_label = wine.target\n",
    "print(wine.target_names)\n",
    "\n",
    "x_train, x_test, y_train, y_test = train_test_split(wine_data, wine_label, test_size=0.3, random_state=55)\n",
    "\n",
    "random_forest=RandomForestClassifier(random_state=23)\n",
    "random_forest.fit(x_train, y_train)\n",
    "y_pred = random_forest.predict(x_test)\n",
    "\n",
    "print(classification_report(y_test, y_pred))\n",
    "print(\"accuracy : \", accuracy_score(y_test, y_pred))"
   ]
  }
 ],
 "metadata": {
  "kernelspec": {
   "display_name": "Python 3 (ipykernel)",
   "language": "python",
   "name": "python3"
  },
  "language_info": {
   "codemirror_mode": {
    "name": "ipython",
    "version": 3
   },
   "file_extension": ".py",
   "mimetype": "text/x-python",
   "name": "python",
   "nbconvert_exporter": "python",
   "pygments_lexer": "ipython3",
   "version": "3.9.7"
  }
 },
 "nbformat": 4,
 "nbformat_minor": 5
}
