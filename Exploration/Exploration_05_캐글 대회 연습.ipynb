{
 "cells": [
  {
   "cell_type": "code",
   "execution_count": 1,
   "id": "a74457f4",
   "metadata": {},
   "outputs": [],
   "source": [
    "import matplotlib.pyplot as plt\n",
    "%matplotlib inline\n",
    "%config InlineBackend.figure_format = 'retina'\n"
   ]
  },
  {
   "cell_type": "code",
   "execution_count": 2,
   "id": "4e3d4ec7",
   "metadata": {},
   "outputs": [
    {
     "name": "stdout",
     "output_type": "stream",
     "text": [
      "얍💢\n"
     ]
    }
   ],
   "source": [
    "import warnings\n",
    "warnings.filterwarnings(\"ignore\")\n",
    "\n",
    "import os\n",
    "from os.path import join\n",
    "\n",
    "import pandas as pd\n",
    "import numpy as np\n",
    "\n",
    "import missingno as msno\n",
    "\n",
    "from sklearn.ensemble import GradientBoostingRegressor\n",
    "from sklearn.model_selection import KFold, cross_val_score\n",
    "import xgboost as xgb\n",
    "import lightgbm as lgb\n",
    "\n",
    "import matplotlib.pyplot as plt\n",
    "import seaborn as sns\n",
    "\n",
    "print('얍💢')"
   ]
  },
  {
   "cell_type": "code",
   "execution_count": 3,
   "id": "eb2d643b",
   "metadata": {
    "scrolled": true
   },
   "outputs": [],
   "source": [
    "data_dir = os.getenv(\"HOME\")+'/aiffel/kaggle_kakr_housing/data'\n",
    "\n",
    "train_data_path = join(data_dir, 'train.csv')\n",
    "test_data_path = join(data_dir, 'test.csv')\n",
    "\n",
    "train = pd.read_csv(train_data_path)\n",
    "test = pd.read_csv(test_data_path)"
   ]
  },
  {
   "cell_type": "code",
   "execution_count": 4,
   "id": "43509d42",
   "metadata": {
    "scrolled": true
   },
   "outputs": [
    {
     "data": {
      "text/html": [
       "<div>\n",
       "<style scoped>\n",
       "    .dataframe tbody tr th:only-of-type {\n",
       "        vertical-align: middle;\n",
       "    }\n",
       "\n",
       "    .dataframe tbody tr th {\n",
       "        vertical-align: top;\n",
       "    }\n",
       "\n",
       "    .dataframe thead th {\n",
       "        text-align: right;\n",
       "    }\n",
       "</style>\n",
       "<table border=\"1\" class=\"dataframe\">\n",
       "  <thead>\n",
       "    <tr style=\"text-align: right;\">\n",
       "      <th></th>\n",
       "      <th>id</th>\n",
       "      <th>date</th>\n",
       "      <th>price</th>\n",
       "      <th>bedrooms</th>\n",
       "      <th>bathrooms</th>\n",
       "      <th>sqft_living</th>\n",
       "      <th>sqft_lot</th>\n",
       "      <th>floors</th>\n",
       "      <th>waterfront</th>\n",
       "      <th>view</th>\n",
       "      <th>...</th>\n",
       "      <th>grade</th>\n",
       "      <th>sqft_above</th>\n",
       "      <th>sqft_basement</th>\n",
       "      <th>yr_built</th>\n",
       "      <th>yr_renovated</th>\n",
       "      <th>zipcode</th>\n",
       "      <th>lat</th>\n",
       "      <th>long</th>\n",
       "      <th>sqft_living15</th>\n",
       "      <th>sqft_lot15</th>\n",
       "    </tr>\n",
       "  </thead>\n",
       "  <tbody>\n",
       "    <tr>\n",
       "      <th>0</th>\n",
       "      <td>0</td>\n",
       "      <td>20141013T000000</td>\n",
       "      <td>221900.0</td>\n",
       "      <td>3</td>\n",
       "      <td>1.00</td>\n",
       "      <td>1180</td>\n",
       "      <td>5650</td>\n",
       "      <td>1.0</td>\n",
       "      <td>0</td>\n",
       "      <td>0</td>\n",
       "      <td>...</td>\n",
       "      <td>7</td>\n",
       "      <td>1180</td>\n",
       "      <td>0</td>\n",
       "      <td>1955</td>\n",
       "      <td>0</td>\n",
       "      <td>98178</td>\n",
       "      <td>47.5112</td>\n",
       "      <td>-122.257</td>\n",
       "      <td>1340</td>\n",
       "      <td>5650</td>\n",
       "    </tr>\n",
       "    <tr>\n",
       "      <th>1</th>\n",
       "      <td>1</td>\n",
       "      <td>20150225T000000</td>\n",
       "      <td>180000.0</td>\n",
       "      <td>2</td>\n",
       "      <td>1.00</td>\n",
       "      <td>770</td>\n",
       "      <td>10000</td>\n",
       "      <td>1.0</td>\n",
       "      <td>0</td>\n",
       "      <td>0</td>\n",
       "      <td>...</td>\n",
       "      <td>6</td>\n",
       "      <td>770</td>\n",
       "      <td>0</td>\n",
       "      <td>1933</td>\n",
       "      <td>0</td>\n",
       "      <td>98028</td>\n",
       "      <td>47.7379</td>\n",
       "      <td>-122.233</td>\n",
       "      <td>2720</td>\n",
       "      <td>8062</td>\n",
       "    </tr>\n",
       "    <tr>\n",
       "      <th>2</th>\n",
       "      <td>2</td>\n",
       "      <td>20150218T000000</td>\n",
       "      <td>510000.0</td>\n",
       "      <td>3</td>\n",
       "      <td>2.00</td>\n",
       "      <td>1680</td>\n",
       "      <td>8080</td>\n",
       "      <td>1.0</td>\n",
       "      <td>0</td>\n",
       "      <td>0</td>\n",
       "      <td>...</td>\n",
       "      <td>8</td>\n",
       "      <td>1680</td>\n",
       "      <td>0</td>\n",
       "      <td>1987</td>\n",
       "      <td>0</td>\n",
       "      <td>98074</td>\n",
       "      <td>47.6168</td>\n",
       "      <td>-122.045</td>\n",
       "      <td>1800</td>\n",
       "      <td>7503</td>\n",
       "    </tr>\n",
       "    <tr>\n",
       "      <th>3</th>\n",
       "      <td>3</td>\n",
       "      <td>20140627T000000</td>\n",
       "      <td>257500.0</td>\n",
       "      <td>3</td>\n",
       "      <td>2.25</td>\n",
       "      <td>1715</td>\n",
       "      <td>6819</td>\n",
       "      <td>2.0</td>\n",
       "      <td>0</td>\n",
       "      <td>0</td>\n",
       "      <td>...</td>\n",
       "      <td>7</td>\n",
       "      <td>1715</td>\n",
       "      <td>0</td>\n",
       "      <td>1995</td>\n",
       "      <td>0</td>\n",
       "      <td>98003</td>\n",
       "      <td>47.3097</td>\n",
       "      <td>-122.327</td>\n",
       "      <td>2238</td>\n",
       "      <td>6819</td>\n",
       "    </tr>\n",
       "    <tr>\n",
       "      <th>4</th>\n",
       "      <td>4</td>\n",
       "      <td>20150115T000000</td>\n",
       "      <td>291850.0</td>\n",
       "      <td>3</td>\n",
       "      <td>1.50</td>\n",
       "      <td>1060</td>\n",
       "      <td>9711</td>\n",
       "      <td>1.0</td>\n",
       "      <td>0</td>\n",
       "      <td>0</td>\n",
       "      <td>...</td>\n",
       "      <td>7</td>\n",
       "      <td>1060</td>\n",
       "      <td>0</td>\n",
       "      <td>1963</td>\n",
       "      <td>0</td>\n",
       "      <td>98198</td>\n",
       "      <td>47.4095</td>\n",
       "      <td>-122.315</td>\n",
       "      <td>1650</td>\n",
       "      <td>9711</td>\n",
       "    </tr>\n",
       "  </tbody>\n",
       "</table>\n",
       "<p>5 rows × 21 columns</p>\n",
       "</div>"
      ],
      "text/plain": [
       "   id             date     price  bedrooms  bathrooms  sqft_living  sqft_lot  \\\n",
       "0   0  20141013T000000  221900.0         3       1.00         1180      5650   \n",
       "1   1  20150225T000000  180000.0         2       1.00          770     10000   \n",
       "2   2  20150218T000000  510000.0         3       2.00         1680      8080   \n",
       "3   3  20140627T000000  257500.0         3       2.25         1715      6819   \n",
       "4   4  20150115T000000  291850.0         3       1.50         1060      9711   \n",
       "\n",
       "   floors  waterfront  view  ...  grade  sqft_above  sqft_basement  yr_built  \\\n",
       "0     1.0           0     0  ...      7        1180              0      1955   \n",
       "1     1.0           0     0  ...      6         770              0      1933   \n",
       "2     1.0           0     0  ...      8        1680              0      1987   \n",
       "3     2.0           0     0  ...      7        1715              0      1995   \n",
       "4     1.0           0     0  ...      7        1060              0      1963   \n",
       "\n",
       "   yr_renovated  zipcode      lat     long  sqft_living15  sqft_lot15  \n",
       "0             0    98178  47.5112 -122.257           1340        5650  \n",
       "1             0    98028  47.7379 -122.233           2720        8062  \n",
       "2             0    98074  47.6168 -122.045           1800        7503  \n",
       "3             0    98003  47.3097 -122.327           2238        6819  \n",
       "4             0    98198  47.4095 -122.315           1650        9711  \n",
       "\n",
       "[5 rows x 21 columns]"
      ]
     },
     "execution_count": 4,
     "metadata": {},
     "output_type": "execute_result"
    }
   ],
   "source": [
    "train.head()"
   ]
  },
  {
   "cell_type": "markdown",
   "id": "73511ea9",
   "metadata": {},
   "source": [
    "### 데이터 전처리 시작 \n",
    "\n",
    "date 컬럼의 하위 항목이 거슬리기 때문에 슬라이싱으로 잘라준다  \n",
    "`astype` 사용해서 int 정수형 데이터로 처리"
   ]
  },
  {
   "cell_type": "code",
   "execution_count": 5,
   "id": "1fdd889c",
   "metadata": {},
   "outputs": [
    {
     "data": {
      "text/html": [
       "<div>\n",
       "<style scoped>\n",
       "    .dataframe tbody tr th:only-of-type {\n",
       "        vertical-align: middle;\n",
       "    }\n",
       "\n",
       "    .dataframe tbody tr th {\n",
       "        vertical-align: top;\n",
       "    }\n",
       "\n",
       "    .dataframe thead th {\n",
       "        text-align: right;\n",
       "    }\n",
       "</style>\n",
       "<table border=\"1\" class=\"dataframe\">\n",
       "  <thead>\n",
       "    <tr style=\"text-align: right;\">\n",
       "      <th></th>\n",
       "      <th>id</th>\n",
       "      <th>date</th>\n",
       "      <th>price</th>\n",
       "      <th>bedrooms</th>\n",
       "      <th>bathrooms</th>\n",
       "      <th>sqft_living</th>\n",
       "      <th>sqft_lot</th>\n",
       "      <th>floors</th>\n",
       "      <th>waterfront</th>\n",
       "      <th>view</th>\n",
       "      <th>...</th>\n",
       "      <th>grade</th>\n",
       "      <th>sqft_above</th>\n",
       "      <th>sqft_basement</th>\n",
       "      <th>yr_built</th>\n",
       "      <th>yr_renovated</th>\n",
       "      <th>zipcode</th>\n",
       "      <th>lat</th>\n",
       "      <th>long</th>\n",
       "      <th>sqft_living15</th>\n",
       "      <th>sqft_lot15</th>\n",
       "    </tr>\n",
       "  </thead>\n",
       "  <tbody>\n",
       "    <tr>\n",
       "      <th>0</th>\n",
       "      <td>0</td>\n",
       "      <td>201410</td>\n",
       "      <td>221900.0</td>\n",
       "      <td>3</td>\n",
       "      <td>1.00</td>\n",
       "      <td>1180</td>\n",
       "      <td>5650</td>\n",
       "      <td>1.0</td>\n",
       "      <td>0</td>\n",
       "      <td>0</td>\n",
       "      <td>...</td>\n",
       "      <td>7</td>\n",
       "      <td>1180</td>\n",
       "      <td>0</td>\n",
       "      <td>1955</td>\n",
       "      <td>0</td>\n",
       "      <td>98178</td>\n",
       "      <td>47.5112</td>\n",
       "      <td>-122.257</td>\n",
       "      <td>1340</td>\n",
       "      <td>5650</td>\n",
       "    </tr>\n",
       "    <tr>\n",
       "      <th>1</th>\n",
       "      <td>1</td>\n",
       "      <td>201502</td>\n",
       "      <td>180000.0</td>\n",
       "      <td>2</td>\n",
       "      <td>1.00</td>\n",
       "      <td>770</td>\n",
       "      <td>10000</td>\n",
       "      <td>1.0</td>\n",
       "      <td>0</td>\n",
       "      <td>0</td>\n",
       "      <td>...</td>\n",
       "      <td>6</td>\n",
       "      <td>770</td>\n",
       "      <td>0</td>\n",
       "      <td>1933</td>\n",
       "      <td>0</td>\n",
       "      <td>98028</td>\n",
       "      <td>47.7379</td>\n",
       "      <td>-122.233</td>\n",
       "      <td>2720</td>\n",
       "      <td>8062</td>\n",
       "    </tr>\n",
       "    <tr>\n",
       "      <th>2</th>\n",
       "      <td>2</td>\n",
       "      <td>201502</td>\n",
       "      <td>510000.0</td>\n",
       "      <td>3</td>\n",
       "      <td>2.00</td>\n",
       "      <td>1680</td>\n",
       "      <td>8080</td>\n",
       "      <td>1.0</td>\n",
       "      <td>0</td>\n",
       "      <td>0</td>\n",
       "      <td>...</td>\n",
       "      <td>8</td>\n",
       "      <td>1680</td>\n",
       "      <td>0</td>\n",
       "      <td>1987</td>\n",
       "      <td>0</td>\n",
       "      <td>98074</td>\n",
       "      <td>47.6168</td>\n",
       "      <td>-122.045</td>\n",
       "      <td>1800</td>\n",
       "      <td>7503</td>\n",
       "    </tr>\n",
       "    <tr>\n",
       "      <th>3</th>\n",
       "      <td>3</td>\n",
       "      <td>201406</td>\n",
       "      <td>257500.0</td>\n",
       "      <td>3</td>\n",
       "      <td>2.25</td>\n",
       "      <td>1715</td>\n",
       "      <td>6819</td>\n",
       "      <td>2.0</td>\n",
       "      <td>0</td>\n",
       "      <td>0</td>\n",
       "      <td>...</td>\n",
       "      <td>7</td>\n",
       "      <td>1715</td>\n",
       "      <td>0</td>\n",
       "      <td>1995</td>\n",
       "      <td>0</td>\n",
       "      <td>98003</td>\n",
       "      <td>47.3097</td>\n",
       "      <td>-122.327</td>\n",
       "      <td>2238</td>\n",
       "      <td>6819</td>\n",
       "    </tr>\n",
       "    <tr>\n",
       "      <th>4</th>\n",
       "      <td>4</td>\n",
       "      <td>201501</td>\n",
       "      <td>291850.0</td>\n",
       "      <td>3</td>\n",
       "      <td>1.50</td>\n",
       "      <td>1060</td>\n",
       "      <td>9711</td>\n",
       "      <td>1.0</td>\n",
       "      <td>0</td>\n",
       "      <td>0</td>\n",
       "      <td>...</td>\n",
       "      <td>7</td>\n",
       "      <td>1060</td>\n",
       "      <td>0</td>\n",
       "      <td>1963</td>\n",
       "      <td>0</td>\n",
       "      <td>98198</td>\n",
       "      <td>47.4095</td>\n",
       "      <td>-122.315</td>\n",
       "      <td>1650</td>\n",
       "      <td>9711</td>\n",
       "    </tr>\n",
       "  </tbody>\n",
       "</table>\n",
       "<p>5 rows × 21 columns</p>\n",
       "</div>"
      ],
      "text/plain": [
       "   id    date     price  bedrooms  bathrooms  sqft_living  sqft_lot  floors  \\\n",
       "0   0  201410  221900.0         3       1.00         1180      5650     1.0   \n",
       "1   1  201502  180000.0         2       1.00          770     10000     1.0   \n",
       "2   2  201502  510000.0         3       2.00         1680      8080     1.0   \n",
       "3   3  201406  257500.0         3       2.25         1715      6819     2.0   \n",
       "4   4  201501  291850.0         3       1.50         1060      9711     1.0   \n",
       "\n",
       "   waterfront  view  ...  grade  sqft_above  sqft_basement  yr_built  \\\n",
       "0           0     0  ...      7        1180              0      1955   \n",
       "1           0     0  ...      6         770              0      1933   \n",
       "2           0     0  ...      8        1680              0      1987   \n",
       "3           0     0  ...      7        1715              0      1995   \n",
       "4           0     0  ...      7        1060              0      1963   \n",
       "\n",
       "   yr_renovated  zipcode      lat     long  sqft_living15  sqft_lot15  \n",
       "0             0    98178  47.5112 -122.257           1340        5650  \n",
       "1             0    98028  47.7379 -122.233           2720        8062  \n",
       "2             0    98074  47.6168 -122.045           1800        7503  \n",
       "3             0    98003  47.3097 -122.327           2238        6819  \n",
       "4             0    98198  47.4095 -122.315           1650        9711  \n",
       "\n",
       "[5 rows x 21 columns]"
      ]
     },
     "execution_count": 5,
     "metadata": {},
     "output_type": "execute_result"
    }
   ],
   "source": [
    "train['date'] = train['date'].apply(lambda i: i[:6]).astype(int)\n",
    "train.head()"
   ]
  },
  {
   "cell_type": "code",
   "execution_count": 6,
   "id": "78f3d92d",
   "metadata": {},
   "outputs": [
    {
     "name": "stdout",
     "output_type": "stream",
     "text": [
      "Index(['id', 'date', 'bedrooms', 'bathrooms', 'sqft_living', 'sqft_lot',\n",
      "       'floors', 'waterfront', 'view', 'condition', 'grade', 'sqft_above',\n",
      "       'sqft_basement', 'yr_built', 'yr_renovated', 'zipcode', 'lat', 'long',\n",
      "       'sqft_living15', 'sqft_lot15'],\n",
      "      dtype='object')\n"
     ]
    }
   ],
   "source": [
    "y = train['price']\n",
    "del train['price']\n",
    "\n",
    "print(train.columns)"
   ]
  },
  {
   "cell_type": "code",
   "execution_count": 7,
   "id": "8f3b1745",
   "metadata": {},
   "outputs": [
    {
     "name": "stdout",
     "output_type": "stream",
     "text": [
      "Index(['date', 'bedrooms', 'bathrooms', 'sqft_living', 'sqft_lot', 'floors',\n",
      "       'waterfront', 'view', 'condition', 'grade', 'sqft_above',\n",
      "       'sqft_basement', 'yr_built', 'yr_renovated', 'zipcode', 'lat', 'long',\n",
      "       'sqft_living15', 'sqft_lot15'],\n",
      "      dtype='object')\n"
     ]
    }
   ],
   "source": [
    "del train['id']\n",
    "print(train.columns)"
   ]
  },
  {
   "cell_type": "markdown",
   "id": "3fb678d4",
   "metadata": {},
   "source": [
    "### 전처리 완료\n",
    "\n",
    "#### 테스트 데이터에 대해서도 같은 작업 진행\n"
   ]
  },
  {
   "cell_type": "code",
   "execution_count": 8,
   "id": "00a772db",
   "metadata": {},
   "outputs": [
    {
     "name": "stdout",
     "output_type": "stream",
     "text": [
      "Index(['date', 'bedrooms', 'bathrooms', 'sqft_living', 'sqft_lot', 'floors',\n",
      "       'waterfront', 'view', 'condition', 'grade', 'sqft_above',\n",
      "       'sqft_basement', 'yr_built', 'yr_renovated', 'zipcode', 'lat', 'long',\n",
      "       'sqft_living15', 'sqft_lot15'],\n",
      "      dtype='object')\n"
     ]
    }
   ],
   "source": [
    "test['date'] = test['date'].apply(lambda i: i[:6]).astype(int)\n",
    "\n",
    "del test['id']\n",
    "\n",
    "print(test.columns)"
   ]
  },
  {
   "cell_type": "code",
   "execution_count": 9,
   "id": "d36ef7db",
   "metadata": {},
   "outputs": [
    {
     "data": {
      "text/plain": [
       "0         221900.0\n",
       "1         180000.0\n",
       "2         510000.0\n",
       "3         257500.0\n",
       "4         291850.0\n",
       "           ...    \n",
       "15030     610685.0\n",
       "15031    1007500.0\n",
       "15032     360000.0\n",
       "15033     400000.0\n",
       "15034     325000.0\n",
       "Name: price, Length: 15035, dtype: float64"
      ]
     },
     "execution_count": 9,
     "metadata": {},
     "output_type": "execute_result"
    }
   ],
   "source": [
    "y # 타겟 데이터 y 확인"
   ]
  },
  {
   "cell_type": "code",
   "execution_count": 10,
   "id": "29004b1a",
   "metadata": {
    "scrolled": true
   },
   "outputs": [
    {
     "data": {
      "image/png": "[encoded data removed]",
      "text/plain": [
       "<Figure size 432x288 with 1 Axes>"
      ]
     },
     "metadata": {
      "image/png": {
       "height": 272,
       "width": 392
      },
      "needs_background": "light"
     },
     "output_type": "display_data"
    }
   ],
   "source": [
    "sns.kdeplot(y)\n",
    "plt.show()"
   ]
  },
  {
   "cell_type": "code",
   "execution_count": 11,
   "id": "c9cb6218",
   "metadata": {},
   "outputs": [
    {
     "data": {
      "text/plain": [
       "0        12.309987\n",
       "1        12.100718\n",
       "2        13.142168\n",
       "3        12.458779\n",
       "4        12.583999\n",
       "           ...    \n",
       "15030    13.322338\n",
       "15031    13.822984\n",
       "15032    12.793862\n",
       "15033    12.899222\n",
       "15034    12.691584\n",
       "Name: price, Length: 15035, dtype: float64"
      ]
     },
     "execution_count": 11,
     "metadata": {},
     "output_type": "execute_result"
    }
   ],
   "source": [
    "y = np.log1p(y)\n",
    "y"
   ]
  },
  {
   "cell_type": "code",
   "execution_count": 12,
   "id": "823b2622",
   "metadata": {},
   "outputs": [
    {
     "data": {
      "image/png": "[encoded data removed]",
      "text/plain": [
       "<Figure size 432x288 with 1 Axes>"
      ]
     },
     "metadata": {
      "image/png": {
       "height": 262,
       "width": 385
      },
      "needs_background": "light"
     },
     "output_type": "display_data"
    }
   ],
   "source": [
    "sns.kdeplot(y)\n",
    "plt.show()"
   ]
  },
  {
   "cell_type": "markdown",
   "id": "fafca5dd",
   "metadata": {},
   "source": [
    "비교적 완만한 정규분포의 형태로 변환"
   ]
  },
  {
   "cell_type": "code",
   "execution_count": 13,
   "id": "66003bcc",
   "metadata": {},
   "outputs": [
    {
     "name": "stdout",
     "output_type": "stream",
     "text": [
      "<class 'pandas.core.frame.DataFrame'>\n",
      "RangeIndex: 15035 entries, 0 to 15034\n",
      "Data columns (total 19 columns):\n",
      " #   Column         Non-Null Count  Dtype  \n",
      "---  ------         --------------  -----  \n",
      " 0   date           15035 non-null  int64  \n",
      " 1   bedrooms       15035 non-null  int64  \n",
      " 2   bathrooms      15035 non-null  float64\n",
      " 3   sqft_living    15035 non-null  int64  \n",
      " 4   sqft_lot       15035 non-null  int64  \n",
      " 5   floors         15035 non-null  float64\n",
      " 6   waterfront     15035 non-null  int64  \n",
      " 7   view           15035 non-null  int64  \n",
      " 8   condition      15035 non-null  int64  \n",
      " 9   grade          15035 non-null  int64  \n",
      " 10  sqft_above     15035 non-null  int64  \n",
      " 11  sqft_basement  15035 non-null  int64  \n",
      " 12  yr_built       15035 non-null  int64  \n",
      " 13  yr_renovated   15035 non-null  int64  \n",
      " 14  zipcode        15035 non-null  int64  \n",
      " 15  lat            15035 non-null  float64\n",
      " 16  long           15035 non-null  float64\n",
      " 17  sqft_living15  15035 non-null  int64  \n",
      " 18  sqft_lot15     15035 non-null  int64  \n",
      "dtypes: float64(4), int64(15)\n",
      "memory usage: 2.2 MB\n"
     ]
    }
   ],
   "source": [
    "train.info() # 전체 데이터 자료형 확인"
   ]
  },
  {
   "cell_type": "markdown",
   "id": "30b19aaa",
   "metadata": {},
   "source": [
    "## 모델 튜닝\n",
    "\n"
   ]
  },
  {
   "cell_type": "code",
   "execution_count": 14,
   "id": "51cf1ad5",
   "metadata": {},
   "outputs": [],
   "source": [
    "from sklearn.model_selection import train_test_split\n",
    "from sklearn.metrics import mean_squared_error"
   ]
  },
  {
   "cell_type": "code",
   "execution_count": 15,
   "id": "4df2223d",
   "metadata": {},
   "outputs": [],
   "source": [
    "def rmse(y_test, y_pred):\n",
    "    return np.sqrt(mean_squared_error(np.expm1(y_test), np.expm1(y_pred)))"
   ]
  },
  {
   "cell_type": "code",
   "execution_count": 16,
   "id": "3fa4eae0",
   "metadata": {},
   "outputs": [],
   "source": [
    "from xgboost import XGBRegressor\n",
    "from lightgbm import LGBMRegressor\n",
    "from sklearn.ensemble import GradientBoostingRegressor, RandomForestRegressor\n",
    "\n"
   ]
  },
  {
   "cell_type": "code",
   "execution_count": 17,
   "id": "f714137c",
   "metadata": {},
   "outputs": [],
   "source": [
    "rs = 2020\n",
    "\n",
    "gboost = GradientBoostingRegressor(random_state=rs)\n",
    "xgboost = XGBRegressor(random_state=rs)\n",
    "lightgbm = LGBMRegressor(random_state=rs)\n",
    "rdforest = RandomForestRegressor(random_state=rs)\n",
    "\n",
    "models = [gboost, xgboost, lightgbm, rdforest]"
   ]
  },
  {
   "cell_type": "code",
   "execution_count": 18,
   "id": "e0b896cb",
   "metadata": {},
   "outputs": [
    {
     "data": {
      "text/plain": [
       "'LGBMRegressor'"
      ]
     },
     "execution_count": 18,
     "metadata": {},
     "output_type": "execute_result"
    }
   ],
   "source": [
    "lightgbm.__class__.__name__"
   ]
  },
  {
   "cell_type": "markdown",
   "id": "a49b86ec",
   "metadata": {},
   "source": [
    "df = {}\n",
    "\n",
    "for model in models:\n",
    "    # 모델 이름 획득\n",
    "    model_name = model.__class__.__name__\n",
    "\n",
    "    # train, test 데이터셋 분리 - 여기에도 random_state를 고정합니다. \n",
    "    X_train, X_test, y_train, y_test = train_test_split(train, y, random_state=rs, test_size=0.2)\n",
    "\n",
    "    # 모델 학습\n",
    "    model.fit(X_train, y_train)\n",
    "    \n",
    "    # 예측\n",
    "    y_pred = model.predict(X_test)\n",
    "\n",
    "    # 예측 결과의 rmse값 저장\n",
    "    df[model_name] = rmse(y_test, y_pred)\n",
    "    \n",
    "    # data frame에 저장\n",
    "    score_df = pd.DataFrame(df, index=['RMSE']).T.sort_values('RMSE', ascending=False)\n",
    "    \n",
    "df"
   ]
  },
  {
   "cell_type": "code",
   "execution_count": 19,
   "id": "89436935",
   "metadata": {},
   "outputs": [
    {
     "data": {
      "text/html": [
       "<div>\n",
       "<style scoped>\n",
       "    .dataframe tbody tr th:only-of-type {\n",
       "        vertical-align: middle;\n",
       "    }\n",
       "\n",
       "    .dataframe tbody tr th {\n",
       "        vertical-align: top;\n",
       "    }\n",
       "\n",
       "    .dataframe thead th {\n",
       "        text-align: right;\n",
       "    }\n",
       "</style>\n",
       "<table border=\"1\" class=\"dataframe\">\n",
       "  <thead>\n",
       "    <tr style=\"text-align: right;\">\n",
       "      <th></th>\n",
       "      <th>RMSE</th>\n",
       "    </tr>\n",
       "  </thead>\n",
       "  <tbody>\n",
       "    <tr>\n",
       "      <th>GradientBoostingRegressor</th>\n",
       "      <td>128360.196497</td>\n",
       "    </tr>\n",
       "    <tr>\n",
       "      <th>RandomForestRegressor</th>\n",
       "      <td>125487.071025</td>\n",
       "    </tr>\n",
       "    <tr>\n",
       "      <th>LGBMRegressor</th>\n",
       "      <td>111920.367359</td>\n",
       "    </tr>\n",
       "    <tr>\n",
       "      <th>XGBRegressor</th>\n",
       "      <td>110318.669566</td>\n",
       "    </tr>\n",
       "  </tbody>\n",
       "</table>\n",
       "</div>"
      ],
      "text/plain": [
       "                                    RMSE\n",
       "GradientBoostingRegressor  128360.196497\n",
       "RandomForestRegressor      125487.071025\n",
       "LGBMRegressor              111920.367359\n",
       "XGBRegressor               110318.669566"
      ]
     },
     "execution_count": 19,
     "metadata": {},
     "output_type": "execute_result"
    }
   ],
   "source": [
    "def get_scores(models, train, y):\n",
    "    df = {}\n",
    "\n",
    "    for model in models:\n",
    "        model_name = model.__class__.__name__\n",
    "        \n",
    "        X_train, X_test, y_train, y_test = train_test_split(train, y, random_state=rs, test_size=0.2)\n",
    "        model.fit(X_train, y_train)\n",
    "        y_pred = model.predict(X_test)\n",
    "        \n",
    "        df[model_name] = rmse(y_test, y_pred)\n",
    "        score_df = pd.DataFrame(df, index=['RMSE']).T.sort_values('RMSE', ascending=False)\n",
    "\n",
    "    return score_df\n",
    "            \n",
    "get_scores(models, train, y)"
   ]
  },
  {
   "cell_type": "code",
   "execution_count": 20,
   "id": "8b196a95",
   "metadata": {},
   "outputs": [],
   "source": [
    "from sklearn.model_selection import GridSearchCV"
   ]
  },
  {
   "cell_type": "markdown",
   "id": "81006baf",
   "metadata": {},
   "source": [
    "param_grid = {\n",
    "    'n_estimators': [100, 150],\n",
    "    'max_depth': [10, 30],\n",
    "    'boosting_type': 'gbdt',\n",
    "    'num_iterations' : [1000, 1100],\n",
    "    \n",
    "}"
   ]
  },
  {
   "cell_type": "markdown",
   "id": "b6ea15bb",
   "metadata": {},
   "source": [
    "model = LGBMRegressor(random_state=rs)"
   ]
  },
  {
   "cell_type": "markdown",
   "id": "9dc4962c",
   "metadata": {},
   "source": [
    "grid_model = GridSearchCV(model, param_grid=param_grid, scoring='neg_mean_squared_error', cv=5, verbose=1, n_jobs=5)\n",
    "\n",
    "grid_model.fit(train, y)"
   ]
  },
  {
   "cell_type": "markdown",
   "id": "5f062dd1",
   "metadata": {},
   "source": [
    "grid_model.cv_results_"
   ]
  },
  {
   "cell_type": "markdown",
   "id": "ec40d753",
   "metadata": {},
   "source": [
    "params = grid_model.cv_results_['params']\n",
    "params"
   ]
  },
  {
   "cell_type": "markdown",
   "id": "21d6836c",
   "metadata": {},
   "source": [
    "score = grid_model.cv_results_['mean_test_score']\n",
    "score"
   ]
  },
  {
   "cell_type": "markdown",
   "id": "4c601294",
   "metadata": {},
   "source": [
    "results = pd.DataFrame(params)\n",
    "results['score'] = score\n",
    "\n",
    "results"
   ]
  },
  {
   "cell_type": "markdown",
   "id": "ace34de8",
   "metadata": {},
   "source": [
    "results['RMSE'] = np.sqrt(-1 * results['score'])\n",
    "results"
   ]
  },
  {
   "cell_type": "markdown",
   "id": "399c9212",
   "metadata": {},
   "source": [
    "results = results.rename(columns={'RMSE': 'RMSLE'})\n",
    "results"
   ]
  },
  {
   "cell_type": "markdown",
   "id": "90098e28",
   "metadata": {},
   "source": [
    "results = results.sort_values('RMSLE')\n",
    "results"
   ]
  },
  {
   "cell_type": "code",
   "execution_count": 21,
   "id": "19936c9c",
   "metadata": {},
   "outputs": [],
   "source": [
    "def my_GridSearch(model, train, y, param_grid, verbose=2, n_jobs=-1):\n",
    "    grid_model = GridSearchCV(model, param_grid=param_grid, scoring='neg_mean_squared_error', cv=5, verbose=verbose, n_jobs=n_jobs)\n",
    "    \n",
    "    grid_model.fit(train, y)\n",
    "\n",
    "    params = grid_model.cv_results_['params']\n",
    "    score = grid_model.cv_results_['mean_test_score']\n",
    "    \n",
    "    results = pd.DataFrame(params)\n",
    "    results['score'] = score\n",
    "    \n",
    "    results['RMSLE'] = np.sqrt(-1 * results['score'])\n",
    "    results = results.sort_values('RMSLE')\n",
    "\n",
    "    return results"
   ]
  },
  {
   "cell_type": "code",
   "execution_count": 29,
   "id": "6d7cb619",
   "metadata": {
    "scrolled": true
   },
   "outputs": [
    {
     "name": "stdout",
     "output_type": "stream",
     "text": [
      "Fitting 5 folds for each of 24 candidates, totalling 120 fits\n"
     ]
    },
    {
     "data": {
      "text/html": [
       "<div>\n",
       "<style scoped>\n",
       "    .dataframe tbody tr th:only-of-type {\n",
       "        vertical-align: middle;\n",
       "    }\n",
       "\n",
       "    .dataframe tbody tr th {\n",
       "        vertical-align: top;\n",
       "    }\n",
       "\n",
       "    .dataframe thead th {\n",
       "        text-align: right;\n",
       "    }\n",
       "</style>\n",
       "<table border=\"1\" class=\"dataframe\">\n",
       "  <thead>\n",
       "    <tr style=\"text-align: right;\">\n",
       "      <th></th>\n",
       "      <th>learning_rate</th>\n",
       "      <th>max_depth</th>\n",
       "      <th>n_estimators</th>\n",
       "      <th>score</th>\n",
       "      <th>RMSLE</th>\n",
       "    </tr>\n",
       "  </thead>\n",
       "  <tbody>\n",
       "    <tr>\n",
       "      <th>13</th>\n",
       "      <td>0.042</td>\n",
       "      <td>14</td>\n",
       "      <td>926</td>\n",
       "      <td>-0.025753</td>\n",
       "      <td>0.160477</td>\n",
       "    </tr>\n",
       "    <tr>\n",
       "      <th>8</th>\n",
       "      <td>0.034</td>\n",
       "      <td>16</td>\n",
       "      <td>926</td>\n",
       "      <td>-0.025765</td>\n",
       "      <td>0.160515</td>\n",
       "    </tr>\n",
       "    <tr>\n",
       "      <th>9</th>\n",
       "      <td>0.038</td>\n",
       "      <td>9</td>\n",
       "      <td>926</td>\n",
       "      <td>-0.025789</td>\n",
       "      <td>0.160590</td>\n",
       "    </tr>\n",
       "    <tr>\n",
       "      <th>11</th>\n",
       "      <td>0.038</td>\n",
       "      <td>16</td>\n",
       "      <td>926</td>\n",
       "      <td>-0.025810</td>\n",
       "      <td>0.160653</td>\n",
       "    </tr>\n",
       "    <tr>\n",
       "      <th>6</th>\n",
       "      <td>0.034</td>\n",
       "      <td>9</td>\n",
       "      <td>926</td>\n",
       "      <td>-0.025811</td>\n",
       "      <td>0.160658</td>\n",
       "    </tr>\n",
       "    <tr>\n",
       "      <th>7</th>\n",
       "      <td>0.034</td>\n",
       "      <td>14</td>\n",
       "      <td>926</td>\n",
       "      <td>-0.025812</td>\n",
       "      <td>0.160663</td>\n",
       "    </tr>\n",
       "    <tr>\n",
       "      <th>0</th>\n",
       "      <td>0.026</td>\n",
       "      <td>9</td>\n",
       "      <td>926</td>\n",
       "      <td>-0.025816</td>\n",
       "      <td>0.160673</td>\n",
       "    </tr>\n",
       "    <tr>\n",
       "      <th>1</th>\n",
       "      <td>0.026</td>\n",
       "      <td>14</td>\n",
       "      <td>926</td>\n",
       "      <td>-0.025819</td>\n",
       "      <td>0.160684</td>\n",
       "    </tr>\n",
       "    <tr>\n",
       "      <th>3</th>\n",
       "      <td>0.030</td>\n",
       "      <td>9</td>\n",
       "      <td>926</td>\n",
       "      <td>-0.025823</td>\n",
       "      <td>0.160694</td>\n",
       "    </tr>\n",
       "    <tr>\n",
       "      <th>14</th>\n",
       "      <td>0.042</td>\n",
       "      <td>16</td>\n",
       "      <td>926</td>\n",
       "      <td>-0.025829</td>\n",
       "      <td>0.160715</td>\n",
       "    </tr>\n",
       "    <tr>\n",
       "      <th>23</th>\n",
       "      <td>0.054</td>\n",
       "      <td>16</td>\n",
       "      <td>926</td>\n",
       "      <td>-0.025845</td>\n",
       "      <td>0.160762</td>\n",
       "    </tr>\n",
       "    <tr>\n",
       "      <th>10</th>\n",
       "      <td>0.038</td>\n",
       "      <td>14</td>\n",
       "      <td>926</td>\n",
       "      <td>-0.025856</td>\n",
       "      <td>0.160799</td>\n",
       "    </tr>\n",
       "    <tr>\n",
       "      <th>12</th>\n",
       "      <td>0.042</td>\n",
       "      <td>9</td>\n",
       "      <td>926</td>\n",
       "      <td>-0.025868</td>\n",
       "      <td>0.160836</td>\n",
       "    </tr>\n",
       "    <tr>\n",
       "      <th>2</th>\n",
       "      <td>0.026</td>\n",
       "      <td>16</td>\n",
       "      <td>926</td>\n",
       "      <td>-0.025872</td>\n",
       "      <td>0.160848</td>\n",
       "    </tr>\n",
       "    <tr>\n",
       "      <th>4</th>\n",
       "      <td>0.030</td>\n",
       "      <td>14</td>\n",
       "      <td>926</td>\n",
       "      <td>-0.025875</td>\n",
       "      <td>0.160856</td>\n",
       "    </tr>\n",
       "    <tr>\n",
       "      <th>22</th>\n",
       "      <td>0.054</td>\n",
       "      <td>14</td>\n",
       "      <td>926</td>\n",
       "      <td>-0.025878</td>\n",
       "      <td>0.160867</td>\n",
       "    </tr>\n",
       "    <tr>\n",
       "      <th>18</th>\n",
       "      <td>0.050</td>\n",
       "      <td>9</td>\n",
       "      <td>926</td>\n",
       "      <td>-0.025914</td>\n",
       "      <td>0.160978</td>\n",
       "    </tr>\n",
       "    <tr>\n",
       "      <th>16</th>\n",
       "      <td>0.046</td>\n",
       "      <td>14</td>\n",
       "      <td>926</td>\n",
       "      <td>-0.025916</td>\n",
       "      <td>0.160985</td>\n",
       "    </tr>\n",
       "    <tr>\n",
       "      <th>5</th>\n",
       "      <td>0.030</td>\n",
       "      <td>16</td>\n",
       "      <td>926</td>\n",
       "      <td>-0.025920</td>\n",
       "      <td>0.160997</td>\n",
       "    </tr>\n",
       "    <tr>\n",
       "      <th>15</th>\n",
       "      <td>0.046</td>\n",
       "      <td>9</td>\n",
       "      <td>926</td>\n",
       "      <td>-0.025935</td>\n",
       "      <td>0.161045</td>\n",
       "    </tr>\n",
       "    <tr>\n",
       "      <th>21</th>\n",
       "      <td>0.054</td>\n",
       "      <td>9</td>\n",
       "      <td>926</td>\n",
       "      <td>-0.026037</td>\n",
       "      <td>0.161361</td>\n",
       "    </tr>\n",
       "    <tr>\n",
       "      <th>20</th>\n",
       "      <td>0.050</td>\n",
       "      <td>16</td>\n",
       "      <td>926</td>\n",
       "      <td>-0.026041</td>\n",
       "      <td>0.161371</td>\n",
       "    </tr>\n",
       "    <tr>\n",
       "      <th>17</th>\n",
       "      <td>0.046</td>\n",
       "      <td>16</td>\n",
       "      <td>926</td>\n",
       "      <td>-0.026042</td>\n",
       "      <td>0.161374</td>\n",
       "    </tr>\n",
       "    <tr>\n",
       "      <th>19</th>\n",
       "      <td>0.050</td>\n",
       "      <td>14</td>\n",
       "      <td>926</td>\n",
       "      <td>-0.026054</td>\n",
       "      <td>0.161413</td>\n",
       "    </tr>\n",
       "  </tbody>\n",
       "</table>\n",
       "</div>"
      ],
      "text/plain": [
       "    learning_rate  max_depth  n_estimators     score     RMSLE\n",
       "13          0.042         14           926 -0.025753  0.160477\n",
       "8           0.034         16           926 -0.025765  0.160515\n",
       "9           0.038          9           926 -0.025789  0.160590\n",
       "11          0.038         16           926 -0.025810  0.160653\n",
       "6           0.034          9           926 -0.025811  0.160658\n",
       "7           0.034         14           926 -0.025812  0.160663\n",
       "0           0.026          9           926 -0.025816  0.160673\n",
       "1           0.026         14           926 -0.025819  0.160684\n",
       "3           0.030          9           926 -0.025823  0.160694\n",
       "14          0.042         16           926 -0.025829  0.160715\n",
       "23          0.054         16           926 -0.025845  0.160762\n",
       "10          0.038         14           926 -0.025856  0.160799\n",
       "12          0.042          9           926 -0.025868  0.160836\n",
       "2           0.026         16           926 -0.025872  0.160848\n",
       "4           0.030         14           926 -0.025875  0.160856\n",
       "22          0.054         14           926 -0.025878  0.160867\n",
       "18          0.050          9           926 -0.025914  0.160978\n",
       "16          0.046         14           926 -0.025916  0.160985\n",
       "5           0.030         16           926 -0.025920  0.160997\n",
       "15          0.046          9           926 -0.025935  0.161045\n",
       "21          0.054          9           926 -0.026037  0.161361\n",
       "20          0.050         16           926 -0.026041  0.161371\n",
       "17          0.046         16           926 -0.026042  0.161374\n",
       "19          0.050         14           926 -0.026054  0.161413"
      ]
     },
     "execution_count": 29,
     "metadata": {},
     "output_type": "execute_result"
    }
   ],
   "source": [
    "import numpy as np\n",
    "\n",
    "param_grid = {\n",
    "#     'n_estimators': range(926, 965, 4),\n",
    "    'n_estimators': [926],\n",
    "    'max_depth': [9, 14, 16],\n",
    "#     'boosting_type': 'gbdt',\n",
    "    'learning_rate' : np.arange(0.026, 0.057, 0.004),\n",
    "}\n",
    "\n",
    "model = LGBMRegressor(random_state=rs)\n",
    "my_GridSearch(model, train, y, param_grid, verbose=2, n_jobs=-1)"
   ]
  },
  {
   "cell_type": "code",
   "execution_count": null,
   "id": "f943f312",
   "metadata": {},
   "outputs": [],
   "source": [
    "from sklearn.model_selection import RandomizedSearchCV\n",
    "from scipy.stats import uniform, randint"
   ]
  },
  {
   "cell_type": "code",
   "execution_count": null,
   "id": "2be37749",
   "metadata": {},
   "outputs": [],
   "source": [
    "def my_RandomSearch(model, train, y, param_distributions, verbose=2, n_jobs=-1):\n",
    "    random_model = RandomizedSearchCV(model, param_distributions=param_distributions, scoring='neg_mean_squared_error',n_iter=10, cv=5, n_jobs=-1)\n",
    "    random_model.fit(train, y)\n",
    "    \n",
    "    params = random_model.cv_results_['params']\n",
    "    score = random_model.cv_results_['mean_test_score']\n",
    "    \n",
    "    results = pd.DataFrame(params)\n",
    "    results['score'] = score\n",
    "    \n",
    "    results['RMSLE'] = np.sqrt(-1 * results['score'])\n",
    "    results = results.sort_values('RMSLE')\n",
    "    \n",
    "    return results"
   ]
  },
  {
   "cell_type": "code",
   "execution_count": null,
   "id": "b79ec67b",
   "metadata": {
    "scrolled": true
   },
   "outputs": [],
   "source": [
    "param_distributions = {\n",
    "    'max_depth' : randint(9, 15),\n",
    "    'learning_rate' : uniform(0.023, 0.0463),\n",
    "    'n_estimators' : randint(920, 970),\n",
    "#     'num_leaves' : randint(31, 60),\n",
    "#     'subsample' : uniform(0.8, 1),\n",
    "#     'min_child_sample' : randint(20, 40),\n",
    "}\n",
    "\n",
    "model = LGBMRegressor(random_state=rs)\n",
    "my_RandomSearch(model, train, y, param_distributions, verbose=2, n_jobs=-1)"
   ]
  },
  {
   "cell_type": "markdown",
   "id": "be3f1bdb",
   "metadata": {},
   "source": [
    "model = LGBMRegressor(max_depth=10, n_estimators=100, random_state=rs)\n",
    "model.fit(train, y)\n",
    "prediction = model.predict(test)\n",
    "prediction"
   ]
  },
  {
   "cell_type": "markdown",
   "id": "910b9e4a",
   "metadata": {},
   "source": [
    "prediction = np.expm1(prediction)\n",
    "prediction"
   ]
  },
  {
   "cell_type": "markdown",
   "id": "0102aacf",
   "metadata": {},
   "source": [
    "data_dir = os.getenv(\"HOME\")+'/aiffel/kaggle_kakr_housing/data'\n",
    "\n",
    "submission_path = join(data_dir, 'sample_submission.csv')\n",
    "submission = pd.read_csv(submission_path)\n",
    "submission.head()"
   ]
  },
  {
   "cell_type": "markdown",
   "id": "3280a657",
   "metadata": {},
   "source": [
    "submission['price'] = prediction\n",
    "submission.head()"
   ]
  },
  {
   "cell_type": "markdown",
   "id": "4a612e70",
   "metadata": {},
   "source": [
    "submission_csv_path = '{}/submission_{}_RMSLE_{}.csv'.format(data_dir, 'lgbm', '0.164399')\n",
    "submission.to_csv(submission_csv_path, index=False)\n",
    "print(submission_csv_path)"
   ]
  },
  {
   "cell_type": "code",
   "execution_count": 25,
   "id": "0f6757fe",
   "metadata": {},
   "outputs": [],
   "source": [
    "def save_submission(model, train, y, test, model_name, rmsle):\n",
    "    model.fit(train, y)\n",
    "    prediction = model.predict(test)\n",
    "    prediction = np.expm1(prediction)\n",
    "    data_dir = os.getenv(\"HOME\")+'/aiffel/kaggle_kakr_housing/data'\n",
    "    submission_path = join(data_dir, 'sample_submission.csv')\n",
    "    submission = pd.read_csv(submission_path)\n",
    "    submission['price'] = prediction\n",
    "    submission_csv_path = '{}/submission_{}_RMSLE_{}.csv'.format(data_dir, 'lgbm', rmsle)\n",
    "    submission.to_csv(submission_csv_path, index=False)\n",
    "    print(\"Success\")"
   ]
  },
  {
   "cell_type": "code",
   "execution_count": 33,
   "id": "0302fa3a",
   "metadata": {},
   "outputs": [
    {
     "name": "stdout",
     "output_type": "stream",
     "text": [
      "[LightGBM] [Warning] num_iterations is set=932, num_iteration=932 will be ignored. Current value: num_iterations=932\n",
      "Success\n",
      "[CV] END .learning_rate=0.026, max_depth=9, n_estimators=926; total time=   3.3s\n",
      "[CV] END ..learning_rate=0.03, max_depth=9, n_estimators=926; total time=   2.4s\n",
      "[CV] END ..learning_rate=0.03, max_depth=9, n_estimators=926; total time=   2.4s\n",
      "[CV] END .learning_rate=0.034, max_depth=9, n_estimators=926; total time=   2.8s\n",
      "[CV] END .learning_rate=0.034, max_depth=9, n_estimators=926; total time=   2.0s\n",
      "[CV] END .learning_rate=0.038, max_depth=9, n_estimators=926; total time=   2.0s\n",
      "[CV] END .learning_rate=0.038, max_depth=9, n_estimators=926; total time=   2.0s\n",
      "[CV] END learning_rate=0.041999999999999996, max_depth=9, n_estimators=926; total time=   1.9s\n",
      "[CV] END learning_rate=0.041999999999999996, max_depth=9, n_estimators=926; total time=   1.9s\n",
      "[CV] END .learning_rate=0.046, max_depth=9, n_estimators=926; total time=   2.0s\n",
      "[CV] END .learning_rate=0.046, max_depth=9, n_estimators=926; total time=   2.1s\n",
      "[CV] END .learning_rate=0.046, max_depth=9, n_estimators=926; total time=   1.9s\n",
      "[CV] END ..learning_rate=0.05, max_depth=9, n_estimators=926; total time=   1.9s\n",
      "[CV] END ..learning_rate=0.05, max_depth=9, n_estimators=926; total time=   1.9s\n",
      "[CV] END .learning_rate=0.054, max_depth=9, n_estimators=926; total time=   1.9s\n",
      "[CV] END .learning_rate=0.054, max_depth=9, n_estimators=926; total time=   1.9s\n",
      "[CV] END .learning_rate=0.026, max_depth=9, n_estimators=926; total time=   3.3s\n",
      "[CV] END .learning_rate=0.026, max_depth=9, n_estimators=926; total time=   3.2s\n",
      "[CV] END learning_rate=0.026, max_depth=14, n_estimators=926; total time=   2.2s\n",
      "[CV] END learning_rate=0.026, max_depth=16, n_estimators=926; total time=   2.4s\n",
      "[CV] END learning_rate=0.026, max_depth=16, n_estimators=926; total time=   3.3s\n",
      "[CV] END ..learning_rate=0.03, max_depth=9, n_estimators=926; total time=   3.3s\n",
      "[CV] END .learning_rate=0.03, max_depth=14, n_estimators=926; total time=   3.5s\n",
      "[CV] END .learning_rate=0.03, max_depth=14, n_estimators=926; total time=   3.5s\n",
      "[CV] END .learning_rate=0.03, max_depth=16, n_estimators=926; total time=   2.7s\n",
      "[CV] END .learning_rate=0.034, max_depth=9, n_estimators=926; total time=   2.0s\n",
      "[CV] END .learning_rate=0.034, max_depth=9, n_estimators=926; total time=   3.2s\n",
      "[CV] END learning_rate=0.034, max_depth=14, n_estimators=926; total time=   3.2s\n",
      "[CV] END learning_rate=0.034, max_depth=16, n_estimators=926; total time=   3.2s\n",
      "[CV] END learning_rate=0.034, max_depth=16, n_estimators=926; total time=   2.9s\n",
      "[CV] END .learning_rate=0.038, max_depth=9, n_estimators=926; total time=   3.1s\n",
      "[CV] END learning_rate=0.038, max_depth=14, n_estimators=926; total time=   3.1s\n",
      "[CV] END learning_rate=0.038, max_depth=14, n_estimators=926; total time=   3.4s\n",
      "[CV] END learning_rate=0.038, max_depth=16, n_estimators=926; total time=   3.2s\n",
      "[CV] END learning_rate=0.041999999999999996, max_depth=9, n_estimators=926; total time=   2.1s\n",
      "[CV] END learning_rate=0.041999999999999996, max_depth=9, n_estimators=926; total time=   1.9s\n",
      "[CV] END learning_rate=0.041999999999999996, max_depth=14, n_estimators=926; total time=   2.1s\n",
      "[CV] END learning_rate=0.041999999999999996, max_depth=14, n_estimators=926; total time=   2.0s\n",
      "[CV] END learning_rate=0.041999999999999996, max_depth=16, n_estimators=926; total time=   1.9s\n",
      "[CV] END learning_rate=0.041999999999999996, max_depth=16, n_estimators=926; total time=   2.8s\n",
      "[CV] END .learning_rate=0.046, max_depth=9, n_estimators=926; total time=   3.4s\n",
      "[CV] END .learning_rate=0.046, max_depth=9, n_estimators=926; total time=   3.4s\n",
      "[CV] END learning_rate=0.046, max_depth=14, n_estimators=926; total time=   2.3s\n",
      "[CV] END learning_rate=0.046, max_depth=16, n_estimators=926; total time=   2.0s\n",
      "[CV] END learning_rate=0.046, max_depth=16, n_estimators=926; total time=   1.9s\n",
      "[CV] END ..learning_rate=0.05, max_depth=9, n_estimators=926; total time=   1.9s\n",
      "[CV] END ..learning_rate=0.05, max_depth=9, n_estimators=926; total time=   2.0s\n",
      "[CV] END .learning_rate=0.05, max_depth=14, n_estimators=926; total time=   1.9s\n",
      "[CV] END .learning_rate=0.05, max_depth=14, n_estimators=926; total time=   2.0s\n",
      "[CV] END .learning_rate=0.05, max_depth=14, n_estimators=926; total time=   1.9s\n",
      "[CV] END .learning_rate=0.05, max_depth=16, n_estimators=926; total time=   1.9s\n",
      "[CV] END .learning_rate=0.05, max_depth=16, n_estimators=926; total time=   2.0s\n",
      "[CV] END .learning_rate=0.054, max_depth=9, n_estimators=926; total time=   1.9s\n",
      "[CV] END .learning_rate=0.054, max_depth=9, n_estimators=926; total time=   1.9s\n",
      "[CV] END learning_rate=0.054, max_depth=14, n_estimators=926; total time=   1.9s\n",
      "[CV] END learning_rate=0.054, max_depth=14, n_estimators=926; total time=   2.0s\n",
      "[CV] END learning_rate=0.054, max_depth=16, n_estimators=926; total time=   2.0s\n",
      "[CV] END learning_rate=0.054, max_depth=16, n_estimators=926; total time=   2.0s\n",
      "[CV] END .learning_rate=0.026, max_depth=9, n_estimators=926; total time=   2.0s\n",
      "[CV] END .learning_rate=0.026, max_depth=9, n_estimators=926; total time=   2.0s\n",
      "[CV] END ..learning_rate=0.03, max_depth=9, n_estimators=926; total time=   3.2s\n",
      "[CV] END ..learning_rate=0.03, max_depth=9, n_estimators=926; total time=   3.2s\n",
      "[CV] END .learning_rate=0.034, max_depth=9, n_estimators=926; total time=   3.2s\n",
      "[CV] END .learning_rate=0.038, max_depth=9, n_estimators=926; total time=   3.1s\n",
      "[CV] END .learning_rate=0.038, max_depth=9, n_estimators=926; total time=   3.3s\n",
      "[CV] END learning_rate=0.041999999999999996, max_depth=9, n_estimators=926; total time=   3.1s\n",
      "[CV] END .learning_rate=0.046, max_depth=9, n_estimators=926; total time=   3.1s\n",
      "[CV] END ..learning_rate=0.05, max_depth=9, n_estimators=926; total time=   3.0s\n",
      "[CV] END ..learning_rate=0.05, max_depth=9, n_estimators=926; total time=   3.3s\n",
      "[CV] END .learning_rate=0.054, max_depth=9, n_estimators=926; total time=   2.8s\n",
      "[CV] END .learning_rate=0.026, max_depth=9, n_estimators=926; total time=   2.0s\n",
      "[CV] END .learning_rate=0.026, max_depth=9, n_estimators=926; total time=   2.0s\n",
      "[CV] END learning_rate=0.026, max_depth=14, n_estimators=926; total time=   2.1s\n",
      "[CV] END learning_rate=0.026, max_depth=14, n_estimators=926; total time=   2.9s\n",
      "[CV] END learning_rate=0.026, max_depth=16, n_estimators=926; total time=   2.5s\n",
      "[CV] END learning_rate=0.026, max_depth=16, n_estimators=926; total time=   2.1s\n",
      "[CV] END ..learning_rate=0.03, max_depth=9, n_estimators=926; total time=   2.0s\n",
      "[CV] END ..learning_rate=0.03, max_depth=9, n_estimators=926; total time=   2.3s\n",
      "[CV] END .learning_rate=0.03, max_depth=14, n_estimators=926; total time=   2.0s\n",
      "[CV] END .learning_rate=0.03, max_depth=14, n_estimators=926; total time=   2.3s\n",
      "[CV] END .learning_rate=0.03, max_depth=16, n_estimators=926; total time=   2.0s\n",
      "[CV] END .learning_rate=0.03, max_depth=16, n_estimators=926; total time=   2.0s\n",
      "[CV] END .learning_rate=0.03, max_depth=16, n_estimators=926; total time=   3.2s\n",
      "[CV] END .learning_rate=0.034, max_depth=9, n_estimators=926; total time=   3.2s\n",
      "[CV] END learning_rate=0.034, max_depth=14, n_estimators=926; total time=   2.0s\n",
      "[CV] END learning_rate=0.034, max_depth=14, n_estimators=926; total time=   2.1s\n",
      "[CV] END learning_rate=0.034, max_depth=16, n_estimators=926; total time=   3.2s\n",
      "[CV] END .learning_rate=0.038, max_depth=9, n_estimators=926; total time=   3.1s\n",
      "[CV] END .learning_rate=0.038, max_depth=9, n_estimators=926; total time=   3.1s\n",
      "[CV] END learning_rate=0.038, max_depth=14, n_estimators=926; total time=   3.2s\n",
      "[CV] END learning_rate=0.038, max_depth=16, n_estimators=926; total time=   2.9s\n",
      "[CV] END learning_rate=0.038, max_depth=16, n_estimators=926; total time=   2.0s\n",
      "[CV] END learning_rate=0.041999999999999996, max_depth=9, n_estimators=926; total time=   2.5s\n",
      "[CV] END learning_rate=0.041999999999999996, max_depth=9, n_estimators=926; total time=   3.3s\n",
      "[CV] END learning_rate=0.041999999999999996, max_depth=14, n_estimators=926; total time=   3.1s\n",
      "[CV] END learning_rate=0.041999999999999996, max_depth=16, n_estimators=926; total time=   2.8s\n",
      "[CV] END learning_rate=0.041999999999999996, max_depth=16, n_estimators=926; total time=   2.0s\n",
      "[CV] END .learning_rate=0.046, max_depth=9, n_estimators=926; total time=   1.9s\n",
      "[CV] END .learning_rate=0.046, max_depth=9, n_estimators=926; total time=   1.9s\n",
      "[CV] END learning_rate=0.046, max_depth=14, n_estimators=926; total time=   1.9s\n",
      "[CV] END learning_rate=0.046, max_depth=14, n_estimators=926; total time=   2.3s\n",
      "[CV] END learning_rate=0.046, max_depth=16, n_estimators=926; total time=   3.0s\n",
      "[CV] END learning_rate=0.046, max_depth=16, n_estimators=926; total time=   3.3s\n",
      "[CV] END ..learning_rate=0.05, max_depth=9, n_estimators=926; total time=   3.0s\n",
      "[CV] END .learning_rate=0.05, max_depth=14, n_estimators=926; total time=   3.0s\n",
      "[CV] END .learning_rate=0.05, max_depth=16, n_estimators=926; total time=   3.1s\n",
      "[CV] END .learning_rate=0.05, max_depth=16, n_estimators=926; total time=   3.1s\n",
      "[CV] END .learning_rate=0.054, max_depth=9, n_estimators=926; total time=   3.0s\n",
      "[CV] END learning_rate=0.054, max_depth=14, n_estimators=926; total time=   3.1s\n",
      "[CV] END learning_rate=0.054, max_depth=14, n_estimators=926; total time=   3.1s\n",
      "[CV] END learning_rate=0.054, max_depth=16, n_estimators=926; total time=   2.8s\n",
      "[CV] END .learning_rate=0.026, max_depth=9, n_estimators=926; total time=   3.3s\n",
      "[CV] END .learning_rate=0.026, max_depth=9, n_estimators=926; total time=   3.5s\n",
      "[CV] END ..learning_rate=0.03, max_depth=9, n_estimators=926; total time=   2.3s\n",
      "[CV] END .learning_rate=0.034, max_depth=9, n_estimators=926; total time=   2.2s\n",
      "[CV] END .learning_rate=0.034, max_depth=9, n_estimators=926; total time=   3.1s\n",
      "[CV] END .learning_rate=0.038, max_depth=9, n_estimators=926; total time=   3.1s\n",
      "[CV] END learning_rate=0.041999999999999996, max_depth=9, n_estimators=926; total time=   3.1s\n",
      "[CV] END learning_rate=0.041999999999999996, max_depth=9, n_estimators=926; total time=   3.0s\n",
      "[CV] END .learning_rate=0.046, max_depth=9, n_estimators=926; total time=   3.0s\n",
      "[CV] END ..learning_rate=0.05, max_depth=9, n_estimators=926; total time=   3.0s\n",
      "[CV] END .learning_rate=0.054, max_depth=9, n_estimators=926; total time=   3.0s\n",
      "[CV] END .learning_rate=0.054, max_depth=9, n_estimators=926; total time=   2.6s\n",
      "[CV] END .learning_rate=0.026, max_depth=9, n_estimators=926; total time=   3.6s\n",
      "[CV] END learning_rate=0.026, max_depth=14, n_estimators=926; total time=   3.3s\n",
      "[CV] END learning_rate=0.026, max_depth=14, n_estimators=926; total time=   3.3s\n",
      "[CV] END learning_rate=0.026, max_depth=16, n_estimators=926; total time=   3.3s\n",
      "[CV] END ..learning_rate=0.03, max_depth=9, n_estimators=926; total time=   3.3s\n",
      "[CV] END ..learning_rate=0.03, max_depth=9, n_estimators=926; total time=   3.4s\n",
      "[CV] END .learning_rate=0.03, max_depth=14, n_estimators=926; total time=   3.2s\n",
      "[CV] END .learning_rate=0.03, max_depth=16, n_estimators=926; total time=   3.2s\n",
      "[CV] END .learning_rate=0.034, max_depth=9, n_estimators=926; total time=   3.1s\n",
      "[CV] END .learning_rate=0.034, max_depth=9, n_estimators=926; total time=   2.1s\n",
      "[CV] END learning_rate=0.034, max_depth=14, n_estimators=926; total time=   3.0s\n",
      "[CV] END learning_rate=0.034, max_depth=14, n_estimators=926; total time=   2.8s\n",
      "[CV] END learning_rate=0.034, max_depth=16, n_estimators=926; total time=   2.0s\n",
      "[CV] END learning_rate=0.034, max_depth=16, n_estimators=926; total time=   2.4s\n",
      "[CV] END .learning_rate=0.038, max_depth=9, n_estimators=926; total time=   2.0s\n",
      "[CV] END .learning_rate=0.038, max_depth=9, n_estimators=926; total time=   2.0s\n",
      "[CV] END learning_rate=0.038, max_depth=14, n_estimators=926; total time=   2.0s\n",
      "[CV] END learning_rate=0.038, max_depth=14, n_estimators=926; total time=   2.0s\n",
      "[CV] END learning_rate=0.038, max_depth=16, n_estimators=926; total time=   2.0s\n",
      "[CV] END learning_rate=0.038, max_depth=16, n_estimators=926; total time=   3.2s\n",
      "[CV] END learning_rate=0.041999999999999996, max_depth=9, n_estimators=926; total time=   3.1s\n",
      "[CV] END learning_rate=0.041999999999999996, max_depth=14, n_estimators=926; total time=   3.1s\n",
      "[CV] END learning_rate=0.041999999999999996, max_depth=14, n_estimators=926; total time=   3.3s\n",
      "[CV] END learning_rate=0.041999999999999996, max_depth=16, n_estimators=926; total time=   3.2s\n",
      "[CV] END .learning_rate=0.046, max_depth=9, n_estimators=926; total time=   3.4s\n",
      "[CV] END learning_rate=0.046, max_depth=14, n_estimators=926; total time=   3.2s\n",
      "[CV] END learning_rate=0.046, max_depth=14, n_estimators=926; total time=   3.1s\n",
      "[CV] END learning_rate=0.046, max_depth=16, n_estimators=926; total time=   3.1s\n",
      "[CV] END ..learning_rate=0.05, max_depth=9, n_estimators=926; total time=   3.0s\n",
      "[CV] END ..learning_rate=0.05, max_depth=9, n_estimators=926; total time=   3.2s\n",
      "[CV] END .learning_rate=0.05, max_depth=14, n_estimators=926; total time=   3.1s\n",
      "[CV] END .learning_rate=0.05, max_depth=16, n_estimators=926; total time=   3.1s\n",
      "[CV] END .learning_rate=0.054, max_depth=9, n_estimators=926; total time=   3.0s\n",
      "[CV] END .learning_rate=0.054, max_depth=9, n_estimators=926; total time=   3.0s\n",
      "[CV] END learning_rate=0.054, max_depth=14, n_estimators=926; total time=   3.0s\n",
      "[CV] END learning_rate=0.054, max_depth=16, n_estimators=926; total time=   3.0s\n",
      "[CV] END learning_rate=0.054, max_depth=16, n_estimators=926; total time=   2.5s\n"
     ]
    }
   ],
   "source": [
    "model = LGBMRegressor(learning_rate=0.042, max_depth=14, n_estimators=926, num_iteration=932)\n",
    "\n",
    "save_submission(model, train, y, test, 'lgbm', rmsle='0.1604')"
   ]
  },
  {
   "cell_type": "markdown",
   "id": "f273e664",
   "metadata": {},
   "source": [
    "## 회고\n",
    "이번 Exploration 05번은 문제의 본질에 대해서 제대로 이해하지 못했다   \n",
    "처음에 이 과정 자체가 무엇을 위한 것인지 제대로 판단하지 못했었어 어떻게 공부해야할지 전혀 갈피를 못 잡았다     \n",
    "그저 순차적으로 진행하면서 이번 노드의 목적이 무었인지 생각안하고 하다보니 그나마 하이퍼파라미터를 수정하는 것을 조금이나마 알았고        \n",
    "전체적인 흐름을 전혀 이해하지 못해서 제출하는 과제조차 그나마 이해한 GridSearchCV를 이용한 가장 적합한 하이퍼파라미터를 찾아내는 과정만 겨우 했을 뿐이다    \n",
    "\n",
    "중간에 하이퍼파라미터에 대해서 좀더 적합한 범위를 잡기 위해서 랜덤 서치를 사용해 적당한 값을 찾았고      \n",
    "조금 더 정확하게 확인해보고 싶어서 다시 GridSearch에 가장 괜찮았던 점수들을 범위로 지정해서 다시 넣어주는 작업을 반복했다.    \n",
    "그러다 보니 6750개 fitting을 진행하기도 해서 점심시간을 활용해 돌렸는데 한시간이 넘게 걸렸다\n",
    "\n",
    "사용한 매개변수는 max_depth, learning_rate, n_estimators 세 개를 사용했다\n",
    "계속해서 110000보다 큰 값이 나와서 num_leaves, min_child_samples를 추가로 사용해 보았지만 오히려 더 수치가 나오게 되어서 제외하고 최적의 범위를 찾아가다보니 적절한 값이 나오게 되었다\n",
    "\n",
    "\n",
    "결론 이해가 많이 부족한 노드였다.\n",
    "조금더 공부를 한 후에 다시한번 찾아 와야할 노드\n"
   ]
  },
  {
   "attachments": {
    "image-2.png": {
     "image/png": "[encoded data removed]"
    },
    "image.png": {
     "image/png": "[encoded data removed]"
    }
   },
   "cell_type": "markdown",
   "id": "0a4b754b",
   "metadata": {},
   "source": [
    "![image.png](attachment:image.png)\n",
    "\n",
    "![image-2.png](attachment:image-2.png)"
   ]
  },
  {
   "cell_type": "code",
   "execution_count": null,
   "id": "fede1ee4",
   "metadata": {},
   "outputs": [],
   "source": []
  }
 ],
 "metadata": {
  "kernelspec": {
   "display_name": "Python 3 (ipykernel)",
   "language": "python",
   "name": "python3"
  },
  "language_info": {
   "codemirror_mode": {
    "name": "ipython",
    "version": 3
   },
   "file_extension": ".py",
   "mimetype": "text/x-python",
   "name": "python",
   "nbconvert_exporter": "python",
   "pygments_lexer": "ipython3",
   "version": "3.9.7"
  }
 },
 "nbformat": 4,
 "nbformat_minor": 5
}
