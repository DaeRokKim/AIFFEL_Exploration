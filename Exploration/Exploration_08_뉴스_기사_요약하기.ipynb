{
  "nbformat": 4,
  "nbformat_minor": 0,
  "metadata": {
    "colab": {
      "name": "Exploration_08_뉴스 기사 요약하기.ipynb",
      "provenance": [],
      "collapsed_sections": []
    },
    "kernelspec": {
      "name": "python3",
      "display_name": "Python 3"
    },
    "language_info": {
      "name": "python"
    },
    "accelerator": "TPU"
  },
  "cells": [
    {
      "cell_type": "code",
      "execution_count": 1,
      "metadata": {
        "colab": {
          "base_uri": "https://localhost:8080/"
        },
        "id": "LgO7ixiIQomP",
        "outputId": "6f0fe265-ca37-40a4-f4bb-fe05212a9282"
      },
      "outputs": [
        {
          "output_type": "stream",
          "name": "stdout",
          "text": [
            "[nltk_data] Downloading package stopwords to /root/nltk_data...\n",
            "[nltk_data]   Package stopwords is already up-to-date!\n",
            "INFO:tensorflow:Deallocate tpu buffers before initializing tpu system.\n"
          ]
        },
        {
          "output_type": "stream",
          "name": "stderr",
          "text": [
            "INFO:tensorflow:Deallocate tpu buffers before initializing tpu system.\n"
          ]
        },
        {
          "output_type": "stream",
          "name": "stdout",
          "text": [
            "INFO:tensorflow:Initializing the TPU system: grpc://10.34.155.74:8470\n"
          ]
        },
        {
          "output_type": "stream",
          "name": "stderr",
          "text": [
            "INFO:tensorflow:Initializing the TPU system: grpc://10.34.155.74:8470\n"
          ]
        },
        {
          "output_type": "stream",
          "name": "stdout",
          "text": [
            "INFO:tensorflow:Finished initializing TPU system.\n"
          ]
        },
        {
          "output_type": "stream",
          "name": "stderr",
          "text": [
            "INFO:tensorflow:Finished initializing TPU system.\n"
          ]
        },
        {
          "output_type": "stream",
          "name": "stdout",
          "text": [
            "INFO:tensorflow:Found TPU system:\n"
          ]
        },
        {
          "output_type": "stream",
          "name": "stderr",
          "text": [
            "INFO:tensorflow:Found TPU system:\n"
          ]
        },
        {
          "output_type": "stream",
          "name": "stdout",
          "text": [
            "INFO:tensorflow:*** Num TPU Cores: 8\n"
          ]
        },
        {
          "output_type": "stream",
          "name": "stderr",
          "text": [
            "INFO:tensorflow:*** Num TPU Cores: 8\n"
          ]
        },
        {
          "output_type": "stream",
          "name": "stdout",
          "text": [
            "INFO:tensorflow:*** Num TPU Workers: 1\n"
          ]
        },
        {
          "output_type": "stream",
          "name": "stderr",
          "text": [
            "INFO:tensorflow:*** Num TPU Workers: 1\n"
          ]
        },
        {
          "output_type": "stream",
          "name": "stdout",
          "text": [
            "INFO:tensorflow:*** Num TPU Cores Per Worker: 8\n"
          ]
        },
        {
          "output_type": "stream",
          "name": "stderr",
          "text": [
            "INFO:tensorflow:*** Num TPU Cores Per Worker: 8\n"
          ]
        },
        {
          "output_type": "stream",
          "name": "stdout",
          "text": [
            "INFO:tensorflow:*** Available Device: _DeviceAttributes(/job:localhost/replica:0/task:0/device:CPU:0, CPU, 0, 0)\n"
          ]
        },
        {
          "output_type": "stream",
          "name": "stderr",
          "text": [
            "INFO:tensorflow:*** Available Device: _DeviceAttributes(/job:localhost/replica:0/task:0/device:CPU:0, CPU, 0, 0)\n"
          ]
        },
        {
          "output_type": "stream",
          "name": "stdout",
          "text": [
            "INFO:tensorflow:*** Available Device: _DeviceAttributes(/job:worker/replica:0/task:0/device:CPU:0, CPU, 0, 0)\n"
          ]
        },
        {
          "output_type": "stream",
          "name": "stderr",
          "text": [
            "INFO:tensorflow:*** Available Device: _DeviceAttributes(/job:worker/replica:0/task:0/device:CPU:0, CPU, 0, 0)\n"
          ]
        },
        {
          "output_type": "stream",
          "name": "stdout",
          "text": [
            "INFO:tensorflow:*** Available Device: _DeviceAttributes(/job:worker/replica:0/task:0/device:TPU:0, TPU, 0, 0)\n"
          ]
        },
        {
          "output_type": "stream",
          "name": "stderr",
          "text": [
            "INFO:tensorflow:*** Available Device: _DeviceAttributes(/job:worker/replica:0/task:0/device:TPU:0, TPU, 0, 0)\n"
          ]
        },
        {
          "output_type": "stream",
          "name": "stdout",
          "text": [
            "INFO:tensorflow:*** Available Device: _DeviceAttributes(/job:worker/replica:0/task:0/device:TPU:1, TPU, 0, 0)\n"
          ]
        },
        {
          "output_type": "stream",
          "name": "stderr",
          "text": [
            "INFO:tensorflow:*** Available Device: _DeviceAttributes(/job:worker/replica:0/task:0/device:TPU:1, TPU, 0, 0)\n"
          ]
        },
        {
          "output_type": "stream",
          "name": "stdout",
          "text": [
            "INFO:tensorflow:*** Available Device: _DeviceAttributes(/job:worker/replica:0/task:0/device:TPU:2, TPU, 0, 0)\n"
          ]
        },
        {
          "output_type": "stream",
          "name": "stderr",
          "text": [
            "INFO:tensorflow:*** Available Device: _DeviceAttributes(/job:worker/replica:0/task:0/device:TPU:2, TPU, 0, 0)\n"
          ]
        },
        {
          "output_type": "stream",
          "name": "stdout",
          "text": [
            "INFO:tensorflow:*** Available Device: _DeviceAttributes(/job:worker/replica:0/task:0/device:TPU:3, TPU, 0, 0)\n"
          ]
        },
        {
          "output_type": "stream",
          "name": "stderr",
          "text": [
            "INFO:tensorflow:*** Available Device: _DeviceAttributes(/job:worker/replica:0/task:0/device:TPU:3, TPU, 0, 0)\n"
          ]
        },
        {
          "output_type": "stream",
          "name": "stdout",
          "text": [
            "INFO:tensorflow:*** Available Device: _DeviceAttributes(/job:worker/replica:0/task:0/device:TPU:4, TPU, 0, 0)\n"
          ]
        },
        {
          "output_type": "stream",
          "name": "stderr",
          "text": [
            "INFO:tensorflow:*** Available Device: _DeviceAttributes(/job:worker/replica:0/task:0/device:TPU:4, TPU, 0, 0)\n"
          ]
        },
        {
          "output_type": "stream",
          "name": "stdout",
          "text": [
            "INFO:tensorflow:*** Available Device: _DeviceAttributes(/job:worker/replica:0/task:0/device:TPU:5, TPU, 0, 0)\n"
          ]
        },
        {
          "output_type": "stream",
          "name": "stderr",
          "text": [
            "INFO:tensorflow:*** Available Device: _DeviceAttributes(/job:worker/replica:0/task:0/device:TPU:5, TPU, 0, 0)\n"
          ]
        },
        {
          "output_type": "stream",
          "name": "stdout",
          "text": [
            "INFO:tensorflow:*** Available Device: _DeviceAttributes(/job:worker/replica:0/task:0/device:TPU:6, TPU, 0, 0)\n"
          ]
        },
        {
          "output_type": "stream",
          "name": "stderr",
          "text": [
            "INFO:tensorflow:*** Available Device: _DeviceAttributes(/job:worker/replica:0/task:0/device:TPU:6, TPU, 0, 0)\n"
          ]
        },
        {
          "output_type": "stream",
          "name": "stdout",
          "text": [
            "INFO:tensorflow:*** Available Device: _DeviceAttributes(/job:worker/replica:0/task:0/device:TPU:7, TPU, 0, 0)\n"
          ]
        },
        {
          "output_type": "stream",
          "name": "stderr",
          "text": [
            "INFO:tensorflow:*** Available Device: _DeviceAttributes(/job:worker/replica:0/task:0/device:TPU:7, TPU, 0, 0)\n"
          ]
        },
        {
          "output_type": "stream",
          "name": "stdout",
          "text": [
            "INFO:tensorflow:*** Available Device: _DeviceAttributes(/job:worker/replica:0/task:0/device:TPU_SYSTEM:0, TPU_SYSTEM, 0, 0)\n"
          ]
        },
        {
          "output_type": "stream",
          "name": "stderr",
          "text": [
            "INFO:tensorflow:*** Available Device: _DeviceAttributes(/job:worker/replica:0/task:0/device:TPU_SYSTEM:0, TPU_SYSTEM, 0, 0)\n"
          ]
        },
        {
          "output_type": "stream",
          "name": "stdout",
          "text": [
            "INFO:tensorflow:*** Available Device: _DeviceAttributes(/job:worker/replica:0/task:0/device:XLA_CPU:0, XLA_CPU, 0, 0)\n"
          ]
        },
        {
          "output_type": "stream",
          "name": "stderr",
          "text": [
            "INFO:tensorflow:*** Available Device: _DeviceAttributes(/job:worker/replica:0/task:0/device:XLA_CPU:0, XLA_CPU, 0, 0)\n"
          ]
        }
      ],
      "source": [
        "import nltk\n",
        "nltk.download('stopwords')\n",
        "\n",
        "import numpy as np\n",
        "import pandas as pd\n",
        "import os, re, io\n",
        "import matplotlib.pyplot as plt\n",
        "from nltk.corpus import stopwords\n",
        "from bs4 import BeautifulSoup\n",
        "from tensorflow.keras.preprocessing.text import Tokenizer\n",
        "from tensorflow.keras.preprocessing.sequence import pad_sequences\n",
        "import urllib.request\n",
        "import warnings\n",
        "warnings.filterwarnings(\"ignore\", category=UserWarning, module='bs4')\n",
        "\n",
        "import tensorflow as tf\n",
        "\n",
        "resolver=tf.distribute.cluster_resolver.TPUClusterResolver(tpu='grpc://' + os.environ['COLAB_TPU_ADDR'])\n",
        "tf.config.experimental_connect_to_cluster(resolver)\n",
        "tf.tpu.experimental.initialize_tpu_system(resolver)\n",
        "strategy = tf.distribute.TPUStrategy(resolver)\n"
      ]
    },
    {
      "cell_type": "code",
      "source": [
        "import urllib.request\n",
        "urllib.request.urlretrieve(\"https://raw.githubusercontent.com/sunnysai12345/News_Summary/master/news_summary_more.csv\", filename=\"news_summary_more.csv\")\n",
        "data = pd.read_csv('news_summary_more.csv', encoding='iso-8859-1')"
      ],
      "metadata": {
        "id": "8MnrpY8cQvwP"
      },
      "execution_count": 2,
      "outputs": []
    },
    {
      "cell_type": "code",
      "source": [
        "data_copy = data\n",
        "data_copy.shape"
      ],
      "metadata": {
        "colab": {
          "base_uri": "https://localhost:8080/"
        },
        "id": "kJGpxouc_bc-",
        "outputId": "7f89d891-d29a-433b-a0a7-27fa3d39cd4c"
      },
      "execution_count": 3,
      "outputs": [
        {
          "output_type": "execute_result",
          "data": {
            "text/plain": [
              "(98401, 2)"
            ]
          },
          "metadata": {},
          "execution_count": 3
        }
      ]
    },
    {
      "cell_type": "code",
      "source": [
        "data.sample(10)"
      ],
      "metadata": {
        "colab": {
          "base_uri": "https://localhost:8080/",
          "height": 363
        },
        "id": "BKYBYi2kTDz8",
        "outputId": "e245c30c-eb74-4d12-be02-eba4cbb3ef5f"
      },
      "execution_count": 4,
      "outputs": [
        {
          "output_type": "execute_result",
          "data": {
            "text/html": [
              "\n",
              "  <div id=\"df-4f49a31d-f22e-4b5e-99e3-aab1b3b48372\">\n",
              "    <div class=\"colab-df-container\">\n",
              "      <div>\n",
              "<style scoped>\n",
              "    .dataframe tbody tr th:only-of-type {\n",
              "        vertical-align: middle;\n",
              "    }\n",
              "\n",
              "    .dataframe tbody tr th {\n",
              "        vertical-align: top;\n",
              "    }\n",
              "\n",
              "    .dataframe thead th {\n",
              "        text-align: right;\n",
              "    }\n",
              "</style>\n",
              "<table border=\"1\" class=\"dataframe\">\n",
              "  <thead>\n",
              "    <tr style=\"text-align: right;\">\n",
              "      <th></th>\n",
              "      <th>headlines</th>\n",
              "      <th>text</th>\n",
              "    </tr>\n",
              "  </thead>\n",
              "  <tbody>\n",
              "    <tr>\n",
              "      <th>14800</th>\n",
              "      <td>Air India apologises after passengers locked i...</td>\n",
              "      <td>Air India on Wednesday rendered an apology a d...</td>\n",
              "    </tr>\n",
              "    <tr>\n",
              "      <th>43540</th>\n",
              "      <td>Harvard-backed firm aims for minimally invasiv...</td>\n",
              "      <td>Paris-based startup HoliStick Medical is devel...</td>\n",
              "    </tr>\n",
              "    <tr>\n",
              "      <th>45590</th>\n",
              "      <td>Aqueous battery that can be charged within 30 ...</td>\n",
              "      <td>South Korea-based researchers developed an aqu...</td>\n",
              "    </tr>\n",
              "    <tr>\n",
              "      <th>88364</th>\n",
              "      <td>Heavy rains may have shaped Mars surface: Study</td>\n",
              "      <td>Heavy rain on Mars may have reshaped its impac...</td>\n",
              "    </tr>\n",
              "    <tr>\n",
              "      <th>8284</th>\n",
              "      <td>Man Utd boss Mourinho throws crate of bottles ...</td>\n",
              "      <td>Manchester United manager Jose Mourinho celebr...</td>\n",
              "    </tr>\n",
              "    <tr>\n",
              "      <th>69506</th>\n",
              "      <td>Note ban, hasty GST rollout affected GDP: Manm...</td>\n",
              "      <td>Former Prime Minister Manmohan Singh on Monday...</td>\n",
              "    </tr>\n",
              "    <tr>\n",
              "      <th>30929</th>\n",
              "      <td>No plans to regulate digital news websites: I&amp;...</td>\n",
              "      <td>Newly appointed I&amp;B Minister Rajyavardhan Rath...</td>\n",
              "    </tr>\n",
              "    <tr>\n",
              "      <th>9772</th>\n",
              "      <td>There was too much pressure on Unadkat over hi...</td>\n",
              "      <td>IPL franchise Rajasthan Royals have said they ...</td>\n",
              "    </tr>\n",
              "    <tr>\n",
              "      <th>64331</th>\n",
              "      <td>Punjab government dismisses reports of tax on ...</td>\n",
              "      <td>The Punjab government has dismissed reports cl...</td>\n",
              "    </tr>\n",
              "    <tr>\n",
              "      <th>63174</th>\n",
              "      <td>No hesitation discussing sexual relations with...</td>\n",
              "      <td>Actor Irrfan Khan, while talking about his equ...</td>\n",
              "    </tr>\n",
              "  </tbody>\n",
              "</table>\n",
              "</div>\n",
              "      <button class=\"colab-df-convert\" onclick=\"convertToInteractive('df-4f49a31d-f22e-4b5e-99e3-aab1b3b48372')\"\n",
              "              title=\"Convert this dataframe to an interactive table.\"\n",
              "              style=\"display:none;\">\n",
              "        \n",
              "  <svg xmlns=\"http://www.w3.org/2000/svg\" height=\"24px\"viewBox=\"0 0 24 24\"\n",
              "       width=\"24px\">\n",
              "    <path d=\"M0 0h24v24H0V0z\" fill=\"none\"/>\n",
              "    <path d=\"M18.56 5.44l.94 2.06.94-2.06 2.06-.94-2.06-.94-.94-2.06-.94 2.06-2.06.94zm-11 1L8.5 8.5l.94-2.06 2.06-.94-2.06-.94L8.5 2.5l-.94 2.06-2.06.94zm10 10l.94 2.06.94-2.06 2.06-.94-2.06-.94-.94-2.06-.94 2.06-2.06.94z\"/><path d=\"M17.41 7.96l-1.37-1.37c-.4-.4-.92-.59-1.43-.59-.52 0-1.04.2-1.43.59L10.3 9.45l-7.72 7.72c-.78.78-.78 2.05 0 2.83L4 21.41c.39.39.9.59 1.41.59.51 0 1.02-.2 1.41-.59l7.78-7.78 2.81-2.81c.8-.78.8-2.07 0-2.86zM5.41 20L4 18.59l7.72-7.72 1.47 1.35L5.41 20z\"/>\n",
              "  </svg>\n",
              "      </button>\n",
              "      \n",
              "  <style>\n",
              "    .colab-df-container {\n",
              "      display:flex;\n",
              "      flex-wrap:wrap;\n",
              "      gap: 12px;\n",
              "    }\n",
              "\n",
              "    .colab-df-convert {\n",
              "      background-color: #E8F0FE;\n",
              "      border: none;\n",
              "      border-radius: 50%;\n",
              "      cursor: pointer;\n",
              "      display: none;\n",
              "      fill: #1967D2;\n",
              "      height: 32px;\n",
              "      padding: 0 0 0 0;\n",
              "      width: 32px;\n",
              "    }\n",
              "\n",
              "    .colab-df-convert:hover {\n",
              "      background-color: #E2EBFA;\n",
              "      box-shadow: 0px 1px 2px rgba(60, 64, 67, 0.3), 0px 1px 3px 1px rgba(60, 64, 67, 0.15);\n",
              "      fill: #174EA6;\n",
              "    }\n",
              "\n",
              "    [theme=dark] .colab-df-convert {\n",
              "      background-color: #3B4455;\n",
              "      fill: #D2E3FC;\n",
              "    }\n",
              "\n",
              "    [theme=dark] .colab-df-convert:hover {\n",
              "      background-color: #434B5C;\n",
              "      box-shadow: 0px 1px 3px 1px rgba(0, 0, 0, 0.15);\n",
              "      filter: drop-shadow(0px 1px 2px rgba(0, 0, 0, 0.3));\n",
              "      fill: #FFFFFF;\n",
              "    }\n",
              "  </style>\n",
              "\n",
              "      <script>\n",
              "        const buttonEl =\n",
              "          document.querySelector('#df-4f49a31d-f22e-4b5e-99e3-aab1b3b48372 button.colab-df-convert');\n",
              "        buttonEl.style.display =\n",
              "          google.colab.kernel.accessAllowed ? 'block' : 'none';\n",
              "\n",
              "        async function convertToInteractive(key) {\n",
              "          const element = document.querySelector('#df-4f49a31d-f22e-4b5e-99e3-aab1b3b48372');\n",
              "          const dataTable =\n",
              "            await google.colab.kernel.invokeFunction('convertToInteractive',\n",
              "                                                     [key], {});\n",
              "          if (!dataTable) return;\n",
              "\n",
              "          const docLinkHtml = 'Like what you see? Visit the ' +\n",
              "            '<a target=\"_blank\" href=https://colab.research.google.com/notebooks/data_table.ipynb>data table notebook</a>'\n",
              "            + ' to learn more about interactive tables.';\n",
              "          element.innerHTML = '';\n",
              "          dataTable['output_type'] = 'display_data';\n",
              "          await google.colab.output.renderOutput(dataTable, element);\n",
              "          const docLink = document.createElement('div');\n",
              "          docLink.innerHTML = docLinkHtml;\n",
              "          element.appendChild(docLink);\n",
              "        }\n",
              "      </script>\n",
              "    </div>\n",
              "  </div>\n",
              "  "
            ],
            "text/plain": [
              "                                               headlines                                               text\n",
              "14800  Air India apologises after passengers locked i...  Air India on Wednesday rendered an apology a d...\n",
              "43540  Harvard-backed firm aims for minimally invasiv...  Paris-based startup HoliStick Medical is devel...\n",
              "45590  Aqueous battery that can be charged within 30 ...  South Korea-based researchers developed an aqu...\n",
              "88364    Heavy rains may have shaped Mars surface: Study  Heavy rain on Mars may have reshaped its impac...\n",
              "8284   Man Utd boss Mourinho throws crate of bottles ...  Manchester United manager Jose Mourinho celebr...\n",
              "69506  Note ban, hasty GST rollout affected GDP: Manm...  Former Prime Minister Manmohan Singh on Monday...\n",
              "30929  No plans to regulate digital news websites: I&...  Newly appointed I&B Minister Rajyavardhan Rath...\n",
              "9772   There was too much pressure on Unadkat over hi...  IPL franchise Rajasthan Royals have said they ...\n",
              "64331  Punjab government dismisses reports of tax on ...  The Punjab government has dismissed reports cl...\n",
              "63174  No hesitation discussing sexual relations with...  Actor Irrfan Khan, while talking about his equ..."
            ]
          },
          "metadata": {},
          "execution_count": 4
        }
      ]
    },
    {
      "cell_type": "code",
      "source": [
        "# 전체 샘플 수 확인\n",
        "print(\"전체 샘플 수 : \", len(data))"
      ],
      "metadata": {
        "colab": {
          "base_uri": "https://localhost:8080/"
        },
        "id": "LljRUOr4TDhq",
        "outputId": "a0c37031-3606-4c0d-f39c-7fbabe2cc615"
      },
      "execution_count": 5,
      "outputs": [
        {
          "output_type": "stream",
          "name": "stdout",
          "text": [
            "전체 샘플 수 :  98401\n"
          ]
        }
      ]
    },
    {
      "cell_type": "code",
      "source": [
        "print(\"Text 중복 제외 샘플 수 : \", data[\"text\"].nunique())\n",
        "print(\"headlines 중복 제외 샘플 수\", data[\"headlines\"].nunique())"
      ],
      "metadata": {
        "colab": {
          "base_uri": "https://localhost:8080/"
        },
        "id": "mfjEETQMVl3O",
        "outputId": "7568858b-38bd-4c53-c50a-83f29cef6836"
      },
      "execution_count": 6,
      "outputs": [
        {
          "output_type": "stream",
          "name": "stdout",
          "text": [
            "Text 중복 제외 샘플 수 :  98360\n",
            "headlines 중복 제외 샘플 수 98280\n"
          ]
        }
      ]
    },
    {
      "cell_type": "code",
      "source": [
        "# 중복 샘플 제거하기 `drop_duplicates()`사용하기\n",
        "\n",
        "data.drop_duplicates(subset = ['text'], inplace=True)\n",
        "data.drop_duplicates(subset = ['headlines'], inplace=True)"
      ],
      "metadata": {
        "id": "s7jcvv0dWWZt"
      },
      "execution_count": 7,
      "outputs": []
    },
    {
      "cell_type": "code",
      "source": [
        "# 다시 전체 샘플 수 확인\n",
        "\n",
        "print(\"전체 샘플 수 : \", len(data))"
      ],
      "metadata": {
        "colab": {
          "base_uri": "https://localhost:8080/"
        },
        "id": "9ac_6XdkZPpu",
        "outputId": "be7425af-7ca8-40fa-8ae8-0eb609024b79"
      },
      "execution_count": 8,
      "outputs": [
        {
          "output_type": "stream",
          "name": "stdout",
          "text": [
            "전체 샘플 수 :  98262\n"
          ]
        }
      ]
    },
    {
      "cell_type": "code",
      "source": [
        "# null 값 결측치 확인하기\n",
        "print(data.isnull().sum())\n",
        "# 따로 결측치는 없어 처리해 줄 필요는 없다."
      ],
      "metadata": {
        "colab": {
          "base_uri": "https://localhost:8080/"
        },
        "id": "CznUTkrBZW5r",
        "outputId": "8a9b4c96-da50-4316-8bad-bcd53608b787"
      },
      "execution_count": 9,
      "outputs": [
        {
          "output_type": "stream",
          "name": "stdout",
          "text": [
            "headlines    0\n",
            "text         0\n",
            "dtype: int64\n"
          ]
        }
      ]
    },
    {
      "cell_type": "markdown",
      "source": [
        "## 텍스트 정규화와 불용어 제거"
      ],
      "metadata": {
        "id": "v_oNf_fnZbFh"
      }
    },
    {
      "cell_type": "code",
      "source": [
        "contractions = {\"ain't\": \"is not\", \"aren't\": \"are not\",\"can't\": \"cannot\", \"'cause\": \"because\", \"could've\": \"could have\", \"couldn't\": \"could not\",\n",
        "                           \"didn't\": \"did not\",  \"doesn't\": \"does not\", \"don't\": \"do not\", \"hadn't\": \"had not\", \"hasn't\": \"has not\", \"haven't\": \"have not\",\n",
        "                           \"he'd\": \"he would\",\"he'll\": \"he will\", \"he's\": \"he is\", \"how'd\": \"how did\", \"how'd'y\": \"how do you\", \"how'll\": \"how will\", \"how's\": \"how is\",\n",
        "                           \"I'd\": \"I would\", \"I'd've\": \"I would have\", \"I'll\": \"I will\", \"I'll've\": \"I will have\",\"I'm\": \"I am\", \"I've\": \"I have\", \"i'd\": \"i would\",\n",
        "                           \"i'd've\": \"i would have\", \"i'll\": \"i will\",  \"i'll've\": \"i will have\",\"i'm\": \"i am\", \"i've\": \"i have\", \"isn't\": \"is not\", \"it'd\": \"it would\",\n",
        "                           \"it'd've\": \"it would have\", \"it'll\": \"it will\", \"it'll've\": \"it will have\",\"it's\": \"it is\", \"let's\": \"let us\", \"ma'am\": \"madam\",\n",
        "                           \"mayn't\": \"may not\", \"might've\": \"might have\",\"mightn't\": \"might not\",\"mightn't've\": \"might not have\", \"must've\": \"must have\",\n",
        "                           \"mustn't\": \"must not\", \"mustn't've\": \"must not have\", \"needn't\": \"need not\", \"needn't've\": \"need not have\",\"o'clock\": \"of the clock\",\n",
        "                           \"oughtn't\": \"ought not\", \"oughtn't've\": \"ought not have\", \"shan't\": \"shall not\", \"sha'n't\": \"shall not\", \"shan't've\": \"shall not have\",\n",
        "                           \"she'd\": \"she would\", \"she'd've\": \"she would have\", \"she'll\": \"she will\", \"she'll've\": \"she will have\", \"she's\": \"she is\",\n",
        "                           \"should've\": \"should have\", \"shouldn't\": \"should not\", \"shouldn't've\": \"should not have\", \"so've\": \"so have\",\"so's\": \"so as\",\n",
        "                           \"this's\": \"this is\",\"that'd\": \"that would\", \"that'd've\": \"that would have\", \"that's\": \"that is\", \"there'd\": \"there would\",\n",
        "                           \"there'd've\": \"there would have\", \"there's\": \"there is\", \"here's\": \"here is\",\"they'd\": \"they would\", \"they'd've\": \"they would have\",\n",
        "                           \"they'll\": \"they will\", \"they'll've\": \"they will have\", \"they're\": \"they are\", \"they've\": \"they have\", \"to've\": \"to have\",\n",
        "                           \"wasn't\": \"was not\", \"we'd\": \"we would\", \"we'd've\": \"we would have\", \"we'll\": \"we will\", \"we'll've\": \"we will have\", \"we're\": \"we are\",\n",
        "                           \"we've\": \"we have\", \"weren't\": \"were not\", \"what'll\": \"what will\", \"what'll've\": \"what will have\", \"what're\": \"what are\",\n",
        "                           \"what's\": \"what is\", \"what've\": \"what have\", \"when's\": \"when is\", \"when've\": \"when have\", \"where'd\": \"where did\", \"where's\": \"where is\",\n",
        "                           \"where've\": \"where have\", \"who'll\": \"who will\", \"who'll've\": \"who will have\", \"who's\": \"who is\", \"who've\": \"who have\",\n",
        "                           \"why's\": \"why is\", \"why've\": \"why have\", \"will've\": \"will have\", \"won't\": \"will not\", \"won't've\": \"will not have\",\n",
        "                           \"would've\": \"would have\", \"wouldn't\": \"would not\", \"wouldn't've\": \"would not have\", \"y'all\": \"you all\",\n",
        "                           \"y'all'd\": \"you all would\",\"y'all'd've\": \"you all would have\",\"y'all're\": \"you all are\",\"y'all've\": \"you all have\",\n",
        "                           \"you'd\": \"you would\", \"you'd've\": \"you would have\", \"you'll\": \"you will\", \"you'll've\": \"you will have\",\n",
        "                           \"you're\": \"you are\", \"you've\": \"you have\"}\n",
        "\n",
        "print(\"정규화 사전의 수: \", len(contractions))"
      ],
      "metadata": {
        "colab": {
          "base_uri": "https://localhost:8080/"
        },
        "id": "f4xC33q-ZuYw",
        "outputId": "bc2b6b40-d86e-4998-8a13-997862d19d67"
      },
      "execution_count": 10,
      "outputs": [
        {
          "output_type": "stream",
          "name": "stdout",
          "text": [
            "정규화 사전의 수:  120\n"
          ]
        }
      ]
    },
    {
      "cell_type": "code",
      "source": [
        "print('불용어 개수 :', len(stopwords.words('english') ))\n",
        "print(stopwords.words('english'))"
      ],
      "metadata": {
        "colab": {
          "base_uri": "https://localhost:8080/"
        },
        "id": "rgOF6Y8mZu9g",
        "outputId": "19d15e14-7bb5-4b3f-c38b-c180fc5a296c"
      },
      "execution_count": 11,
      "outputs": [
        {
          "output_type": "stream",
          "name": "stdout",
          "text": [
            "불용어 개수 : 179\n",
            "['i', 'me', 'my', 'myself', 'we', 'our', 'ours', 'ourselves', 'you', \"you're\", \"you've\", \"you'll\", \"you'd\", 'your', 'yours', 'yourself', 'yourselves', 'he', 'him', 'his', 'himself', 'she', \"she's\", 'her', 'hers', 'herself', 'it', \"it's\", 'its', 'itself', 'they', 'them', 'their', 'theirs', 'themselves', 'what', 'which', 'who', 'whom', 'this', 'that', \"that'll\", 'these', 'those', 'am', 'is', 'are', 'was', 'were', 'be', 'been', 'being', 'have', 'has', 'had', 'having', 'do', 'does', 'did', 'doing', 'a', 'an', 'the', 'and', 'but', 'if', 'or', 'because', 'as', 'until', 'while', 'of', 'at', 'by', 'for', 'with', 'about', 'against', 'between', 'into', 'through', 'during', 'before', 'after', 'above', 'below', 'to', 'from', 'up', 'down', 'in', 'out', 'on', 'off', 'over', 'under', 'again', 'further', 'then', 'once', 'here', 'there', 'when', 'where', 'why', 'how', 'all', 'any', 'both', 'each', 'few', 'more', 'most', 'other', 'some', 'such', 'no', 'nor', 'not', 'only', 'own', 'same', 'so', 'than', 'too', 'very', 's', 't', 'can', 'will', 'just', 'don', \"don't\", 'should', \"should've\", 'now', 'd', 'll', 'm', 'o', 're', 've', 'y', 'ain', 'aren', \"aren't\", 'couldn', \"couldn't\", 'didn', \"didn't\", 'doesn', \"doesn't\", 'hadn', \"hadn't\", 'hasn', \"hasn't\", 'haven', \"haven't\", 'isn', \"isn't\", 'ma', 'mightn', \"mightn't\", 'mustn', \"mustn't\", 'needn', \"needn't\", 'shan', \"shan't\", 'shouldn', \"shouldn't\", 'wasn', \"wasn't\", 'weren', \"weren't\", 'won', \"won't\", 'wouldn', \"wouldn't\"]\n"
          ]
        }
      ]
    },
    {
      "cell_type": "code",
      "source": [
        "# 데이터 전처리 함수\n",
        "def preprocess_sentence(sentence, remove_stopwords=True):\n",
        "    sentence = sentence.lower() # 텍스트 소문자화\n",
        "    sentence = BeautifulSoup(sentence, \"lxml\").text # <br />, <a href = ...> 등의 html 태그 제거\n",
        "    sentence = re.sub(r'\\([^)]*\\)', '', sentence) # 괄호로 닫힌 문자열 (...) 제거 Ex) my husband (and myself!) for => my husband for\n",
        "    sentence = re.sub('\"','', sentence) # 쌍따옴표 \" 제거\n",
        "    sentence = ' '.join([contractions[t] if t in contractions else t for t in sentence.split(\" \")]) # 약어 정규화\n",
        "    sentence = re.sub(r\"'s\\b\",\"\", sentence) # 소유격 제거. Ex) roland's -> roland\n",
        "    sentence = re.sub(\"[^a-zA-Z]\", \" \", sentence) # 영어 외 문자(숫자, 특수문자 등) 공백으로 변환\n",
        "    sentence = re.sub('[m]{2,}', 'mm', sentence) # m이 3개 이상이면 2개로 변경. Ex) ummmmmmm yeah -> umm yeah\n",
        "    \n",
        "    # 불용어 제거 (Text)\n",
        "    if remove_stopwords:\n",
        "        tokens = ' '.join(word for word in sentence.split() if not word in stopwords.words('english') if len(word) > 1)\n",
        "    # 불용어 미제거 (Summary)\n",
        "    else:\n",
        "        tokens = ' '.join(word for word in sentence.split() if len(word) > 1)\n",
        "    return tokens"
      ],
      "metadata": {
        "id": "R-JhIY85Z3PD"
      },
      "execution_count": 12,
      "outputs": []
    },
    {
      "cell_type": "code",
      "source": [
        "clean_text = []\n",
        "for i in data['text']:\n",
        "  clean_text.append(preprocess_sentence(i))\n",
        "\n",
        "print(\"전처리 샘플 5개 : \", clean_text[:5])"
      ],
      "metadata": {
        "colab": {
          "base_uri": "https://localhost:8080/"
        },
        "id": "BYqS7GaEaEOV",
        "outputId": "d6eb35e1-f742-4570-f0de-cb4fe663e3be"
      },
      "execution_count": 13,
      "outputs": [
        {
          "output_type": "stream",
          "name": "stdout",
          "text": [
            "전처리 샘플 5개 :  ['saurav kant alumnus upgrad iiit pg program machine learning artificial intelligence sr systems engineer infosys almost years work experience program upgrad degree career support helped transition data scientist tech mahindra salary hike upgrad online power learning powered lakh careers', 'kunal shah credit card bill payment platform cred gave users chance win free food swiggy one year pranav kaushik delhi techie bagged reward spending cred coins users get one cred coin per rupee bill paid used avail rewards brands like ixigo bookmyshow ubereats cult fit', 'new zealand defeated india wickets fourth odi hamilton thursday win first match five match odi series india lost international match rohit sharma captaincy consecutive victories dating back march match witnessed india getting seventh lowest total odi cricket history', 'aegon life iterm insurance plan customers enjoy tax benefits premiums paid save taxes plan provides life cover age years also customers options insure critical illnesses disability accidental death benefit rider life cover age years', 'speaking sexual harassment allegations rajkumar hirani sonam kapoor said known hirani many years true metoo movement get derailed metoo movement always believe woman case need reserve judgment added hirani accused assistant worked sanju']\n"
          ]
        }
      ]
    },
    {
      "cell_type": "code",
      "source": [
        "clean_headlines = []\n",
        "for i in data['headlines']:\n",
        "  clean_headlines.append(preprocess_sentence(i, False))\n",
        "\n",
        "print(\"전처리 샘플 5개 : \", clean_headlines[:5])"
      ],
      "metadata": {
        "colab": {
          "base_uri": "https://localhost:8080/"
        },
        "id": "2MqaVVQQaSHO",
        "outputId": "3e46461f-083c-41a3-b0f2-3e3cfff821d1"
      },
      "execution_count": 14,
      "outputs": [
        {
          "output_type": "stream",
          "name": "stdout",
          "text": [
            "전처리 샘플 5개 :  ['upgrad learner switches to career in ml al with salary hike', 'delhi techie wins free food from swiggy for one year on cred', 'new zealand end rohit sharma led india match winning streak', 'aegon life iterm insurance plan helps customers save tax', 'have known hirani for yrs what if metoo claims are not true sonam']\n"
          ]
        }
      ]
    },
    {
      "cell_type": "markdown",
      "source": [
        "### 전처리 과정 진행 후 결측치 다시 확인해보기"
      ],
      "metadata": {
        "id": "pP378DHNaf-G"
      }
    },
    {
      "cell_type": "code",
      "source": [
        "data['text'] = clean_text\n",
        "data['headlines'] = clean_headlines\n",
        "\n",
        "data.replace(\"\", np.nan, inplace=True)"
      ],
      "metadata": {
        "id": "g4Zwu_GhbH5g"
      },
      "execution_count": 15,
      "outputs": []
    },
    {
      "cell_type": "code",
      "source": [
        "data.isnull().sum()"
      ],
      "metadata": {
        "colab": {
          "base_uri": "https://localhost:8080/"
        },
        "id": "8WKR_DzbbUEr",
        "outputId": "4e5ce8e9-216e-491f-cf97-844eb272a512"
      },
      "execution_count": 16,
      "outputs": [
        {
          "output_type": "execute_result",
          "data": {
            "text/plain": [
              "headlines    0\n",
              "text         0\n",
              "dtype: int64"
            ]
          },
          "metadata": {},
          "execution_count": 16
        }
      ]
    },
    {
      "cell_type": "code",
      "source": [
        "data.dropna(axis=0, inplace=True)\n",
        "print(\"전체 샘플 수 : \", len(data) )"
      ],
      "metadata": {
        "colab": {
          "base_uri": "https://localhost:8080/"
        },
        "id": "qzCwX4l2bWeY",
        "outputId": "aed6fcdd-956f-40b1-8880-a57c221b6b81"
      },
      "execution_count": 17,
      "outputs": [
        {
          "output_type": "stream",
          "name": "stdout",
          "text": [
            "전체 샘플 수 :  98262\n"
          ]
        }
      ]
    },
    {
      "cell_type": "code",
      "source": [
        "text_len = [len(s.split()) for s in data['text']]\n",
        "headlines_len = [len(s.split()) for s in data['headlines']]\n",
        "\n",
        "print('텍스트의 최소 길이 : ', np.min(text_len))\n",
        "print('텍스트의 최대 길이 : ', np.max(text_len))\n",
        "print('텍스트의 평균 길이 : ', np.mean(text_len))\n",
        "print('헤드라인의 최소 길이 : ', np.min(headlines_len))\n",
        "print('헤드라인의 최대 길이 : ', np.max(headlines_len))\n",
        "print('헤드라인의 평균 길이 : ', np.mean(headlines_len))\n",
        "\n",
        "plt.subplot(1,2,1)\n",
        "plt.boxplot(text_len)\n",
        "plt.title('Text')\n",
        "plt.subplot(1,2,2)\n",
        "plt.boxplot(headlines_len)\n",
        "plt.title('Summary')\n",
        "plt.tight_layout()\n",
        "plt.show()\n",
        "\n",
        "plt.title('Text')\n",
        "plt.hist(text_len, bins = 40)\n",
        "plt.xlabel('length of samples')\n",
        "plt.ylabel('number of samples')\n",
        "plt.show()\n",
        "\n",
        "plt.title('Summary')\n",
        "plt.hist(headlines_len, bins = 40)\n",
        "plt.xlabel('length of samples')\n",
        "plt.ylabel('number of samples')\n",
        "plt.show()"
      ],
      "metadata": {
        "colab": {
          "base_uri": "https://localhost:8080/",
          "height": 957
        },
        "id": "mZ-ik2xNbc-f",
        "outputId": "1e95fc7a-da8d-429c-b8a8-c53f6ad7ce92"
      },
      "execution_count": 18,
      "outputs": [
        {
          "output_type": "stream",
          "name": "stdout",
          "text": [
            "텍스트의 최소 길이 :  1\n",
            "텍스트의 최대 길이 :  60\n",
            "텍스트의 평균 길이 :  35.10029309397326\n",
            "헤드라인의 최소 길이 :  1\n",
            "헤드라인의 최대 길이 :  16\n",
            "헤드라인의 평균 길이 :  9.299444342675704\n"
          ]
        },
        {
          "output_type": "display_data",
          "data": {
            "image/png": "[encoded data removed]",
            "text/plain": [
              "<Figure size 432x288 with 2 Axes>"
            ]
          },
          "metadata": {
            "needs_background": "light"
          }
        },
        {
          "output_type": "display_data",
          "data": {
            "image/png": "[encoded data removed]",
            "text/plain": [
              "<Figure size 432x288 with 1 Axes>"
            ]
          },
          "metadata": {
            "needs_background": "light"
          }
        },
        {
          "output_type": "display_data",
          "data": {
            "image/png": "[encoded data removed]",
            "text/plain": [
              "<Figure size 432x288 with 1 Axes>"
            ]
          },
          "metadata": {
            "needs_background": "light"
          }
        }
      ]
    },
    {
      "cell_type": "markdown",
      "source": [
        "위 출력 값을 확인해보면  \n",
        "텍스트의 최소 길이는 1, 최대 길이는 60, 평균 길이는 약 35 정도가 나오며,  \n",
        "헤드라인의 최소 길이는 1, 최대 길이는 16, 평균 길이는 약 9 정도가 나오는 것을 볼 수 있다.\n",
        "\n",
        "저 위 출력값과 그래프를 기준으로 text와 headlines의 적절한 최대 길이를 임의로 정한다.  \n",
        "\n",
        "text 최대 길이 40, headlines 최대 길이 11\n",
        "\n",
        "\n",
        "\n"
      ],
      "metadata": {
        "id": "0jZCFN1pdPJg"
      }
    },
    {
      "cell_type": "code",
      "source": [
        "text_max_len = 40\n",
        "headlines_max_len = 11"
      ],
      "metadata": {
        "id": "7C0j_4kbfNOC"
      },
      "execution_count": 19,
      "outputs": []
    },
    {
      "cell_type": "code",
      "source": [
        "def below_threshold_len(max_len, nested_list):\n",
        "  cnt = 0\n",
        "  for s in nested_list:\n",
        "    if(len(s.split()) <= max_len):\n",
        "      cnt = cnt + 1\n",
        "  print(\"전체 샘플 중 길이가 %s 이하인 샘플의 비율 = %s\" %(max_len, (cnt / len(nested_list))))\n"
      ],
      "metadata": {
        "id": "CV1Nil6PfR6z"
      },
      "execution_count": 20,
      "outputs": []
    },
    {
      "cell_type": "code",
      "source": [
        "below_threshold_len(text_max_len, data['text'])\n",
        "below_threshold_len(headlines_max_len, data['headlines'])"
      ],
      "metadata": {
        "colab": {
          "base_uri": "https://localhost:8080/"
        },
        "id": "uA2ZiCd8fsk6",
        "outputId": "5bcbd528-357f-4e19-e892-909a242917c6"
      },
      "execution_count": 21,
      "outputs": [
        {
          "output_type": "stream",
          "name": "stdout",
          "text": [
            "전체 샘플 중 길이가 40 이하인 샘플의 비율 = 0.92383627444994\n",
            "전체 샘플 중 길이가 11 이하인 샘플의 비율 = 0.9450041725183692\n"
          ]
        }
      ]
    },
    {
      "cell_type": "markdown",
      "source": [
        "약 90% 이상의 샘플들이 유지 되는 것을 확인할 수 있다.  \n",
        "이대로 진행한다."
      ],
      "metadata": {
        "id": "DifqYSW0f3-r"
      }
    },
    {
      "cell_type": "code",
      "source": [
        "data = data[data['text'].apply(lambda x: len(x.split()) <= text_max_len)]\n",
        "data = data[data['headlines'].apply(lambda x : len(x.split()) <= headlines_max_len)]\n",
        "print(\"전체 샘플 수 : \", len(data))"
      ],
      "metadata": {
        "colab": {
          "base_uri": "https://localhost:8080/"
        },
        "id": "w59fZ5VogDlO",
        "outputId": "8145cc9f-25f0-4b05-8823-95b84d73b67a"
      },
      "execution_count": 22,
      "outputs": [
        {
          "output_type": "stream",
          "name": "stdout",
          "text": [
            "전체 샘플 수 :  85756\n"
          ]
        }
      ]
    },
    {
      "cell_type": "markdown",
      "source": [
        "### 시작 토큰 종료 토큰 추가하기\n",
        "\n",
        "시작 토큰 sos, 종료 토큰 eos"
      ],
      "metadata": {
        "id": "FTBVVwsggV5Y"
      }
    },
    {
      "cell_type": "code",
      "source": [
        "data['decoder_input'] = data['headlines'].apply(lambda x : 'sos ' + x)\n",
        "data['decoder_target'] = data['headlines'].apply(lambda x : x + ' eos')\n",
        "data.head()"
      ],
      "metadata": {
        "colab": {
          "base_uri": "https://localhost:8080/",
          "height": 565
        },
        "id": "MgSlBrORgcVZ",
        "outputId": "f43c3209-47b8-44bd-e836-1ab1eae8b391"
      },
      "execution_count": 23,
      "outputs": [
        {
          "output_type": "stream",
          "name": "stderr",
          "text": [
            "/usr/local/lib/python3.7/dist-packages/ipykernel_launcher.py:1: SettingWithCopyWarning: \n",
            "A value is trying to be set on a copy of a slice from a DataFrame.\n",
            "Try using .loc[row_indexer,col_indexer] = value instead\n",
            "\n",
            "See the caveats in the documentation: https://pandas.pydata.org/pandas-docs/stable/user_guide/indexing.html#returning-a-view-versus-a-copy\n",
            "  \"\"\"Entry point for launching an IPython kernel.\n",
            "/usr/local/lib/python3.7/dist-packages/ipykernel_launcher.py:2: SettingWithCopyWarning: \n",
            "A value is trying to be set on a copy of a slice from a DataFrame.\n",
            "Try using .loc[row_indexer,col_indexer] = value instead\n",
            "\n",
            "See the caveats in the documentation: https://pandas.pydata.org/pandas-docs/stable/user_guide/indexing.html#returning-a-view-versus-a-copy\n",
            "  \n"
          ]
        },
        {
          "output_type": "execute_result",
          "data": {
            "text/html": [
              "\n",
              "  <div id=\"df-55405c8b-74c7-46a4-8251-dc4fb3136ab9\">\n",
              "    <div class=\"colab-df-container\">\n",
              "      <div>\n",
              "<style scoped>\n",
              "    .dataframe tbody tr th:only-of-type {\n",
              "        vertical-align: middle;\n",
              "    }\n",
              "\n",
              "    .dataframe tbody tr th {\n",
              "        vertical-align: top;\n",
              "    }\n",
              "\n",
              "    .dataframe thead th {\n",
              "        text-align: right;\n",
              "    }\n",
              "</style>\n",
              "<table border=\"1\" class=\"dataframe\">\n",
              "  <thead>\n",
              "    <tr style=\"text-align: right;\">\n",
              "      <th></th>\n",
              "      <th>headlines</th>\n",
              "      <th>text</th>\n",
              "      <th>decoder_input</th>\n",
              "      <th>decoder_target</th>\n",
              "    </tr>\n",
              "  </thead>\n",
              "  <tbody>\n",
              "    <tr>\n",
              "      <th>0</th>\n",
              "      <td>upgrad learner switches to career in ml al wit...</td>\n",
              "      <td>saurav kant alumnus upgrad iiit pg program mac...</td>\n",
              "      <td>sos upgrad learner switches to career in ml al...</td>\n",
              "      <td>upgrad learner switches to career in ml al wit...</td>\n",
              "    </tr>\n",
              "    <tr>\n",
              "      <th>2</th>\n",
              "      <td>new zealand end rohit sharma led india match w...</td>\n",
              "      <td>new zealand defeated india wickets fourth odi ...</td>\n",
              "      <td>sos new zealand end rohit sharma led india mat...</td>\n",
              "      <td>new zealand end rohit sharma led india match w...</td>\n",
              "    </tr>\n",
              "    <tr>\n",
              "      <th>3</th>\n",
              "      <td>aegon life iterm insurance plan helps customer...</td>\n",
              "      <td>aegon life iterm insurance plan customers enjo...</td>\n",
              "      <td>sos aegon life iterm insurance plan helps cust...</td>\n",
              "      <td>aegon life iterm insurance plan helps customer...</td>\n",
              "    </tr>\n",
              "    <tr>\n",
              "      <th>5</th>\n",
              "      <td>rahat fateh ali khan denies getting notice for...</td>\n",
              "      <td>pakistani singer rahat fateh ali khan denied r...</td>\n",
              "      <td>sos rahat fateh ali khan denies getting notice...</td>\n",
              "      <td>rahat fateh ali khan denies getting notice for...</td>\n",
              "    </tr>\n",
              "    <tr>\n",
              "      <th>7</th>\n",
              "      <td>govt directs alok verma to join work day befor...</td>\n",
              "      <td>weeks ex cbi director alok verma told departme...</td>\n",
              "      <td>sos govt directs alok verma to join work day b...</td>\n",
              "      <td>govt directs alok verma to join work day befor...</td>\n",
              "    </tr>\n",
              "  </tbody>\n",
              "</table>\n",
              "</div>\n",
              "      <button class=\"colab-df-convert\" onclick=\"convertToInteractive('df-55405c8b-74c7-46a4-8251-dc4fb3136ab9')\"\n",
              "              title=\"Convert this dataframe to an interactive table.\"\n",
              "              style=\"display:none;\">\n",
              "        \n",
              "  <svg xmlns=\"http://www.w3.org/2000/svg\" height=\"24px\"viewBox=\"0 0 24 24\"\n",
              "       width=\"24px\">\n",
              "    <path d=\"M0 0h24v24H0V0z\" fill=\"none\"/>\n",
              "    <path d=\"M18.56 5.44l.94 2.06.94-2.06 2.06-.94-2.06-.94-.94-2.06-.94 2.06-2.06.94zm-11 1L8.5 8.5l.94-2.06 2.06-.94-2.06-.94L8.5 2.5l-.94 2.06-2.06.94zm10 10l.94 2.06.94-2.06 2.06-.94-2.06-.94-.94-2.06-.94 2.06-2.06.94z\"/><path d=\"M17.41 7.96l-1.37-1.37c-.4-.4-.92-.59-1.43-.59-.52 0-1.04.2-1.43.59L10.3 9.45l-7.72 7.72c-.78.78-.78 2.05 0 2.83L4 21.41c.39.39.9.59 1.41.59.51 0 1.02-.2 1.41-.59l7.78-7.78 2.81-2.81c.8-.78.8-2.07 0-2.86zM5.41 20L4 18.59l7.72-7.72 1.47 1.35L5.41 20z\"/>\n",
              "  </svg>\n",
              "      </button>\n",
              "      \n",
              "  <style>\n",
              "    .colab-df-container {\n",
              "      display:flex;\n",
              "      flex-wrap:wrap;\n",
              "      gap: 12px;\n",
              "    }\n",
              "\n",
              "    .colab-df-convert {\n",
              "      background-color: #E8F0FE;\n",
              "      border: none;\n",
              "      border-radius: 50%;\n",
              "      cursor: pointer;\n",
              "      display: none;\n",
              "      fill: #1967D2;\n",
              "      height: 32px;\n",
              "      padding: 0 0 0 0;\n",
              "      width: 32px;\n",
              "    }\n",
              "\n",
              "    .colab-df-convert:hover {\n",
              "      background-color: #E2EBFA;\n",
              "      box-shadow: 0px 1px 2px rgba(60, 64, 67, 0.3), 0px 1px 3px 1px rgba(60, 64, 67, 0.15);\n",
              "      fill: #174EA6;\n",
              "    }\n",
              "\n",
              "    [theme=dark] .colab-df-convert {\n",
              "      background-color: #3B4455;\n",
              "      fill: #D2E3FC;\n",
              "    }\n",
              "\n",
              "    [theme=dark] .colab-df-convert:hover {\n",
              "      background-color: #434B5C;\n",
              "      box-shadow: 0px 1px 3px 1px rgba(0, 0, 0, 0.15);\n",
              "      filter: drop-shadow(0px 1px 2px rgba(0, 0, 0, 0.3));\n",
              "      fill: #FFFFFF;\n",
              "    }\n",
              "  </style>\n",
              "\n",
              "      <script>\n",
              "        const buttonEl =\n",
              "          document.querySelector('#df-55405c8b-74c7-46a4-8251-dc4fb3136ab9 button.colab-df-convert');\n",
              "        buttonEl.style.display =\n",
              "          google.colab.kernel.accessAllowed ? 'block' : 'none';\n",
              "\n",
              "        async function convertToInteractive(key) {\n",
              "          const element = document.querySelector('#df-55405c8b-74c7-46a4-8251-dc4fb3136ab9');\n",
              "          const dataTable =\n",
              "            await google.colab.kernel.invokeFunction('convertToInteractive',\n",
              "                                                     [key], {});\n",
              "          if (!dataTable) return;\n",
              "\n",
              "          const docLinkHtml = 'Like what you see? Visit the ' +\n",
              "            '<a target=\"_blank\" href=https://colab.research.google.com/notebooks/data_table.ipynb>data table notebook</a>'\n",
              "            + ' to learn more about interactive tables.';\n",
              "          element.innerHTML = '';\n",
              "          dataTable['output_type'] = 'display_data';\n",
              "          await google.colab.output.renderOutput(dataTable, element);\n",
              "          const docLink = document.createElement('div');\n",
              "          docLink.innerHTML = docLinkHtml;\n",
              "          element.appendChild(docLink);\n",
              "        }\n",
              "      </script>\n",
              "    </div>\n",
              "  </div>\n",
              "  "
            ],
            "text/plain": [
              "                                           headlines  ...                                     decoder_target\n",
              "0  upgrad learner switches to career in ml al wit...  ...  upgrad learner switches to career in ml al wit...\n",
              "2  new zealand end rohit sharma led india match w...  ...  new zealand end rohit sharma led india match w...\n",
              "3  aegon life iterm insurance plan helps customer...  ...  aegon life iterm insurance plan helps customer...\n",
              "5  rahat fateh ali khan denies getting notice for...  ...  rahat fateh ali khan denies getting notice for...\n",
              "7  govt directs alok verma to join work day befor...  ...  govt directs alok verma to join work day befor...\n",
              "\n",
              "[5 rows x 4 columns]"
            ]
          },
          "metadata": {},
          "execution_count": 23
        }
      ]
    },
    {
      "cell_type": "code",
      "source": [
        "# numpy 타입으로 저장하기\n",
        "\n",
        "encoder_input = np.array(data['text'])\n",
        "decoder_input = np.array(data['decoder_input'])\n",
        "decoder_target = np.array(data['decoder_target'])"
      ],
      "metadata": {
        "id": "ufGIXdgogycd"
      },
      "execution_count": 24,
      "outputs": []
    },
    {
      "cell_type": "code",
      "source": [
        "# from sklearn.model_selection import train_test_split\n",
        "\n",
        "# x_train, x_test, y_train, y_test = train_test_split(encoder_input, )\n",
        "\n",
        "## train_test_split으로 구분하려 했으나 그냥 예제처럼 슬라이싱 사용"
      ],
      "metadata": {
        "id": "mmCf3kv4hJre"
      },
      "execution_count": 25,
      "outputs": []
    },
    {
      "cell_type": "code",
      "source": [
        "indices = np.arange(encoder_input.shape[0])\n",
        "np.random.shuffle(indices)\n",
        "print(indices)"
      ],
      "metadata": {
        "colab": {
          "base_uri": "https://localhost:8080/"
        },
        "id": "cIzhPpvSiMld",
        "outputId": "7bc06080-119f-40b5-b2e2-c7c313cbb96c"
      },
      "execution_count": 26,
      "outputs": [
        {
          "output_type": "stream",
          "name": "stdout",
          "text": [
            "[68070  1802 56255 ... 64424 14888 83299]\n"
          ]
        }
      ]
    },
    {
      "cell_type": "code",
      "source": [
        "encoder_input = encoder_input[indices]\n",
        "decoder_input = decoder_input[indices]\n",
        "decoder_target = decoder_target[indices]"
      ],
      "metadata": {
        "id": "zlGtzPM0iTwu"
      },
      "execution_count": 27,
      "outputs": []
    },
    {
      "cell_type": "code",
      "source": [
        "cutcut = int(len(encoder_input)*0.2)\n",
        "print('테스트 데이터 개수 : ', cutcut)"
      ],
      "metadata": {
        "colab": {
          "base_uri": "https://localhost:8080/"
        },
        "id": "rJPqUKUFic7L",
        "outputId": "a32eedcc-e380-4fe9-a40f-0c64cbfcbcaa"
      },
      "execution_count": 28,
      "outputs": [
        {
          "output_type": "stream",
          "name": "stdout",
          "text": [
            "테스트 데이터 개수 :  17151\n"
          ]
        }
      ]
    },
    {
      "cell_type": "code",
      "source": [
        "encoder_input_train = encoder_input[:-cutcut]\n",
        "decoder_input_train = decoder_input[:-cutcut]\n",
        "decoder_target_train = decoder_target[:-cutcut]\n",
        "\n",
        "encoder_input_test = encoder_input[-cutcut:]\n",
        "decoder_input_test = decoder_input[-cutcut:]\n",
        "decoder_target_test = decoder_target[-cutcut:]\n",
        "\n",
        "print('훈련 데이터의 개수 :', len(encoder_input_train))\n",
        "print('훈련 레이블의 개수 :', len(decoder_input_train))\n",
        "print('테스트 데이터의 개수 :', len(encoder_input_test))\n",
        "print('테스트 레이블의 개수 :', len(decoder_input_test))"
      ],
      "metadata": {
        "colab": {
          "base_uri": "https://localhost:8080/"
        },
        "id": "Y3qcebTeilAz",
        "outputId": "78470060-fb8f-4e2b-9ebe-a65fcc3789cd"
      },
      "execution_count": 29,
      "outputs": [
        {
          "output_type": "stream",
          "name": "stdout",
          "text": [
            "훈련 데이터의 개수 : 68605\n",
            "훈련 레이블의 개수 : 68605\n",
            "테스트 데이터의 개수 : 17151\n",
            "테스트 레이블의 개수 : 17151\n"
          ]
        }
      ]
    },
    {
      "cell_type": "markdown",
      "source": [
        "## 정수 인코딩\n",
        "\n",
        "단어 집합 만들기"
      ],
      "metadata": {
        "id": "qytA7etEivdk"
      }
    },
    {
      "cell_type": "code",
      "source": [
        "src_tokenizer = Tokenizer() \n",
        "src_tokenizer.fit_on_texts(encoder_input_train)"
      ],
      "metadata": {
        "id": "yZ60_DZQjAAs"
      },
      "execution_count": 30,
      "outputs": []
    },
    {
      "cell_type": "code",
      "source": [
        "threshold = 7\n",
        "total_cnt = len(src_tokenizer.word_index) # 단어의 수\n",
        "rare_cnt = 0 # 등장 빈도수가 threshold보다 작은 단어의 개수를 카운트\n",
        "total_freq = 0 # 훈련 데이터의 전체 단어 빈도수 총 합\n",
        "rare_freq = 0 # 등장 빈도수가 threshold보다 작은 단어의 등장 빈도수의 총 합\n",
        "\n",
        "# 단어와 빈도수의 쌍(pair)을 key와 value로 받는다.\n",
        "for key, value in src_tokenizer.word_counts.items():\n",
        "    total_freq = total_freq + value\n",
        "\n",
        "    # 단어의 등장 빈도수가 threshold보다 작으면\n",
        "    if(value < threshold):\n",
        "        rare_cnt = rare_cnt + 1\n",
        "        rare_freq = rare_freq + value\n",
        "\n",
        "print('단어 집합(vocabulary)의 크기 :', total_cnt)\n",
        "print('등장 빈도가 %s번 이하인 희귀 단어의 수: %s'%(threshold - 1, rare_cnt))\n",
        "print('단어 집합에서 희귀 단어를 제외시킬 경우의 단어 집합의 크기 %s'%(total_cnt - rare_cnt))\n",
        "print(\"단어 집합에서 희귀 단어의 비율:\", (rare_cnt / total_cnt)*100)\n",
        "print(\"전체 등장 빈도에서 희귀 단어 등장 빈도 비율:\", (rare_freq / total_freq)*100)"
      ],
      "metadata": {
        "colab": {
          "base_uri": "https://localhost:8080/"
        },
        "id": "aADkpPSqjHmS",
        "outputId": "64d2b715-c4e7-409a-db6e-9d26d2656ff6"
      },
      "execution_count": 31,
      "outputs": [
        {
          "output_type": "stream",
          "name": "stdout",
          "text": [
            "단어 집합(vocabulary)의 크기 : 64701\n",
            "등장 빈도가 6번 이하인 희귀 단어의 수: 44185\n",
            "단어 집합에서 희귀 단어를 제외시킬 경우의 단어 집합의 크기 20516\n",
            "단어 집합에서 희귀 단어의 비율: 68.29106196194805\n",
            "전체 등장 빈도에서 희귀 단어 등장 빈도 비율: 3.788041175864962\n"
          ]
        }
      ]
    },
    {
      "cell_type": "code",
      "source": [
        "src_vocab = 20000\n",
        "src_tokenizer = Tokenizer(num_words=src_vocab) # 단어 집합 크기 20,000으로 제한\n",
        "src_tokenizer.fit_on_texts(encoder_input_train)  # 단어 집합 재생성"
      ],
      "metadata": {
        "id": "iocdSm3pjOkW"
      },
      "execution_count": 32,
      "outputs": []
    },
    {
      "cell_type": "code",
      "source": [
        "# 텍스트 시퀀스를 정수 시퀀스로 변환\n",
        "encoder_input_train = src_tokenizer.texts_to_sequences(encoder_input_train) \n",
        "encoder_input_test = src_tokenizer.texts_to_sequences(encoder_input_test)\n",
        "\n",
        "# 잘 진행되었는지 샘플 출력\n",
        "print(encoder_input_train[:3])"
      ],
      "metadata": {
        "colab": {
          "base_uri": "https://localhost:8080/"
        },
        "id": "XLQqd4HFjw9H",
        "outputId": "5da05985-321b-449f-b584-5adce28c6af8"
      },
      "execution_count": 33,
      "outputs": [
        {
          "output_type": "stream",
          "name": "stdout",
          "text": [
            "[[2215, 1175, 129, 7398, 890, 7784, 6085, 6659, 97, 6660, 5790, 622, 5016, 326, 7278, 5581, 82, 9576, 258, 6954, 3302, 6661, 7659, 4922, 4172, 2824, 409, 342, 3253, 6954, 1112, 3281, 3068, 913], [2399, 22, 220, 641, 110, 5861, 6482, 5516, 1530, 2825, 1004, 3734, 5722, 2, 14, 30, 14740, 370, 795, 1257, 952, 392, 19152, 6482, 3461, 2721, 22, 220, 314, 12251, 1014, 1612, 2399, 4878, 506], [49, 1276, 85, 1, 24, 393, 10863, 354, 19153, 1929, 50, 2238, 13, 170, 2238, 578, 1167, 6148, 33, 1, 513, 741, 102, 319, 3001, 13, 6, 3055, 6662, 302, 5862, 8361, 521, 1887]]\n"
          ]
        }
      ]
    },
    {
      "cell_type": "code",
      "source": [
        "tar_tokenizer = Tokenizer()\n",
        "tar_tokenizer.fit_on_texts(decoder_input_train)"
      ],
      "metadata": {
        "id": "sdab4pDfj35A"
      },
      "execution_count": 34,
      "outputs": []
    },
    {
      "cell_type": "code",
      "source": [
        "threshold = 6\n",
        "total_cnt = len(tar_tokenizer.word_index) # 단어의 수\n",
        "rare_cnt = 0 # 등장 빈도수가 threshold보다 작은 단어의 개수를 카운트\n",
        "total_freq = 0 # 훈련 데이터의 전체 단어 빈도수 총 합\n",
        "rare_freq = 0 # 등장 빈도수가 threshold보다 작은 단어의 등장 빈도수의 총 합\n",
        "\n",
        "# 단어와 빈도수의 쌍(pair)을 key와 value로 받는다.\n",
        "for key, value in tar_tokenizer.word_counts.items():\n",
        "    total_freq = total_freq + value\n",
        "\n",
        "    # 단어의 등장 빈도수가 threshold보다 작으면\n",
        "    if(value < threshold):\n",
        "        rare_cnt = rare_cnt + 1\n",
        "        rare_freq = rare_freq + value\n",
        "\n",
        "print('단어 집합(vocabulary)의 크기 :', total_cnt)\n",
        "print('등장 빈도가 %s번 이하인 희귀 단어의 수: %s'%(threshold - 1, rare_cnt))\n",
        "print('단어 집합에서 희귀 단어를 제외시킬 경우의 단어 집합의 크기 %s'%(total_cnt - rare_cnt))\n",
        "print(\"단어 집합에서 희귀 단어의 비율:\", (rare_cnt / total_cnt)*100)\n",
        "print(\"전체 등장 빈도에서 희귀 단어 등장 빈도 비율:\", (rare_freq / total_freq)*100)"
      ],
      "metadata": {
        "colab": {
          "base_uri": "https://localhost:8080/"
        },
        "id": "pBpIIlMzkmQv",
        "outputId": "8c2d3cef-c9f1-4f73-be5f-64a19248d2e6"
      },
      "execution_count": 35,
      "outputs": [
        {
          "output_type": "stream",
          "name": "stdout",
          "text": [
            "단어 집합(vocabulary)의 크기 : 28533\n",
            "등장 빈도가 5번 이하인 희귀 단어의 수: 18785\n",
            "단어 집합에서 희귀 단어를 제외시킬 경우의 단어 집합의 크기 9748\n",
            "단어 집합에서 희귀 단어의 비율: 65.83604948655942\n",
            "전체 등장 빈도에서 희귀 단어 등장 빈도 비율: 5.155648183864635\n"
          ]
        }
      ]
    },
    {
      "cell_type": "code",
      "source": [
        "tar_vocab = 9500\n",
        "tar_tokenizer = Tokenizer(num_words=tar_vocab) \n",
        "tar_tokenizer.fit_on_texts(decoder_input_train)\n",
        "tar_tokenizer.fit_on_texts(decoder_target_train)\n",
        "\n",
        "# 텍스트 시퀀스를 정수 시퀀스로 변환\n",
        "decoder_input_train = tar_tokenizer.texts_to_sequences(decoder_input_train) \n",
        "decoder_target_train = tar_tokenizer.texts_to_sequences(decoder_target_train)\n",
        "decoder_input_test = tar_tokenizer.texts_to_sequences(decoder_input_test)\n",
        "decoder_target_test = tar_tokenizer.texts_to_sequences(decoder_target_test)\n",
        "\n",
        "# 잘 변환되었는지 확인\n",
        "print('input ',decoder_input_train[:5])\n",
        "print('decoder ',decoder_target_train[:5])"
      ],
      "metadata": {
        "id": "48OFVYvkkqg1",
        "colab": {
          "base_uri": "https://localhost:8080/"
        },
        "outputId": "b93b1560-8b11-454d-a220-c78e791e37a1"
      },
      "execution_count": 36,
      "outputs": [
        {
          "output_type": "stream",
          "name": "stdout",
          "text": [
            "input  [[1, 5663, 160, 1331, 3, 921, 7, 4420, 1043, 6683], [1, 3993, 7124, 10, 2602, 5, 3306, 7125], [1, 236, 428, 3, 53, 779, 4, 1714, 80, 630], [1, 188, 4, 53, 1129, 12, 3865, 3, 4754, 120, 234, 431], [1, 61, 4755, 6684, 79, 10, 2152, 8, 425, 94, 71]]\n",
            "decoder  [[5663, 160, 1331, 3, 921, 7, 4420, 1043, 6683, 2], [3993, 7124, 10, 2602, 5, 3306, 7125, 2], [236, 428, 3, 53, 779, 4, 1714, 80, 630, 2], [188, 4, 53, 1129, 12, 3865, 3, 4754, 120, 234, 431, 2], [61, 4755, 6684, 79, 10, 2152, 8, 425, 94, 71, 2]]\n"
          ]
        }
      ]
    },
    {
      "cell_type": "markdown",
      "source": [
        "## 다시 한번 빈 샘플 정리하기  \n",
        "이번엔 결측치가 0이 아니라 sos, eos 토큰이 있기 때문에 1이다."
      ],
      "metadata": {
        "id": "ew9pHnHapQ5h"
      }
    },
    {
      "cell_type": "code",
      "source": [
        "drop_train = [index for index, sentence in enumerate(decoder_input_train) if len(sentence) == 1]\n",
        "drop_test = [index for index, sentence in enumerate(decoder_input_test) if len(sentence) == 1]\n",
        "\n",
        "print('삭제할 훈련 데이터의 개수 :', len(drop_train))\n",
        "print('삭제할 테스트 데이터의 개수 :', len(drop_test))\n",
        "\n",
        "encoder_input_train = [sentence for index, sentence in enumerate(encoder_input_train) if index not in drop_train]\n",
        "decoder_input_train = [sentence for index, sentence in enumerate(decoder_input_train) if index not in drop_train]\n",
        "decoder_target_train = [sentence for index, sentence in enumerate(decoder_target_train) if index not in drop_train]\n",
        "\n",
        "encoder_input_test = [sentence for index, sentence in enumerate(encoder_input_test) if index not in drop_test]\n",
        "decoder_input_test = [sentence for index, sentence in enumerate(decoder_input_test) if index not in drop_test]\n",
        "decoder_target_test = [sentence for index, sentence in enumerate(decoder_target_test) if index not in drop_test]\n",
        "\n",
        "print('훈련 데이터의 개수 :', len(encoder_input_train))\n",
        "print('훈련 레이블의 개수 :', len(decoder_input_train))\n",
        "print('테스트 데이터의 개수 :', len(encoder_input_test))\n",
        "print('테스트 레이블의 개수 :', len(decoder_input_test))"
      ],
      "metadata": {
        "colab": {
          "base_uri": "https://localhost:8080/"
        },
        "id": "sKsG4u9epcf5",
        "outputId": "33740e50-3c5f-43ca-c8a3-877312082597"
      },
      "execution_count": 37,
      "outputs": [
        {
          "output_type": "stream",
          "name": "stdout",
          "text": [
            "삭제할 훈련 데이터의 개수 : 1\n",
            "삭제할 테스트 데이터의 개수 : 0\n",
            "훈련 데이터의 개수 : 68604\n",
            "훈련 레이블의 개수 : 68604\n",
            "테스트 데이터의 개수 : 17151\n",
            "테스트 레이블의 개수 : 17151\n"
          ]
        }
      ]
    },
    {
      "cell_type": "markdown",
      "source": [
        "딱히 결측치가 발생하거나 하지 않았다."
      ],
      "metadata": {
        "id": "_uCb6DEUpeY3"
      }
    },
    {
      "cell_type": "markdown",
      "source": [
        "# 패딩하기\n",
        "이제 텍스트를 정수로 바꿔주었고, 샘플들의 길이가 다 다르기 때문에 같은 길이로 맞춰준다.   \n",
        "숫자 뒤로 패딩하기\n"
      ],
      "metadata": {
        "id": "ne1MxTmfpmdZ"
      }
    },
    {
      "cell_type": "code",
      "source": [
        "encoder_input_train = pad_sequences(encoder_input_train, maxlen=text_max_len, padding='post')\n",
        "encoder_input_test = pad_sequences(encoder_input_test, maxlen=text_max_len, padding='post')\n",
        "decoder_input_train = pad_sequences(decoder_input_train, maxlen=headlines_max_len, padding='post')\n",
        "decoder_target_train = pad_sequences(decoder_target_train, maxlen=headlines_max_len, padding='post')\n",
        "decoder_input_test = pad_sequences(decoder_input_test, maxlen=headlines_max_len, padding='post')\n",
        "decoder_target_test = pad_sequences(decoder_target_test, maxlen=headlines_max_len, padding='post')"
      ],
      "metadata": {
        "id": "TxnEuMr-pxZh"
      },
      "execution_count": 38,
      "outputs": []
    },
    {
      "cell_type": "markdown",
      "source": [
        "# 모델 설계하기"
      ],
      "metadata": {
        "id": "akv8gZFWp0BS"
      }
    },
    {
      "cell_type": "code",
      "source": [
        "# 코랩 TPU 사용한 코드\n",
        "\n",
        "from tensorflow.keras.layers import Input, LSTM, Embedding, Dense, Concatenate, TimeDistributed, AdditiveAttention\n",
        "from tensorflow.keras.models import Model\n",
        "from tensorflow.keras.callbacks import EarlyStopping, ModelCheckpoint\n",
        "\n",
        "embedding_dim = 128\n",
        "hidden_size = 256\n",
        "\n",
        "with strategy.scope():\n",
        "  # 인코더 설계\n",
        "  encoder_inputs = Input(shape=(text_max_len,))\n",
        "  enc_emb = Embedding(src_vocab, embedding_dim)(encoder_inputs)\n",
        "  encoder_lstm1 = LSTM(hidden_size, return_sequences=True, return_state=True ,dropout = 0.4, recurrent_dropout = 0.4)\n",
        "  encoder_output1, state_h1, state_c1 = encoder_lstm1(enc_emb)\n",
        "  encoder_lstm2 = LSTM(hidden_size, return_sequences=True, return_state=True, dropout=0.4, recurrent_dropout=0.4)\n",
        "  encoder_output2, state_h2, state_c2 = encoder_lstm2(encoder_output1)\n",
        "  encoder_lstm3 = LSTM(hidden_size, return_state=True, return_sequences=True, dropout=0.4, recurrent_dropout=0.4)\n",
        "  encoder_outputs, state_h, state_c= encoder_lstm3(encoder_output2)\n",
        "\n",
        "  # 디코더 입력층 설계\n",
        "  decoder_inputs = Input(shape=(None,))\n",
        "  dec_emb_layer = Embedding(tar_vocab, embedding_dim)\n",
        "  dec_emb = dec_emb_layer(decoder_inputs)\n",
        "  decoder_lstm = LSTM(hidden_size, return_sequences=True, return_state=True, dropout=0.4, recurrent_dropout=0.2)\n",
        "  decoder_outputs, _, _ = decoder_lstm(dec_emb, initial_state=[state_h, state_c])\n",
        "\n",
        "  # 디코더 출력층 설계\n",
        "  decoder_softmax_layer = Dense(tar_vocab, activation='softmax')\n",
        "  decoder_softmax_outputs = decoder_softmax_layer(decoder_outputs) \n",
        "  \n",
        "  # 어텐션 \n",
        "  attn_layer = AdditiveAttention(name='attention_layer')\n",
        "  attn_out = attn_layer([decoder_outputs, encoder_outputs])\n",
        "  decoder_concat_input = Concatenate(axis=-1, name='concat_layer')([decoder_outputs, attn_out])\n",
        "  decoder_softmax_layer = Dense(tar_vocab, activation='softmax')\n",
        "  decoder_softmax_outputs = decoder_softmax_layer(decoder_concat_input)\n",
        "\n",
        "  # 모델 정의, 훈련\n",
        "  model = Model([encoder_inputs, decoder_inputs], decoder_softmax_outputs)\n",
        "  model.compile(optimizer='rmsprop', loss='sparse_categorical_crossentropy')\n",
        "  es = EarlyStopping(monitor='val_loss', patience=2, verbose=1)\n",
        "  history = model.fit(x=[encoder_input_train, decoder_input_train], y=decoder_target_train, \\\n",
        "            validation_data=([encoder_input_test, decoder_input_test], decoder_target_test), \\\n",
        "            batch_size=256, callbacks=[es], epochs=50)"
      ],
      "metadata": {
        "colab": {
          "base_uri": "https://localhost:8080/"
        },
        "id": "SdAi8870p92l",
        "outputId": "f1cec7e4-3a23-4cf9-ffae-cc61108174a5"
      },
      "execution_count": 39,
      "outputs": [
        {
          "output_type": "stream",
          "name": "stdout",
          "text": [
            "Epoch 1/50\n",
            "WARNING:tensorflow:From /usr/local/lib/python3.7/dist-packages/keras/engine/training.py:2970: StrategyBase.unwrap (from tensorflow.python.distribute.distribute_lib) is deprecated and will be removed in a future version.\n",
            "Instructions for updating:\n",
            "use `experimental_local_results` instead.\n"
          ]
        },
        {
          "output_type": "stream",
          "name": "stderr",
          "text": [
            "WARNING:tensorflow:From /usr/local/lib/python3.7/dist-packages/keras/engine/training.py:2970: StrategyBase.unwrap (from tensorflow.python.distribute.distribute_lib) is deprecated and will be removed in a future version.\n",
            "Instructions for updating:\n",
            "use `experimental_local_results` instead.\n"
          ]
        },
        {
          "output_type": "stream",
          "name": "stdout",
          "text": [
            "268/268 [==============================] - 43s 67ms/step - loss: 6.0065 - val_loss: 5.5738\n",
            "Epoch 2/50\n",
            "268/268 [==============================] - 14s 52ms/step - loss: 5.4415 - val_loss: 5.1873\n",
            "Epoch 3/50\n",
            "268/268 [==============================] - 14s 52ms/step - loss: 5.0859 - val_loss: 4.9158\n",
            "Epoch 4/50\n",
            "268/268 [==============================] - 14s 53ms/step - loss: 4.8229 - val_loss: 4.7253\n",
            "Epoch 5/50\n",
            "268/268 [==============================] - 14s 53ms/step - loss: 4.6056 - val_loss: 4.5865\n",
            "Epoch 6/50\n",
            "268/268 [==============================] - 14s 53ms/step - loss: 4.4223 - val_loss: 4.4633\n",
            "Epoch 7/50\n",
            "268/268 [==============================] - 14s 53ms/step - loss: 4.2639 - val_loss: 4.3597\n",
            "Epoch 8/50\n",
            "268/268 [==============================] - 14s 53ms/step - loss: 4.1235 - val_loss: 4.2807\n",
            "Epoch 9/50\n",
            "268/268 [==============================] - 14s 53ms/step - loss: 3.9976 - val_loss: 4.2163\n",
            "Epoch 10/50\n",
            "268/268 [==============================] - 14s 53ms/step - loss: 3.8873 - val_loss: 4.1669\n",
            "Epoch 11/50\n",
            "268/268 [==============================] - 14s 53ms/step - loss: 3.7882 - val_loss: 4.1182\n",
            "Epoch 12/50\n",
            "268/268 [==============================] - 15s 55ms/step - loss: 3.7002 - val_loss: 4.0828\n",
            "Epoch 13/50\n",
            "268/268 [==============================] - 14s 53ms/step - loss: 3.6162 - val_loss: 4.0510\n",
            "Epoch 14/50\n",
            "268/268 [==============================] - 14s 52ms/step - loss: 3.5424 - val_loss: 4.0310\n",
            "Epoch 15/50\n",
            "268/268 [==============================] - 14s 53ms/step - loss: 3.4714 - val_loss: 4.0032\n",
            "Epoch 16/50\n",
            "268/268 [==============================] - 14s 53ms/step - loss: 3.4053 - val_loss: 3.9813\n",
            "Epoch 17/50\n",
            "268/268 [==============================] - 14s 53ms/step - loss: 3.3463 - val_loss: 3.9719\n",
            "Epoch 18/50\n",
            "268/268 [==============================] - 14s 54ms/step - loss: 3.2932 - val_loss: 3.9573\n",
            "Epoch 19/50\n",
            "268/268 [==============================] - 15s 55ms/step - loss: 3.2403 - val_loss: 3.9530\n",
            "Epoch 20/50\n",
            "268/268 [==============================] - 14s 53ms/step - loss: 3.1890 - val_loss: 3.9407\n",
            "Epoch 21/50\n",
            "268/268 [==============================] - 14s 53ms/step - loss: 3.1395 - val_loss: 3.9346\n",
            "Epoch 22/50\n",
            "268/268 [==============================] - 14s 53ms/step - loss: 3.0966 - val_loss: 3.9331\n",
            "Epoch 23/50\n",
            "268/268 [==============================] - 14s 54ms/step - loss: 3.0533 - val_loss: 3.9242\n",
            "Epoch 24/50\n",
            "268/268 [==============================] - 14s 54ms/step - loss: 3.0127 - val_loss: 3.9223\n",
            "Epoch 25/50\n",
            "268/268 [==============================] - 14s 53ms/step - loss: 2.9780 - val_loss: 3.9210\n",
            "Epoch 26/50\n",
            "268/268 [==============================] - 14s 53ms/step - loss: 2.9417 - val_loss: 3.9232\n",
            "Epoch 27/50\n",
            "268/268 [==============================] - 14s 53ms/step - loss: 2.9050 - val_loss: 3.9195\n",
            "Epoch 28/50\n",
            "268/268 [==============================] - 14s 53ms/step - loss: 2.8719 - val_loss: 3.9166\n",
            "Epoch 29/50\n",
            "268/268 [==============================] - 14s 53ms/step - loss: 2.8398 - val_loss: 3.9143\n",
            "Epoch 30/50\n",
            "268/268 [==============================] - 14s 52ms/step - loss: 2.8103 - val_loss: 3.9155\n",
            "Epoch 31/50\n",
            "268/268 [==============================] - 14s 53ms/step - loss: 2.7790 - val_loss: 3.9304\n",
            "Epoch 00031: early stopping\n"
          ]
        }
      ]
    },
    {
      "cell_type": "code",
      "source": [
        "plt.plot(history.history['loss'], label='train')\n",
        "plt.plot(history.history['val_loss'], label='test')\n",
        "plt.legend()\n",
        "plt.show()"
      ],
      "metadata": {
        "colab": {
          "base_uri": "https://localhost:8080/",
          "height": 265
        },
        "id": "vCOVEparqWOf",
        "outputId": "66615796-8936-4e50-c757-ab37596c57ad"
      },
      "execution_count": 40,
      "outputs": [
        {
          "output_type": "display_data",
          "data": {
            "image/png": "[encoded data removed]",
            "text/plain": [
              "<Figure size 432x288 with 1 Axes>"
            ]
          },
          "metadata": {
            "needs_background": "light"
          }
        }
      ]
    },
    {
      "cell_type": "markdown",
      "source": [
        "# 인퍼런스 모델 구현하기\n",
        "\n",
        "테스트 단계 정수 인덱스 행렬로 존재하던 텍스트 데이터를 실제 데이터로 복원해야 한다    \n",
        "3개의 사전을 미리 준비\n"
      ],
      "metadata": {
        "id": "vq-k2hl2sRgr"
      }
    },
    {
      "cell_type": "code",
      "source": [
        "# 원문 단어 집합, 정수->단어 겟\n",
        "src_index_to_word = src_tokenizer.index_word\n",
        "# 요약 단어 집합, 단어->정수 겟\n",
        "tar_word_to_index = tar_tokenizer.word_index\n",
        "# 요약 단어 집합, 정수->단어 겟\n",
        "tar_index_to_word = tar_tokenizer.index_word"
      ],
      "metadata": {
        "id": "N7CUK4hAtCb8"
      },
      "execution_count": 41,
      "outputs": []
    },
    {
      "cell_type": "code",
      "source": [
        "# 인코더 설계\n",
        "encoder_model = Model(inputs=encoder_inputs, outputs=[encoder_outputs, state_h, state_c])\n",
        "\n",
        "# 이전 시점의 상태들을 저장하는 텐서\n",
        "decoder_state_input_h = Input(shape=(hidden_size,))\n",
        "decoder_state_input_c = Input(shape=(hidden_size,))\n",
        "\n",
        "dec_emb2 = dec_emb_layer(decoder_inputs)\n",
        "\n",
        "# 문장의 다음 단어를 예측하기 위해서 초기 상태(initial_state)를 이전 시점의 상태로 사용. 이는 뒤의 함수 decode_sequence()에 구현\n",
        "# 훈련 과정에서와 달리 LSTM의 리턴하는 은닉 상태와 셀 상태인 state_h와 state_c를 버리지 않음.\n",
        "decoder_outputs2, state_h2, state_c2 = decoder_lstm(dec_emb2, initial_state=[decoder_state_input_h, decoder_state_input_c])"
      ],
      "metadata": {
        "id": "5scDsiWRtJ1i"
      },
      "execution_count": 42,
      "outputs": []
    },
    {
      "cell_type": "markdown",
      "source": [
        "### 어텐션 메커니즘 사용하는 출력층 설계"
      ],
      "metadata": {
        "id": "Vnb9fmxcuEYO"
      }
    },
    {
      "cell_type": "code",
      "source": [
        "# 어텐션 함수\n",
        "decoder_hidden_state_input = Input(shape=(text_max_len, hidden_size))\n",
        "attn_out_inf = attn_layer([decoder_outputs2, decoder_hidden_state_input])\n",
        "decoder_inf_concat = Concatenate(axis=-1, name='concat')([decoder_outputs2, attn_out_inf])\n",
        "\n",
        "# 디코더의 출력층\n",
        "decoder_outputs2 = decoder_softmax_layer(decoder_inf_concat) \n",
        "\n",
        "# 최종 디코더 모델\n",
        "decoder_model = Model(\n",
        "    [decoder_inputs] + [decoder_hidden_state_input,decoder_state_input_h, decoder_state_input_c],\n",
        "    [decoder_outputs2] + [state_h2, state_c2])"
      ],
      "metadata": {
        "id": "20mZ8hSSuBJK"
      },
      "execution_count": 43,
      "outputs": []
    },
    {
      "cell_type": "code",
      "source": [
        "# 인퍼런스 단계에서 단어 시퀀스 완성하는 함수\n",
        "\n",
        "def decode_sequence(input_seq):\n",
        "    # 입력으로부터 인코더의 상태를 얻음\n",
        "    e_out, e_h, e_c = encoder_model.predict(input_seq)\n",
        "\n",
        "     # <SOS>에 해당하는 토큰 생성\n",
        "    target_seq = np.zeros((1,1))\n",
        "    target_seq[0, 0] = tar_word_to_index['sos']\n",
        "\n",
        "    stop_condition = False\n",
        "    decoded_sentence = ''\n",
        "    while not stop_condition: # stop_condition이 True가 될 때까지 루프 반복\n",
        "\n",
        "        output_tokens, h, c = decoder_model.predict([target_seq] + [e_out, e_h, e_c])\n",
        "        sampled_token_index = np.argmax(output_tokens[0, -1, :])\n",
        "        sampled_token = tar_index_to_word[sampled_token_index]\n",
        "\n",
        "        if (sampled_token!='eos'):\n",
        "            decoded_sentence += ' '+sampled_token\n",
        "\n",
        "        #  <eos>에 도달하거나 최대 길이를 넘으면 중단.\n",
        "        if (sampled_token == 'eos'  or len(decoded_sentence.split()) >= (headlines_max_len-1)):\n",
        "            stop_condition = True\n",
        "\n",
        "        # 길이가 1인 타겟 시퀀스를 업데이트\n",
        "        target_seq = np.zeros((1,1))\n",
        "        target_seq[0, 0] = sampled_token_index\n",
        "\n",
        "        # 상태를 업데이트 합니다.\n",
        "        e_h, e_c = h, c\n",
        "\n",
        "    return decoded_sentence"
      ],
      "metadata": {
        "id": "lXjZxHvpuMUO"
      },
      "execution_count": 44,
      "outputs": []
    },
    {
      "cell_type": "markdown",
      "source": [
        "# 모델 테스트하기\n",
        "\n",
        "정수 시퀀스를 텍스트 시퀀스로 변환하여 결과를 확인하는게 편하다.   \n",
        "주어진 정수 시퀀스로 변환하는 함수를 만든다.   \n",
        "Text 정수 시퀀스에서는 패딩을 위해 사용되는 숫자 0 제외,   \n",
        "headlines 정수 시퀀스에서는 숫자 0, 시작토큰, 종료토큰 인덱스 출력을 제외하도록 한다."
      ],
      "metadata": {
        "id": "pe3c-unhuY3B"
      }
    },
    {
      "cell_type": "code",
      "source": [
        "# 원문의 정수 시퀀스를 텍스트 시퀀스로 변환\n",
        "def seq2text(input_seq):\n",
        "    temp=''\n",
        "    for i in input_seq:\n",
        "        if (i!=0):\n",
        "            temp = temp + src_index_to_word[i]+' '\n",
        "    return temp\n",
        "\n",
        "# 요약문의 정수 시퀀스를 텍스트 시퀀스로 변환\n",
        "def seq2headlines(input_seq):\n",
        "    temp=''\n",
        "    for i in input_seq:\n",
        "        if ((i!=0 and i!=tar_word_to_index['sos']) and i!=tar_word_to_index['eos']):\n",
        "            temp = temp + tar_index_to_word[i] + ' '\n",
        "    return temp"
      ],
      "metadata": {
        "id": "f9qNPqimueu8"
      },
      "execution_count": 45,
      "outputs": []
    },
    {
      "cell_type": "code",
      "source": [
        "for i in range(0, 50):\n",
        "    print(\"원문 :\", seq2text(encoder_input_test[i]))\n",
        "    print(\"실제 요약 :\", seq2headlines(decoder_input_test[i]))\n",
        "    print(\"예측 요약 :\", decode_sequence(encoder_input_test[i].reshape(1, text_max_len)))\n",
        "    print(\"\\n\")"
      ],
      "metadata": {
        "colab": {
          "base_uri": "https://localhost:8080/"
        },
        "id": "nKuAvTxKwA2w",
        "outputId": "6685cb05-b0eb-4375-ef7c-ec01ea361f2a"
      },
      "execution_count": 46,
      "outputs": [
        {
          "output_type": "stream",
          "name": "stdout",
          "text": [
            "원문 : terrorism suspect involved foiled attack france lyon released custody judge forgot renew pre trial detention following release arrested driving without license outside probation area however released court found police testimony weak convict \n",
            "실제 요약 : terror suspect freed as judge forgets to custody term \n",
            "예측 요약 :  isis suspect arrested in new york city\n",
            "\n",
            "\n",
            "원문 : sari clad man thrashed suspicion child madhya pradesh district police said works artist rescued time local police video assault emerged social media following police said would identify accused \n",
            "실제 요약 : sari clad man thrashed on suspicion of being child lifter \n",
            "예측 요약 :  video shows mob beating up cop for cow slaughter\n",
            "\n",
            "\n",
            "원문 : indian leg spinner yuzvendra chahal took four wickets sri lanka wednesday become highest wicket taker chahal took wickets year surpassing afghanistan rashid khan windies williams wickets chahal england february best bowling figures year best ever indian \n",
            "실제 요약 : chahal becomes highest wicket taker in \n",
            "예측 요약 :  chahal has highest wicket taker in odi series\n",
            "\n",
            "\n",
            "원문 : marks spencer saturday shut seven stores uk part plan reduce costs million may announced plans close stores company ceo steve claimed staff closed stores relocated within business \n",
            "실제 요약 : marks shuts down stores in uk to reduce costs \n",
            "예측 요약 :  to get new year by year old\n",
            "\n",
            "\n",
            "원문 : actor shah rukh khan named top indian actor internet movie data base list based imdb also takes consideration actor stayed top long aamir khan salman khan occupied second third spots respectively \n",
            "실제 요약 : shah rukh khan named top indian actor of by \n",
            "예측 요약 :  shah rukh khan named most followed indian film in india\n",
            "\n",
            "\n",
            "원문 : actress sonam kapoor took instagram wish cousin janhvi kapoor occasion st birthday today one strongest girls know became woman today happy birthday wrote kapoor family reportedly planning birthday dinner mark janhvi birthday \n",
            "실제 요약 : one of the strongest girls know sonam to janhvi on day \n",
            "예측 요약 :  sonam shares pic with sonam from her mother birthday\n",
            "\n",
            "\n",
            "원문 : pm narendra modi tuesday claimed lakh toilets constructed bihar past week rjd leader tejashwi yadav called big congress leader sanjay nirupam also tweeted think possible construct toilets high speed much possible pm modi make false claims \n",
            "실제 요약 : pm toilets in week claim big up tejashwi \n",
            "예측 요약 :  bjp workers are more than pm modi\n",
            "\n",
            "\n",
            "원문 : central scheme grants pension benefits various categories freedom fighters besides pension freedom fighters also avail free railway pass medical facilities telephone connection subject certain conditions freedom fighters home new delhi provides transit accommodation eligible recipients scheme \n",
            "실제 요약 : what benefits are freedom fighters entitled to \n",
            "예측 요약 :  govt to give free aadhaar for women to vacant\n",
            "\n",
            "\n",
            "원문 : thieves caught cctv cameras stealing valuables worth nearly crore shiva temple haryana panchkula district reports said priests claimed thieves broken open locks temple added lakhs rupees given offering deposited bank two days ago valuables left complex \n",
            "실제 요약 : crore theft at shiva temple in haryana caught on camera \n",
            "예측 요약 :  thieves steal jewellery worth lakh from temple in up\n",
            "\n",
            "\n",
            "원문 : russian president vladimir putin sunday called us counterpart donald trump thank cia tip helped thwart bombings russia st petersburg russian authorities managed prevent attacks detaining seven isis linked supporters example positive things occur two countries work together white house said \n",
            "실제 요약 : putin thanks trump after cia helped terror attacks \n",
            "예측 요약 :  putin attacks putin on russia attack on russia\n",
            "\n",
            "\n",
            "원문 : words pay trump bribes projected leading trump international hotel washington monday night another projection read welcome seemingly clause barring holding government office accepting monetary payments gifts foreign government entities russia turkey flags also projected hotel \n",
            "실제 요약 : pay trump bribes here donald trump hotel trolled \n",
            "예측 요약 :  trump signs his house for calling trump\n",
            "\n",
            "\n",
            "원문 : information broadcasting ministry reportedly asked broadcast audience research council india stop generating ratings tv channels use landing pages gain viewership landing page refers channel appears moment television switched notably republic attributed rival times rising viewership method landing pages \n",
            "실제 요약 : stop rating tv channels using landing pages govt to \n",
            "예측 요약 :  govt slams tv channels for flying air quality\n",
            "\n",
            "\n",
            "원문 : speaking pacer jasprit bumrah mumbai indians coach mahela jayawardene said indian pacer understand pressure happy team bumrah comes likes irrespective situation mumbai indians captain rohit sharma added year old \n",
            "실제 요약 : bumrah does not understand what pressure is mi coach \n",
            "예측 요약 :  sehwag is like women harbhajan on\n",
            "\n",
            "\n",
            "원문 : two lakh commuters travelled hyderabad metro rail first day commercial operation wednesday managing director reddy said metro service reportedly sold smart cards first day pm narendra modi tuesday inaugurated metro km first phase covers stations \n",
            "실제 요약 : lakh commuters travel on hyderabad metro on st day \n",
            "예측 요약 :  bengaluru metro to get first train for\n",
            "\n",
            "\n",
            "원문 : across country urged government include list gst demerit goods ahead gst council meeting monday earlier reports stated government may exclude list interest tobacco farmers doctors cited single largest cause smoking related deaths india \n",
            "실제 요약 : docs urge govt to include in gst goods list \n",
            "예측 요약 :  gst council approves gst on budget\n",
            "\n",
            "\n",
            "원문 : mizo national front candidate seat mizoram assembly elections margin three votes received total votes beating congress received votes assembly elections contested aizawl north iii constituency lost congress lal votes \n",
            "실제 요약 : an mnf candidate won seat in mizoram elections by just votes \n",
            "예측 요약 :  voting wins seat in gujarat assembly polls\n",
            "\n",
            "\n",
            "원문 : europe largest health food chain holland sold russian billionaire mikhail billion deal retail fund controlled buying chain us private equity firm founded holland operates locations workforce exceeding \n",
            "실제 요약 : russian billionaire buys uk food chain for billion \n",
            "예측 요약 :  firm to buy cancer for billion\n",
            "\n",
            "\n",
            "원문 : assistant sub inspector constable killed bomb accidentally exploded bomb efforts police station jharkhand district explosive discovered anti insurgency operation taken police station mla demanded action allowed bomb defused police station \n",
            "실제 요약 : cops killed while bomb at khand police station \n",
            "예측 요약 :  blast accused of blast in blast in kashmir\n",
            "\n",
            "\n",
            "원문 : england pacer james anderson broke tears asked alastair cook retirement field interview fifth india test tuesday best mate going miss time anderson said said happy cook field see record th wicket \n",
            "실제 요약 : anderson breaks down farewell to best mate cook \n",
            "예측 요약 :  never said to go back to bat anderson\n",
            "\n",
            "\n",
            "원문 : photographs cat two different sides face emerged online cat named spanish namely single created merging two non identical twins cat orange face amber eye black face blue eye \n",
            "실제 요약 : cat has two different sides to her face \n",
            "예측 요약 :  new york oldest player called off for\n",
            "\n",
            "\n",
            "원문 : rajkummar rao talking film newton india official entry oscars said wants film break country dry spell oscars campaign trying level best hoping best added rajkummar newton compete films foreign language film category oscars \n",
            "실제 요약 : want newton to break india dry spell at oscars rajkummar \n",
            "예측 요약 :  rajkummar rao to make newton in india newton director\n",
            "\n",
            "\n",
            "원문 : online grocery store bigbasket invest crore strengthen technology back end farmer supply chain produce comes directly farmers going strengthen ceo hari menon said also said bigbasket plans invest technology strengthen customer service areas back end \n",
            "실제 요약 : bigbasket to invest crore in farmer supply chain \n",
            "예측 요약 :  startup raises million in series funding\n",
            "\n",
            "\n",
            "원문 : us restaurant fired waiter writing receipt asian place name cafe manager apologised saying situation leaves choice terminate employee unjustified act facebook user shared photo receipt belonging friend mother \n",
            "실제 요약 : writes on asian diner bill fired \n",
            "예측 요약 :  us firm fires indian american airlines\n",
            "\n",
            "\n",
            "원문 : least died nearly people injured telangana terrace collapsed dussehra festivities friday large number people gathered watch festivities several standing terrace collapsed apparently due heavy weight people standing ground \n",
            "실제 요약 : died injured in terrace collapse during dussehra event \n",
            "예측 요약 :  dead injured as bridge collapses in west bengal\n",
            "\n",
            "\n",
            "원문 : foreign secretary vijay keshav thursday said india become third largest aviation market world aimed laying kilometres highways every day three time jump four years ago added country developing chabahar port iran improve connectivity west said \n",
            "실제 요약 : india will be rd largest aviation market by foreign secy \n",
            "예측 요약 :  india longest of world largest economy in yrs\n",
            "\n",
            "\n",
            "원문 : india second largest services firm infosys thursday named interim chief financial officer spent years infosys two currently executive vice president deputy chief financial officer current cfo md ranganath set step friday year career company \n",
            "실제 요약 : infosys names as interim cfo \n",
            "예측 요약 :  infosys ceo resigns after infosys exit exit\n",
            "\n",
            "\n",
            "원문 : responding vijender singh comment chinese products last long chinese boxer singh next opponent zulpikar maimaitiali said show vijender chinese capable shown india time time vijender lesson singh maimaitiali take double title bout august \n",
            "실제 요약 : will show vijender what chinese are capable of \n",
            "예측 요약 :  china will not be good like in india china\n",
            "\n",
            "\n",
            "원문 : kings xi punjab karnataka batsman mayank agarwal tied knot long time girlfriend sood year old scored plus runs last domestic season proposed december london eye kings xi punjab opener kl rahul among attendees wedding \n",
            "실제 요약 : kxip mayank agarwal ties the knot with girlfriend \n",
            "예측 요약 :  dhoni posts video of ipl match in ipl match\n",
            "\n",
            "\n",
            "원문 : new zealand defeated pakistan seven wickets wellington monday take lead three match series new zealand top ranked team icc team rankings dismissed pakistan innings pakistan babar azam became second fastest cricketer complete runs cricket \n",
            "실제 요약 : new zealand beat pakistan to take lead in series \n",
            "예측 요약 :  pakistan beat pakistan to win their th odi series\n",
            "\n",
            "\n",
            "원문 : sports minister ex india cricketer chetan chauhan said lord hanuman caste discussed adding gods caste chauhan said lord hanuman sportsman used enemies wrestlers worship require power energy like earlier cm yogi adityanath said lord hanuman dalit \n",
            "실제 요약 : hanuman was gods have no caste up sports minister \n",
            "예측 요약 :  lord lord hanuman is lord lord hanuman mamata\n",
            "\n",
            "\n",
            "원문 : claiming trying bring political parties together bid defeat ruling nda general elections ncp chief sharad pawar said seem possible single party remain power added like party got majority government manmohan singh formed \n",
            "실제 요약 : no party will get majority in ncp chief sharad pawar \n",
            "예측 요약 :  opposition parties to take trust motion against nda\n",
            "\n",
            "\n",
            "원문 : facebook chief security officer alex said company faces many cyber threats runs security like college campus made remark internal discussion employees hacking threats network however later said words college campus merely figure speech \n",
            "실제 요약 : fb runs its security like college campus fb security chief \n",
            "예측 요약 :  facebook fires news of staff over security abuse in fb\n",
            "\n",
            "\n",
            "원문 : economist us claimed discovered trillion unauthorised spending us government claimed us departments defence housing urban development spent unauthorised amount lack transparency goes due process federal spending us congress said \n",
            "실제 요약 : economist finds trillion in unauthorised spending by us \n",
            "예측 요약 :  us defence department\n",
            "\n",
            "\n",
            "원문 : delhi police arrested man allegedly masturbating front student bus student said shouted accused continued act following thrashed called police added one bus helped even beating \n",
            "실제 요약 : delhi man beaten by girl student for masturbating in bus arrested \n",
            "예측 요약 :  man arrested for molesting year old girl in delhi\n",
            "\n",
            "\n",
            "원문 : us president donald trump thursday said russia iran syria others fight isis without us following decision withdraw american troops syria added countries happy decision us president issued warning saying islamic state ever attack us \n",
            "실제 요약 : russia iran syria will have to fight isis without us trump \n",
            "예측 요약 :  trump blames syria for syria withdrawal of syria\n",
            "\n",
            "\n",
            "원문 : indian men hockey team defeated japan third pool match asian games friday india scored goals first three matches conceded single goal second match india defeated hong kong register biggest ever win history \n",
            "실제 요약 : indian men hockey team beat japan cross goals in games \n",
            "예측 요약 :  indian women hockey team beats world cup for\n",
            "\n",
            "\n",
            "원문 : bjp president amit shah friday said bjp committed construction ram temple promised trying case reaches conclusion supreme court congress creating obstacles process added sc deferred hearing ram janmabhoomi babri masjid land title dispute january \n",
            "실제 요약 : bjp wants to make ram mandir congress creating shah \n",
            "예측 요약 :  bjp workers amit shah to bjp workers in ayodhya case\n",
            "\n",
            "\n",
            "원문 : talking reporters recently concluded africa trip us first lady melania trump said always agree husband president donald trump tweets tell give honest opinion advice said adding sometimes listens sometimes melania said voice opinions \n",
            "실제 요약 : do not always agree with trump tweets wife melania \n",
            "예측 요약 :  trump calls for saying he is not good thing\n",
            "\n",
            "\n",
            "원문 : national health protection scheme dubbed aims provide lakh annual cover per family crore poor families implemented october announcing budget finance minister arun jaitley termed plan world largest government funded healthcare programme initiative reportedly require crore state central funding \n",
            "실제 요약 : government modicare plan to be implemented from oct \n",
            "예측 요약 :  govt to cut lakh loan to swachh bharat mission\n",
            "\n",
            "\n",
            "원문 : new satirical animated series focusing us president donald trump set made stephen colbert host american talk show late show television network know lot people wanted honoured cartoon president invited documentary crew private world said colbert \n",
            "실제 요약 : trump animated tv series to be made \n",
            "예측 요약 :  trump releases video of donald trump house\n",
            "\n",
            "\n",
            "원문 : rwanda become first low income country provide universal eye care entire crore population government partnered international non governmental organisation vision nation train eye care nurses short reportedly common eye related ailment rwanda eye conditions considered \n",
            "실제 요약 : rwanda st low income country to provide eye care for all \n",
            "예측 요약 :  india to get first ever run by\n",
            "\n",
            "\n",
            "원문 : europe largest banks booked billion tax havens quarter profit amid crackdown tax oxfam said biggest lenders paid tax million profit posted seven tax havens bank employees tax havens appeared four times productive average bank employee oxfam added \n",
            "실제 요약 : europe biggest banks billion from tax havens \n",
            "예측 요약 :  banks banks to pay bn loan for bankruptcy\n",
            "\n",
            "\n",
            "원문 : prime minister narendra modi friday extended greetings border security force personnel families bsf raising day saying bsf service nation protect us borders well times natural disasters accidents proud bsf pm modi tweeted \n",
            "실제 요약 : pm modi extends greetings on bsf raising day \n",
            "예측 요약 :  pm modi meets indian flag in day at border\n",
            "\n",
            "\n",
            "원문 : american model bella hadid opening religion said proud muslim dad refugee first came america actually close home sister brother added bella earlier slammed us president donald trump immigration ban \n",
            "실제 요약 : am proud to be muslim bella hadid \n",
            "예측 요약 :  gigi hadid slammed for her visit\n",
            "\n",
            "\n",
            "원문 : talking upcoming test prototype startup boring company elon musk tweeted exciting video guaranteed earlier startup revealed plans build km route travel us cities washington dc baltimore minutes transportation system claims speed kmph \n",
            "실제 요약 : exciting video musk on startup test \n",
            "예측 요약 :  musk boring company makes model tunnel to build tunnel\n",
            "\n",
            "\n",
            "원문 : female tourist mumbai alleged molested pilot flight bir billing himachal pradesh district sp sanjeev gandhi confirmed received online complaint victim fir lodged accused pilot accused interrogated added \n",
            "실제 요약 : tourist alleges molestation by pilot mid flight \n",
            "예측 요약 :  woman who molested man in mp flight gets fine\n",
            "\n",
            "\n",
            "원문 : filipino actress miss international winner rose revealed molested priest child still preaching somewhere wrote facebook touched inappropriately well known businessman guy well known ceo big company said \n",
            "실제 요약 : was molested by priest when was child miss international \n",
            "예측 요약 :  was sexually harassed by my hair oscar winning actress\n",
            "\n",
            "\n",
            "원문 : congress madhya pradesh unit president kamal nath said lack alliance mayawati led bsp impact upcoming assembly elections added bsp demanding seats never good voter share talks samajwadi party seat sharing said \n",
            "실제 요약 : non alliance with mayawati will not have any impact congress \n",
            "예측 요약 :  will contest lok sabha polls in alliance with bjp mp\n",
            "\n",
            "\n",
            "원문 : hundreds muslims prayed outside white house friday protest us president donald trump decision recognise jerusalem israel capital trump piece soil jerusalem palestine owns trump tower give away israelis protesters said notably israel palestine claim jerusalem capital \n",
            "실제 요약 : muslims pray outside white house in protest over jerusalem \n",
            "예측 요약 :  jerusalem protests against trump over jerusalem move\n",
            "\n",
            "\n",
            "원문 : following supreme court verdict legalising homosexuality india scrapping parts section lakh tweets discussing section lgbtq past hours posted microblogging site twitter conversation still rise congrats lgbtq community india twitter india said tweet \n",
            "실제 요약 : over tweets on twitter related to sc sec verdict \n",
            "예측 요약 :  supreme court to make the first time in sc\n",
            "\n",
            "\n"
          ]
        }
      ]
    },
    {
      "cell_type": "markdown",
      "source": [
        "# 추출적 요약 하기"
      ],
      "metadata": {
        "id": "Asp8GsUowFeQ"
      }
    },
    {
      "cell_type": "markdown",
      "source": [
        "#### summarize\n",
        "\n",
        "text(str) : 요약할 테스트   \n",
        "ratio(float, optional) : 요약문에서 원본으로 선택되는 문장 비율 (0~1 사이값)   \n",
        "words(int or None, optional) : 출력에 포함할 단어 수   \n",
        "split(bool, optional) : True면 list, False면 join된 문자열 반환  \n",
        " "
      ],
      "metadata": {
        "id": "BC9UJ4UJw8cd"
      }
    },
    {
      "cell_type": "markdown",
      "source": [
        ">`추출적 요약하기는 왜 인지 모르겠지만 계속해서 오류가 발생해서 별도의 다른 파일로 올리게 되었습니다.`"
      ],
      "metadata": {
        "id": "wiPzHPvQnbxS"
      }
    },
    {
      "cell_type": "markdown",
      "source": [
        "# 회고\n",
        "\n",
        "이번 뉴스 기사를 요약하는 과정은 꽤나 재미가 있었다.   \n",
        "다만 아쉬운 점이 있다면 인퍼런스 모델 구현이 아직 완벽하게 이해가 되지 않았고, 추상적 요약 모델의 val_loss가 안잡혔다는 점이다.  \n",
        "모델이 학습한 그래프를 확인해봐도 앞서 노드를 실습하면서 봤던 그래프와는 너무 차이가 크고 결과를 확인해 봐도 눈에 띄는 오류가 많아보인다.   \n",
        "\n",
        "#### 실제 headlines, 예측 headlines 차이 확인해보기\n",
        "#### 영어를 못해서 번역기의 힘을 빌렸습니다\n",
        "\n",
        "died injured in terrace collapse during dussehra event   \n",
        "dead injured as bridge collapses in west bengal  \n",
        "\n",
        "dussehra 행사 중 테라스 붕괴로 부상 사망   \n",
        "서부 벵골서 다리 붕괴로 사망  \n",
        "\n",
        "india will be rd largest aviation market by foreign secy   \n",
        "india longest of world largest economy in yrs  \n",
        "\n",
        "인도는 외국에서 세 번째로 큰 항공 시장이 될 것입니다.  \n",
        "인도는 몇 년 동안 세계 최대 경제의 가장 긴   \n",
        "\n",
        "infosys names as interim cfo   \n",
        "infosys ceo resigns after infosys exit exit  \n",
        "\n",
        "infosys 이름을 임시 cfo로 지정   \n",
        "인포시스 CEO, 인포시스 퇴장 후 사임   \n",
        "\n",
        "will show vijender what chinese are capable of   \n",
        "china will not be good like in india china  \n",
        "\n",
        "중국인이 무엇을 할 수 있는지 vijender를 보여줄 것입니다   \n",
        "중국은 인도 중국처럼 좋지 않을 것입니다   \n",
        "\n",
        "kxip mayank agarwal ties the knot with girlfriend   \n",
        "dhoni posts video of ipl match in ipl match  \n",
        "\n",
        "kxip mayank agarwal, 여자 친구와 결혼   \n",
        "dhoni는 ipl 경기에서 ipl 경기의 비디오를 게시합니다.   \n",
        "\n",
        "new zealand beat pakistan to take lead in series   \n",
        "pakistan beat pakistan to win their th odi series  \n",
        "\n",
        "뉴질랜드, 파키스탄 꺾고 시리즈 1위   \n",
        "파키스탄, 파키스탄 꺾고 odi 시리즈 우승  \n",
        "\n",
        "hanuman was gods have no caste up sports minister   \n",
        "lord lord hanuman is lord lord hanuman mamata  \n",
        "\n",
        "하누만 신은 계급이 없는 스포츠 장관이었다   \n",
        "군주 하누만은 군주 하누만 마마타입니다  \n",
        "\n",
        "no party will get majority in ncp chief sharad pawar   \n",
        "opposition parties to take trust motion against nda  \n",
        "\n",
        "어떤 정당도 ncp 수석 샤라드 파와르에서 과반을 차지하지 못할 것입니다.   \n",
        "야당, NDA 반대 신탁 동의   \n",
        "\n",
        "indian men hockey team beat japan cross goals in games   \n",
        "indian women hockey team beats world cup for  \n",
        "\n",
        "인도 남자 하키 팀은 게임에서 일본 크로스 골을 이겼습니다.   \n",
        "인도 여자 하키 팀, 월드컵 우승   \n",
        "\n",
        ">대충 슥 보기만 해도 조금 심각하게 많이 틀리는 것을 알 수 있다.   \n",
        "val_loss를 잡지 못한 결과물인 듯"
      ],
      "metadata": {
        "id": "O-AbwYdkos1o"
      }
    },
    {
      "cell_type": "markdown",
      "source": [
        "## 두 요약 결과 비교\n",
        "\n",
        "이 글에는 없고 따로 참고자료로 올리겠지만   \n",
        "추상적요약과 추측적 요약을 비교해보면 \n",
        "\n",
        "## 추측적 요약의 일부\n",
        "\n",
        "upGrad learner switches to career in ML & Al with 90% salary hike\n",
        "upGrad's Online Power Learning has powered 3 lakh+ careers.\n",
        "\n",
        "upGrad 학습자는 90% 급여 인상과 함께 ML 및 Al에서 경력으로 전환  \n",
        "upGrad의 온라인 파워 러닝은 3 lakh 이상의 경력을 제공했습니다.  \n",
        "\n",
        "Delhi techie wins free food from Swiggy for one year on CRED\n",
        "Users get one CRED coin per rupee of bill paid, which can be used to avail rewards from brands like Ixigo, BookMyShow, UberEats, Cult.Fit and more.\n",
        "\n",
        "델리 기술자는 CRED에서 1년 동안 Swiggy에서 무료 음식을 얻습니다.  \n",
        "사용자는 지불한 청구서의 루피당 하나의 CRED 코인을 받게 되며, 이 코인은 Ixigo, BookMyShow, UberEats, Cult.Fit 등과 같은 브랜드의 보상을 이용하는 데 사용할 수 있습니다.  \n",
        "\n",
        "\n",
        "New Zealand end Rohit Sharma-led India's 12-match winning streak\n",
        "The match witnessed India getting all out for 92, their seventh lowest total in ODI cricket history.\n",
        "\n",
        "뉴질랜드, 로히트 샤르마 주도 인도의 12경기 연속 무패 행진 종료  \n",
        "이 경기에서 인도는 ODI 크리켓 역사상 7번째로 낮은 합계인 92타를 기록했습니다.  \n",
        "\n",
        "Aegon life iTerm insurance plan helps customers save tax\n",
        "Also, customers have options to insure against Critical Illnesses, Disability and Accidental Death Benefit Rider with a life cover up to the age of 80 years.\n",
        "\n",
        "Aegon life iTerm 보험은 고객이 세금을 절약하도록 도와줍니다.  \n",
        "또한 고객은 최대 80세까지 생명을 보장하는 중대 질병, 장애 및 사고 사망 보험금 특약에 대해 보험에 가입할 수 있습니다.  \n",
        "\n",
        "Cong wins Ramgarh bypoll in Rajasthan, takes total to 100 seats\n",
        "Congress candidate Shafia Zubair won the Ramgarh Assembly seat in Rajasthan, by defeating BJP's Sukhwant Singh with a margin of 12,228 votes in the bypoll.\n",
        "\n",
        "Cong, Rajasthan에서 Ramgarh bypoll 승리, 총 100석 차지   \n",
        "하원의원 후보인 Shafia Zubair는 12,228표 차이로 BJP의 Sukhwant Singh를 꺾고 Rajasthan에서 Ramgarh 의회 의석을 차지했습니다.\n",
        "\n",
        "결과를 비교해보면 추상적요약은 그래도 앞서 전처리 과정에서 최대 길이를 정해주는 등 다양한 처리과정을 거쳐서 그래도 어느정도 정돈된 연결이 되는 느낌을 주지만    \n",
        "추출적요약은 따로 전처리를 해주지 않고 단순히 summarize 함수를 사용해 요약하다보니 길이도 제멋대로인 경향도 있고 요약이 요약같지 않은 느낌이 많이 든다   \n",
        "\n",
        "재밌게도 몇몇 요약은 기존의 headlines을 부가 설명하는 역할을 하는 것처럼 이어지는 모습을 볼 수 있다.    \n",
        "\n",
        "그리고 왜 인지 모르겠지만 몇몇 요약은 아예 값이 나오지 않는 요약도 있다 이는 여러번 같은 코드를 반복 실행해봤지만 여전히 안나오는 것을 확인할 수 있다 이는 제대로 해결하지 못한 과제 중 하나이다.\n"
      ],
      "metadata": {
        "id": "e3TIPyZatREO"
      }
    }
  ]
}
