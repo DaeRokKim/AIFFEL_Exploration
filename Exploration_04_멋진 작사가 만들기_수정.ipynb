{
 "cells": [
  {
   "cell_type": "code",
   "execution_count": 1,
   "id": "b3c9c557",
   "metadata": {},
   "outputs": [
    {
     "name": "stdout",
     "output_type": "stream",
     "text": [
      "데이터 크기: 187088\n",
      "Examples:\n",
      " [\"Now I've heard there was a secret chord\", 'That David played, and it pleased the Lord', \"But you don't really care for music, do you?\", 'It goes like this', 'The fourth, the fifth', 'The minor fall, the major lift', 'The baffled king composing Hallelujah Hallelujah', 'Hallelujah', 'Hallelujah', 'Hallelujah Your faith was strong but you needed proof']\n"
     ]
    }
   ],
   "source": [
    "import glob\n",
    "import os, re\n",
    "import numpy as np\n",
    "import tensorflow as tf\n",
    "from sklearn.model_selection import train_test_split\n",
    "\n",
    "\n",
    "txt_file_path = os.getenv('HOME')+'/aiffel/lyricist/data/lyrics/*'\n",
    "\n",
    "txt_list = glob.glob(txt_file_path)\n",
    "\n",
    "raw_corpus = []\n",
    "\n",
    "# 여러개의 txt 파일을 모두 읽어서 raw_corpus 에 담습니다.\n",
    "for txt_file in txt_list:\n",
    "    with open(txt_file, \"r\") as f:\n",
    "        raw = f.read().splitlines()\n",
    "        raw_corpus.extend(raw)\n",
    "\n",
    "print(\"데이터 크기:\", len(raw_corpus))\n",
    "print(\"Examples:\\n\", raw_corpus[:10])"
   ]
  },
  {
   "cell_type": "code",
   "execution_count": 2,
   "id": "8ca327b3",
   "metadata": {},
   "outputs": [],
   "source": [
    "def preprocess_sentence(sentence):\n",
    "    sentence = sentence.lower().strip()\n",
    "    sentence = re.sub(r\"([?.!,¿])\", r\" \\1 \", sentence)\n",
    "    sentence = re.sub(r'[\" \"]+', \" \", sentence) # 3\n",
    "    sentence = re.sub(r\"[^a-zA-Z?.!,¿]+\", \" \", sentence) # 4\n",
    "    sentence = sentence.strip() # 5\n",
    "    sentence = '<start> ' + sentence + ' <end>' # 6\n",
    "    return sentence"
   ]
  },
  {
   "cell_type": "code",
   "execution_count": 3,
   "id": "6c67e34f",
   "metadata": {},
   "outputs": [],
   "source": [
    "corpus = []\n",
    "\n",
    "for sentence in raw_corpus:\n",
    "    if len(sentence) == 0:\n",
    "        continue\n",
    "    preprocessed_sentence = preprocess_sentence(sentence)\n",
    "    if len(preprocessed_sentence.split()) > 15:\n",
    "        continue\n",
    "    \n",
    "#     preprocessed_sentence = preprocess_sentence(sentence)\n",
    "    corpus.append(preprocessed_sentence)"
   ]
  },
  {
   "cell_type": "markdown",
   "id": "0d56d702",
   "metadata": {},
   "source": [
    "처음에 어떻게 해야 텐서가 15개를 넘어가는 것을 제외해야 될지 몰라서 고민하며 파이썬 문법을 보다 보니\n",
    "아주 간단하게 split() 메서드를 통해 분해할 수 있어서 사용했다\n",
    "\n",
    "근데 이게 맞는지는 모르겠다."
   ]
  },
  {
   "cell_type": "code",
   "execution_count": 4,
   "id": "85fd9b33",
   "metadata": {
    "scrolled": true
   },
   "outputs": [
    {
     "data": {
      "text/plain": [
       "['<start> now i ve heard there was a secret chord <end>',\n",
       " '<start> that david played , and it pleased the lord <end>',\n",
       " '<start> but you don t really care for music , do you ? <end>',\n",
       " '<start> it goes like this <end>',\n",
       " '<start> the fourth , the fifth <end>',\n",
       " '<start> the minor fall , the major lift <end>',\n",
       " '<start> the baffled king composing hallelujah hallelujah <end>',\n",
       " '<start> hallelujah <end>',\n",
       " '<start> hallelujah <end>',\n",
       " '<start> hallelujah your faith was strong but you needed proof <end>']"
      ]
     },
     "execution_count": 4,
     "metadata": {},
     "output_type": "execute_result"
    }
   ],
   "source": [
    "corpus[:10]"
   ]
  },
  {
   "cell_type": "code",
   "execution_count": 5,
   "id": "5e58f59d",
   "metadata": {
    "scrolled": true
   },
   "outputs": [
    {
     "name": "stdout",
     "output_type": "stream",
     "text": [
      "[[   2   50    4 ...    0    0    0]\n",
      " [   2   15 2971 ...    0    0    0]\n",
      " [   2   33    7 ...   46    3    0]\n",
      " ...\n",
      " [   2    4  117 ...    0    0    0]\n",
      " [   2  258  195 ...   12    3    0]\n",
      " [   2    7   34 ...    0    0    0]] <keras_preprocessing.text.Tokenizer object at 0x7f247d351190>\n"
     ]
    }
   ],
   "source": [
    "def tokenize(corpus):\n",
    "    tokenizer = tf.keras.preprocessing.text.Tokenizer(num_words=20000, filters=' ', oov_token=\"<unknown>\")\n",
    "    tokenizer.fit_on_texts(corpus)\n",
    "    tensor = tokenizer.texts_to_sequences(corpus)\n",
    "    tensor = tf.keras.preprocessing.sequence.pad_sequences(tensor, padding='post')\n",
    "    \n",
    "    print(tensor, tokenizer)\n",
    "    return tensor, tokenizer\n",
    "\n",
    "tensor, tokenizer = tokenize(corpus)"
   ]
  },
  {
   "cell_type": "markdown",
   "id": "4daab0e1",
   "metadata": {},
   "source": [
    "단어장의 크기를 "
   ]
  },
  {
   "cell_type": "code",
   "execution_count": 6,
   "id": "2d0515df",
   "metadata": {
    "scrolled": true
   },
   "outputs": [
    {
     "name": "stdout",
     "output_type": "stream",
     "text": [
      "[[   2   50    4   95  303   62   53    9  946 6269]\n",
      " [   2   15 2971  872    5    8   11 5747    6  374]\n",
      " [   2   33    7   40   16  164  288   28  333    5]]\n",
      "<class 'numpy.ndarray'>\n"
     ]
    }
   ],
   "source": [
    "print(tensor[:3, :10])\n",
    "print(type(tensor))"
   ]
  },
  {
   "cell_type": "code",
   "execution_count": 7,
   "id": "d54074cb",
   "metadata": {
    "scrolled": false
   },
   "outputs": [
    {
     "name": "stdout",
     "output_type": "stream",
     "text": [
      "source train : (124981, 14)\n",
      "Target train :  (124981, 14)\n"
     ]
    }
   ],
   "source": [
    "source_input = tensor[:, :-1]  \n",
    "target_input = tensor[:, 1:]    \n",
    "\n",
    "enc_train, enc_val, dec_train, dec_val = train_test_split(source_input, target_input, test_size=0.2, random_state=43)\n",
    "\n",
    "print(\"source train :\", enc_train.shape)\n",
    "print(\"Target train : \", dec_train.shape)"
   ]
  },
  {
   "cell_type": "code",
   "execution_count": 8,
   "id": "95828974",
   "metadata": {},
   "outputs": [],
   "source": [
    "# BUFFER_SIZE = len(source_input)\n",
    "# BATCH_SIZE = 256\n",
    "# steps_per_epoch = len(source_input) // BATCH_SIZE\n",
    "\n",
    "# VOCAB_SIZE = tokenizer.num_words + 1\n",
    "\n",
    "# dataset = tf.data.Dataset.from_tensor_slices((source_input, target_input))\n",
    "# dataset = dataset.shuffle(BUFFER_SIZE)\n",
    "# dataset = dataset.batch(BATCH_SIZE, drop_remainder=True)\n",
    "# dataset"
   ]
  },
  {
   "cell_type": "code",
   "execution_count": 9,
   "id": "77e25260",
   "metadata": {},
   "outputs": [],
   "source": [
    "class TextGenerator(tf.keras.Model):\n",
    "    def __init__(self, vocab_size, embedding_size, hidden_size):\n",
    "        super().__init__()\n",
    "        \n",
    "        self.embedding = tf.keras.layers.Embedding(vocab_size, embedding_size)\n",
    "        self.rnn_1 = tf.keras.layers.LSTM(hidden_size, return_sequences=True)\n",
    "        self.rnn_2 = tf.keras.layers.LSTM(hidden_size, return_sequences=True)\n",
    "        self.linear = tf.keras.layers.Dense(vocab_size)\n",
    "        \n",
    "    def call(self, x):\n",
    "        out = self.embedding(x)\n",
    "        out = self.rnn_1(out)\n",
    "        out = self.rnn_2(out)\n",
    "        out = self.linear(out)\n",
    "        \n",
    "        return out\n",
    "    \n",
    "embedding_size = 256\n",
    "hidden_size = 2048\n",
    "model = TextGenerator(tokenizer.num_words + 1, embedding_size, hidden_size)\n"
   ]
  },
  {
   "cell_type": "markdown",
   "id": "92b49a9f",
   "metadata": {},
   "source": [
    "embedding_size에 대해서 어떤 값을 취해주는지 가장 적절할지 몰라\n",
    "처음에 embedding_size = 1000, hidden_size = 3000을 넣어 줬다(돌리는데 3시간 반걸렸다)\n",
    "이후 로스율이 2.48까지밖에 나오지 않아\n",
    "다시 40, 1024로 바꿔줬으나 오히려 val_loss가 2.6으로 올라갔다\n",
    "\n",
    "너무 많아도 문제지만 너무 적은 것 일까?? 적절한 embedding_size를 추측하는 방법이 검색해도 잘 나오지 않는다\n",
    "\n",
    "그나마 embedding에 대한 값을 구하는 블로그인데 넘모 어렵다\n",
    "\n",
    "https://paul-hyun.github.io/transformer-01/"
   ]
  },
  {
   "cell_type": "code",
   "execution_count": 10,
   "id": "33f97885",
   "metadata": {
    "scrolled": true
   },
   "outputs": [
    {
     "name": "stdout",
     "output_type": "stream",
     "text": [
      "Epoch 1/5\n",
      "3906/3906 [==============================] - 530s 130ms/step - loss: 3.1059 - val_loss: 2.8252\n",
      "Epoch 2/5\n",
      "3906/3906 [==============================] - 514s 132ms/step - loss: 2.5968 - val_loss: 2.5774\n",
      "Epoch 3/5\n",
      "3906/3906 [==============================] - 515s 132ms/step - loss: 2.1793 - val_loss: 2.4195\n",
      "Epoch 4/5\n",
      "3906/3906 [==============================] - 515s 132ms/step - loss: 1.8085 - val_loss: 2.3440\n",
      "Epoch 5/5\n",
      "3906/3906 [==============================] - 516s 132ms/step - loss: 1.5227 - val_loss: 2.3243\n"
     ]
    }
   ],
   "source": [
    "optimizer = tf.keras.optimizers.Adam()\n",
    "# optimizer = tf.keras.optimizers.RMSprop()\n",
    "loss = tf.keras.losses.SparseCategoricalCrossentropy(from_logits=True, reduction='none')\n",
    "\n",
    "model.compile(loss=loss, optimizer=optimizer)\n",
    "history = model.fit(enc_train, dec_train, epochs=5, validation_data=(enc_val, dec_val))"
   ]
  },
  {
   "cell_type": "markdown",
   "id": "c59590f3",
   "metadata": {},
   "source": [
    ">#### optimizer를 RMSprop로 바꾸는 방법도 있기에 한번 시도해 봤다\n",
    "RMSprop를 사용하여 최적화를 하는 방법이 더 잘 어울릴지 궁금하다  \n",
    "처음 시작은 3.0으로 시작해서 아주 좋은 시작이라고 생각했지만, val_loss의 감소하질 않는다 최저가 2.9이고 6번째 이후 부터는 다시 3.0으로 올라간다 마지막엔 3.1까지 올라갔다 영 파이다  \n",
    "이에 대한 문제는 embedding_size, hidden_size의 설정 혹은 지금의 데이터가 RMSprop과 맞지 않기 때문이지 않을까??   \n",
    "명확한 정답은 RMSprop을 잘 모르기 때문에 일단 지금의 경우는 adam 보다 떨어진다고 생각하고 넘어간다  \n",
    "\n",
    ">Epoch 5번째를 기준으로 그 이상 학습을 하면 학습 loss율은 하락하지만 테스트 loss율은 커지는 과대 적합이 일어나 epoch를 10에서 5로 줄여주었다  "
   ]
  },
  {
   "cell_type": "markdown",
   "id": "e7e8156f",
   "metadata": {},
   "source": [
    "한번에 돌리기에는 너무 많은 것 같아 batch_size를 1000으로 지정해줬다\n",
    "\n",
    "batch_size를 1000으로 지정해주니 125개씩만 훈련을 해서 너무 적은 훈련을 했다\n",
    "왜 그럴까??\n",
    "내가 이해하기로는 batch_size를 지정해주면 1000으로 나눠 전체적인 반복을 진행할 것이라 생각했지만 그렇지 않았다\n",
    "\n",
    "\n"
   ]
  },
  {
   "cell_type": "code",
   "execution_count": 11,
   "id": "a4614f02",
   "metadata": {},
   "outputs": [
    {
     "name": "stdout",
     "output_type": "stream",
     "text": [
      "Model: \"text_generator\"\n",
      "_________________________________________________________________\n",
      "Layer (type)                 Output Shape              Param #   \n",
      "=================================================================\n",
      "embedding (Embedding)        multiple                  5120256   \n",
      "_________________________________________________________________\n",
      "lstm (LSTM)                  multiple                  18882560  \n",
      "_________________________________________________________________\n",
      "lstm_1 (LSTM)                multiple                  33562624  \n",
      "_________________________________________________________________\n",
      "dense (Dense)                multiple                  40982049  \n",
      "=================================================================\n",
      "Total params: 98,547,489\n",
      "Trainable params: 98,547,489\n",
      "Non-trainable params: 0\n",
      "_________________________________________________________________\n"
     ]
    }
   ],
   "source": [
    "model.summary()"
   ]
  },
  {
   "cell_type": "code",
   "execution_count": 12,
   "id": "0d7d18f9",
   "metadata": {},
   "outputs": [],
   "source": [
    "def generate_text(model, tokenizer, init_sentence=\"<start>\", max_len=20):\n",
    "    test_input = tokenizer.texts_to_sequences([init_sentence])\n",
    "    test_tensor = tf.convert_to_tensor(test_input, dtype=tf.int64)\n",
    "    end_token = tokenizer.word_index[\"<end>\"]\n",
    "    \n",
    "    while True:\n",
    "        predict = model(test_tensor)\n",
    "        predict_word = tf.argmax(tf.nn.softmax(predict, axis=-1), axis=-1)[:, -1]\n",
    "        test_tensor = tf.concat([test_tensor, tf.expand_dims(predict_word, axis=0)], axis=-1)\n",
    "        if predict_word.numpy()[0] == end_token:\n",
    "            break\n",
    "        if test_tensor.shape[1] >= max_len: \n",
    "            break\n",
    "\n",
    "    generated = \"\"\n",
    "    for word_index in test_tensor[0].numpy():\n",
    "        generated += tokenizer.index_word[word_index] + \" \"\n",
    "\n",
    "    return generated"
   ]
  },
  {
   "cell_type": "code",
   "execution_count": 13,
   "id": "fa9aad7f",
   "metadata": {},
   "outputs": [
    {
     "data": {
      "text/plain": [
       "'<start> i love you , bye bye <end> '"
      ]
     },
     "execution_count": 13,
     "metadata": {},
     "output_type": "execute_result"
    }
   ],
   "source": [
    "generate_text(model, tokenizer, init_sentence=\"<start> i love\", max_len=20)"
   ]
  },
  {
   "cell_type": "markdown",
   "id": "fe60bc5b",
   "metadata": {},
   "source": [
    "참고 사이트\n",
    "\n",
    "https://nicola-ml.tistory.com/108\n"
   ]
  },
  {
   "cell_type": "code",
   "execution_count": 14,
   "id": "b8f2facf",
   "metadata": {},
   "outputs": [],
   "source": [
    "import matplotlib.pyplot as plt\n",
    "def plot_curve(epochs, hist, list_of_metrics):\n",
    "    \n",
    "    fig, ax = plt.subplots(1,2,figsize = (12, 8))\n",
    "    \n",
    "    for i in range(len(ax)):\n",
    "        ax[i].set_xlabel('Epochs')\n",
    "        ax[i].set_ylabel('Value')\n",
    "        \n",
    "        for n in range(len(list_of_metrics)):\n",
    "            if i == 0:\n",
    "                y = hist[list_of_metrics[n]]\n",
    "                if n == 0:\n",
    "                    ax[i].plot(epochs, y, label=\"train\")\n",
    "                else:\n",
    "                    ax[i].plot(epochs, y, label=\"val\")\n",
    "                ax[i].set_title('Loss')\n",
    "                ax[i].legend(loc='upper right')\n",
    "                if n == 1:\n",
    "                    break\n",
    "            else:\n",
    "                if n >= 2:\n",
    "                    y = hist[list_of_metrics[n]]\n",
    "                    if n == 2:\n",
    "                        ax[i].plot(epochs, y, label=\"train\")\n",
    "                    else:\n",
    "                        ax[i].plot(epochs, y, label=\"val\")\n",
    "                    ax[i].set_title('Accuracy')\n",
    "                    ax[i].legend(loc='lower right')\n",
    "                    \n",
    "    plt.show()"
   ]
  },
  {
   "cell_type": "code",
   "execution_count": 15,
   "id": "166bdeda",
   "metadata": {},
   "outputs": [
    {
     "data": {
      "image/png": "[encoded data removed]",
      "text/plain": [
       "<Figure size 864x576 with 2 Axes>"
      ]
     },
     "metadata": {
      "needs_background": "light"
     },
     "output_type": "display_data"
    }
   ],
   "source": [
    "plot_curve(history.epoch, history.history, ['loss', 'val_loss'])"
   ]
  },
  {
   "cell_type": "markdown",
   "id": "776036b0",
   "metadata": {},
   "source": [
    "위 코드는 서치하다가 발견한 시각화 코드이다 loss 값을 그래프로 확인한다\n",
    "(근데 그 블로그에는 표가 한개만 있는데 왜 두개지??)\n",
    "\n",
    "학습을 계속 진행하면 할 수록 오히려 과대적합되는 모양을 보인다(까먹고 캡쳐 안했다....)\n",
    "\n"
   ]
  },
  {
   "cell_type": "markdown",
   "id": "2d89216d",
   "metadata": {},
   "source": [
    "많은 학습하는데 너무 많은 시간을 소모하기 때문에 다양한 방법을 사용해보지는 못했다.(다른 노드도 해야되기 때문에)  \n",
    "(참고로 근 3주만에 깨달은 것이 노드를 변경하면 주피터 노트북의 환경도 바뀌기 때문에 연결이 끊기게 되더라..... 왜 맨날 끊기지 했는데)\n",
    "학습하는 동안 효율적으로 다른 노드를 공부하려던 계획이 무산되었다 빨리 로컬에 tensorflow 등을 설치하고 세팅할 필요성을 느끼고 있다.\n",
    "\n",
    "여러가지 시도를 해보면서 다양한 결과값을 얻고 싶었지만 시간 핑계를 대면서 마무리 한다.\n",
    "이번 의문들을 기록해둔채 다음에 다시 보면 더 충만한 지식으로 쉽게 문제를 해결하길 바라면서"
   ]
  },
  {
   "attachments": {
    "image.png": {
     "image/png": "[encoded data removed]"
    }
   },
   "cell_type": "markdown",
   "id": "882aeaf9",
   "metadata": {},
   "source": [
    "![image.png](attachment:image.png)\n"
   ]
  },
  {
   "cell_type": "markdown",
   "id": "659375b8",
   "metadata": {},
   "source": [
    "최저 val_loss 값이 약 2.32가 나온다"
   ]
  }
 ],
 "metadata": {
  "kernelspec": {
   "display_name": "Python 3 (ipykernel)",
   "language": "python",
   "name": "python3"
  },
  "language_info": {
   "codemirror_mode": {
    "name": "ipython",
    "version": 3
   },
   "file_extension": ".py",
   "mimetype": "text/x-python",
   "name": "python",
   "nbconvert_exporter": "python",
   "pygments_lexer": "ipython3",
   "version": "3.9.7"
  }
 },
 "nbformat": 4,
 "nbformat_minor": 5
}
